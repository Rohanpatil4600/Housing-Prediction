{
 "cells": [
  {
   "cell_type": "code",
   "execution_count": 111,
   "id": "adce89ed",
   "metadata": {},
   "outputs": [],
   "source": [
    "import numpy as np\n",
    "import pandas as pd\n",
    "import matplotlib.pyplot as plt\n",
    "import seaborn as sns\n"
   ]
  },
  {
   "cell_type": "code",
   "execution_count": 112,
   "id": "b6fa5bb4",
   "metadata": {},
   "outputs": [],
   "source": [
    "pd.set_option('display.max_columns', None)\n",
    "df = pd.read_csv('gurgaon_properties_cleaned_v2.csv').drop_duplicates()\n"
   ]
  },
  {
   "cell_type": "code",
   "execution_count": 113,
   "id": "ccf86366",
   "metadata": {},
   "outputs": [
    {
     "data": {
      "text/html": [
       "<div>\n",
       "<style scoped>\n",
       "    .dataframe tbody tr th:only-of-type {\n",
       "        vertical-align: middle;\n",
       "    }\n",
       "\n",
       "    .dataframe tbody tr th {\n",
       "        vertical-align: top;\n",
       "    }\n",
       "\n",
       "    .dataframe thead th {\n",
       "        text-align: right;\n",
       "    }\n",
       "</style>\n",
       "<table border=\"1\" class=\"dataframe\">\n",
       "  <thead>\n",
       "    <tr style=\"text-align: right;\">\n",
       "      <th></th>\n",
       "      <th>property_type</th>\n",
       "      <th>society</th>\n",
       "      <th>sector</th>\n",
       "      <th>price</th>\n",
       "      <th>price_per_sqft</th>\n",
       "      <th>area</th>\n",
       "      <th>areaWithType</th>\n",
       "      <th>bedRoom</th>\n",
       "      <th>bathroom</th>\n",
       "      <th>balcony</th>\n",
       "      <th>floorNum</th>\n",
       "      <th>facing</th>\n",
       "      <th>agePossession</th>\n",
       "      <th>super_built_up_area</th>\n",
       "      <th>built_up_area</th>\n",
       "      <th>carpet_area</th>\n",
       "      <th>study room</th>\n",
       "      <th>servant room</th>\n",
       "      <th>store room</th>\n",
       "      <th>pooja room</th>\n",
       "      <th>others</th>\n",
       "      <th>furnishing_type</th>\n",
       "      <th>luxury_score</th>\n",
       "    </tr>\n",
       "  </thead>\n",
       "  <tbody>\n",
       "    <tr>\n",
       "      <th>0</th>\n",
       "      <td>flat</td>\n",
       "      <td>vatika gurgaon</td>\n",
       "      <td>sector 83</td>\n",
       "      <td>1.40</td>\n",
       "      <td>6628.0</td>\n",
       "      <td>2112.25</td>\n",
       "      <td>Super Built up area 1735(161.19 sq.m.)</td>\n",
       "      <td>3</td>\n",
       "      <td>3</td>\n",
       "      <td>2</td>\n",
       "      <td>7.0</td>\n",
       "      <td>NaN</td>\n",
       "      <td>Relatively New</td>\n",
       "      <td>1735.0</td>\n",
       "      <td>NaN</td>\n",
       "      <td>NaN</td>\n",
       "      <td>0</td>\n",
       "      <td>0</td>\n",
       "      <td>0</td>\n",
       "      <td>0</td>\n",
       "      <td>0</td>\n",
       "      <td>1</td>\n",
       "      <td>74</td>\n",
       "    </tr>\n",
       "    <tr>\n",
       "      <th>1</th>\n",
       "      <td>flat</td>\n",
       "      <td>rof aalayas</td>\n",
       "      <td>sector 102</td>\n",
       "      <td>0.45</td>\n",
       "      <td>8404.0</td>\n",
       "      <td>535.46</td>\n",
       "      <td>Super Built up area 597(55.46 sq.m.)Carpet are...</td>\n",
       "      <td>2</td>\n",
       "      <td>2</td>\n",
       "      <td>1</td>\n",
       "      <td>14.0</td>\n",
       "      <td>North</td>\n",
       "      <td>Relatively New</td>\n",
       "      <td>597.0</td>\n",
       "      <td>NaN</td>\n",
       "      <td>535.4</td>\n",
       "      <td>0</td>\n",
       "      <td>0</td>\n",
       "      <td>0</td>\n",
       "      <td>0</td>\n",
       "      <td>0</td>\n",
       "      <td>2</td>\n",
       "      <td>57</td>\n",
       "    </tr>\n",
       "    <tr>\n",
       "      <th>2</th>\n",
       "      <td>flat</td>\n",
       "      <td>bestech park view residency</td>\n",
       "      <td>sector 2</td>\n",
       "      <td>1.40</td>\n",
       "      <td>7865.0</td>\n",
       "      <td>1780.04</td>\n",
       "      <td>Super Built up area 1780(165.37 sq.m.)</td>\n",
       "      <td>3</td>\n",
       "      <td>3</td>\n",
       "      <td>3+</td>\n",
       "      <td>6.0</td>\n",
       "      <td>North</td>\n",
       "      <td>Old Property</td>\n",
       "      <td>1780.0</td>\n",
       "      <td>NaN</td>\n",
       "      <td>NaN</td>\n",
       "      <td>0</td>\n",
       "      <td>0</td>\n",
       "      <td>0</td>\n",
       "      <td>0</td>\n",
       "      <td>0</td>\n",
       "      <td>2</td>\n",
       "      <td>107</td>\n",
       "    </tr>\n",
       "    <tr>\n",
       "      <th>3</th>\n",
       "      <td>flat</td>\n",
       "      <td>la vida by tata housing</td>\n",
       "      <td>sector 113</td>\n",
       "      <td>1.65</td>\n",
       "      <td>10449.0</td>\n",
       "      <td>1579.10</td>\n",
       "      <td>Super Built up area 1579(146.69 sq.m.)Built Up...</td>\n",
       "      <td>3</td>\n",
       "      <td>2</td>\n",
       "      <td>2</td>\n",
       "      <td>3.0</td>\n",
       "      <td>North-East</td>\n",
       "      <td>Relatively New</td>\n",
       "      <td>1579.0</td>\n",
       "      <td>1420.0</td>\n",
       "      <td>1220.0</td>\n",
       "      <td>0</td>\n",
       "      <td>0</td>\n",
       "      <td>0</td>\n",
       "      <td>0</td>\n",
       "      <td>0</td>\n",
       "      <td>0</td>\n",
       "      <td>49</td>\n",
       "    </tr>\n",
       "    <tr>\n",
       "      <th>4</th>\n",
       "      <td>flat</td>\n",
       "      <td>m3m heights</td>\n",
       "      <td>sector 65</td>\n",
       "      <td>2.15</td>\n",
       "      <td>15003.0</td>\n",
       "      <td>1433.05</td>\n",
       "      <td>Built Up area: 1433 (133.13 sq.m.)</td>\n",
       "      <td>2</td>\n",
       "      <td>2</td>\n",
       "      <td>3+</td>\n",
       "      <td>28.0</td>\n",
       "      <td>East</td>\n",
       "      <td>Undefined</td>\n",
       "      <td>NaN</td>\n",
       "      <td>1433.0</td>\n",
       "      <td>NaN</td>\n",
       "      <td>0</td>\n",
       "      <td>0</td>\n",
       "      <td>0</td>\n",
       "      <td>0</td>\n",
       "      <td>0</td>\n",
       "      <td>0</td>\n",
       "      <td>48</td>\n",
       "    </tr>\n",
       "  </tbody>\n",
       "</table>\n",
       "</div>"
      ],
      "text/plain": [
       "  property_type                      society      sector  price  \\\n",
       "0          flat               vatika gurgaon   sector 83   1.40   \n",
       "1          flat                  rof aalayas  sector 102   0.45   \n",
       "2          flat  bestech park view residency    sector 2   1.40   \n",
       "3          flat      la vida by tata housing  sector 113   1.65   \n",
       "4          flat                  m3m heights   sector 65   2.15   \n",
       "\n",
       "   price_per_sqft     area                                       areaWithType  \\\n",
       "0          6628.0  2112.25             Super Built up area 1735(161.19 sq.m.)   \n",
       "1          8404.0   535.46  Super Built up area 597(55.46 sq.m.)Carpet are...   \n",
       "2          7865.0  1780.04             Super Built up area 1780(165.37 sq.m.)   \n",
       "3         10449.0  1579.10  Super Built up area 1579(146.69 sq.m.)Built Up...   \n",
       "4         15003.0  1433.05                 Built Up area: 1433 (133.13 sq.m.)   \n",
       "\n",
       "   bedRoom  bathroom balcony  floorNum      facing   agePossession  \\\n",
       "0        3         3       2       7.0         NaN  Relatively New   \n",
       "1        2         2       1      14.0       North  Relatively New   \n",
       "2        3         3      3+       6.0       North    Old Property   \n",
       "3        3         2       2       3.0  North-East  Relatively New   \n",
       "4        2         2      3+      28.0        East       Undefined   \n",
       "\n",
       "   super_built_up_area  built_up_area  carpet_area  study room  servant room  \\\n",
       "0               1735.0            NaN          NaN           0             0   \n",
       "1                597.0            NaN        535.4           0             0   \n",
       "2               1780.0            NaN          NaN           0             0   \n",
       "3               1579.0         1420.0       1220.0           0             0   \n",
       "4                  NaN         1433.0          NaN           0             0   \n",
       "\n",
       "   store room  pooja room  others  furnishing_type  luxury_score  \n",
       "0           0           0       0                1            74  \n",
       "1           0           0       0                2            57  \n",
       "2           0           0       0                2           107  \n",
       "3           0           0       0                0            49  \n",
       "4           0           0       0                0            48  "
      ]
     },
     "execution_count": 113,
     "metadata": {},
     "output_type": "execute_result"
    }
   ],
   "source": [
    "df.head()"
   ]
  },
  {
   "cell_type": "code",
   "execution_count": 114,
   "id": "a09e38dd",
   "metadata": {},
   "outputs": [
    {
     "data": {
      "text/plain": [
       "(3678, 23)"
      ]
     },
     "execution_count": 114,
     "metadata": {},
     "output_type": "execute_result"
    }
   ],
   "source": [
    "df.shape"
   ]
  },
  {
   "cell_type": "code",
   "execution_count": 115,
   "id": "67291aca",
   "metadata": {},
   "outputs": [
    {
     "data": {
      "text/plain": [
       "Index(['property_type', 'society', 'sector', 'price', 'price_per_sqft', 'area',\n",
       "       'areaWithType', 'bedRoom', 'bathroom', 'balcony', 'floorNum', 'facing',\n",
       "       'agePossession', 'super_built_up_area', 'built_up_area', 'carpet_area',\n",
       "       'study room', 'servant room', 'store room', 'pooja room', 'others',\n",
       "       'furnishing_type', 'luxury_score'],\n",
       "      dtype='object')"
      ]
     },
     "execution_count": 115,
     "metadata": {},
     "output_type": "execute_result"
    }
   ],
   "source": [
    "df.columns\n"
   ]
  },
  {
   "cell_type": "code",
   "execution_count": 116,
   "id": "f0b212b0",
   "metadata": {},
   "outputs": [
    {
     "name": "stderr",
     "output_type": "stream",
     "text": [
      "/opt/anaconda3/lib/python3.8/site-packages/seaborn/distributions.py:2557: FutureWarning: `distplot` is a deprecated function and will be removed in a future version. Please adapt your code to use either `displot` (a figure-level function with similar flexibility) or `histplot` (an axes-level function for histograms).\n",
      "  warnings.warn(msg, FutureWarning)\n"
     ]
    },
    {
     "data": {
      "text/plain": [
       "<AxesSubplot:xlabel='price', ylabel='Density'>"
      ]
     },
     "execution_count": 116,
     "metadata": {},
     "output_type": "execute_result"
    },
    {
     "data": {
      "image/png": "[encoded data removed]",
      "text/plain": [
       "<Figure size 432x288 with 1 Axes>"
      ]
     },
     "metadata": {
      "needs_background": "light"
     },
     "output_type": "display_data"
    }
   ],
   "source": [
    "sns.distplot(df['price'])"
   ]
  },
  {
   "cell_type": "code",
   "execution_count": 117,
   "id": "9be49886",
   "metadata": {},
   "outputs": [
    {
     "data": {
      "text/plain": [
       "<AxesSubplot:xlabel='price'>"
      ]
     },
     "execution_count": 117,
     "metadata": {},
     "output_type": "execute_result"
    },
    {
     "data": {
      "image/png": "[encoded data removed]",
      "text/plain": [
       "<Figure size 432x288 with 1 Axes>"
      ]
     },
     "metadata": {
      "needs_background": "light"
     },
     "output_type": "display_data"
    }
   ],
   "source": [
    "sns.boxplot(x=df['price'])"
   ]
  },
  {
   "cell_type": "code",
   "execution_count": 118,
   "id": "eb2fb3fd",
   "metadata": {},
   "outputs": [],
   "source": [
    "# Calculate the IQR for the 'price' column\n",
    "Q1 = df['price'].quantile(0.25)\n",
    "Q3 = df['price'].quantile(0.75)\n",
    "IQR = Q3 - Q1\n",
    "\n",
    "# Define bounds for outliers\n",
    "lower_bound = Q1 - 1.5 * IQR\n",
    "upper_bound = Q3 + 1.5 * IQR"
   ]
  },
  {
   "cell_type": "code",
   "execution_count": 119,
   "id": "0d8faf35",
   "metadata": {},
   "outputs": [],
   "source": [
    "outliers=df[(df['price']<lower_bound)| (df['price']>upper_bound)]"
   ]
  },
  {
   "cell_type": "code",
   "execution_count": 120,
   "id": "35e5208a",
   "metadata": {},
   "outputs": [
    {
     "data": {
      "text/plain": [
       "425"
      ]
     },
     "execution_count": 120,
     "metadata": {},
     "output_type": "execute_result"
    }
   ],
   "source": [
    "num_outliers= outliers.shape[0]\n",
    "num_outliers"
   ]
  },
  {
   "cell_type": "code",
   "execution_count": 121,
   "id": "2527b25f",
   "metadata": {},
   "outputs": [
    {
     "data": {
      "text/plain": [
       "count    425.000000\n",
       "mean       9.235624\n",
       "std        4.065259\n",
       "min        5.460000\n",
       "25%        6.460000\n",
       "50%        8.000000\n",
       "75%       10.750000\n",
       "max       31.500000\n",
       "Name: price, dtype: float64"
      ]
     },
     "execution_count": 121,
     "metadata": {},
     "output_type": "execute_result"
    }
   ],
   "source": [
    "outliers_price_stats=outliers['price'].describe()\n",
    "outliers_price_stats"
   ]
  },
  {
   "cell_type": "code",
   "execution_count": 122,
   "id": "f24314cb",
   "metadata": {},
   "outputs": [
    {
     "data": {
      "text/html": [
       "<div>\n",
       "<style scoped>\n",
       "    .dataframe tbody tr th:only-of-type {\n",
       "        vertical-align: middle;\n",
       "    }\n",
       "\n",
       "    .dataframe tbody tr th {\n",
       "        vertical-align: top;\n",
       "    }\n",
       "\n",
       "    .dataframe thead th {\n",
       "        text-align: right;\n",
       "    }\n",
       "</style>\n",
       "<table border=\"1\" class=\"dataframe\">\n",
       "  <thead>\n",
       "    <tr style=\"text-align: right;\">\n",
       "      <th></th>\n",
       "      <th>property_type</th>\n",
       "      <th>society</th>\n",
       "      <th>sector</th>\n",
       "      <th>price</th>\n",
       "      <th>price_per_sqft</th>\n",
       "      <th>area</th>\n",
       "      <th>areaWithType</th>\n",
       "      <th>bedRoom</th>\n",
       "      <th>bathroom</th>\n",
       "      <th>balcony</th>\n",
       "      <th>floorNum</th>\n",
       "      <th>facing</th>\n",
       "      <th>agePossession</th>\n",
       "      <th>super_built_up_area</th>\n",
       "      <th>built_up_area</th>\n",
       "      <th>carpet_area</th>\n",
       "      <th>study room</th>\n",
       "      <th>servant room</th>\n",
       "      <th>store room</th>\n",
       "      <th>pooja room</th>\n",
       "      <th>others</th>\n",
       "      <th>furnishing_type</th>\n",
       "      <th>luxury_score</th>\n",
       "    </tr>\n",
       "  </thead>\n",
       "  <tbody>\n",
       "    <tr>\n",
       "      <th>954</th>\n",
       "      <td>house</td>\n",
       "      <td>arjun marg/ sector- 26 phase- 1/ golf course road</td>\n",
       "      <td>sector 26</td>\n",
       "      <td>31.50</td>\n",
       "      <td>35000.0</td>\n",
       "      <td>9000.0</td>\n",
       "      <td>Plot area 1000(836.13 sq.m.)</td>\n",
       "      <td>7</td>\n",
       "      <td>9</td>\n",
       "      <td>3+</td>\n",
       "      <td>3.0</td>\n",
       "      <td>North-East</td>\n",
       "      <td>Moderately Old</td>\n",
       "      <td>NaN</td>\n",
       "      <td>9000.0</td>\n",
       "      <td>NaN</td>\n",
       "      <td>1</td>\n",
       "      <td>1</td>\n",
       "      <td>1</td>\n",
       "      <td>1</td>\n",
       "      <td>0</td>\n",
       "      <td>2</td>\n",
       "      <td>74</td>\n",
       "    </tr>\n",
       "    <tr>\n",
       "      <th>1272</th>\n",
       "      <td>house</td>\n",
       "      <td>independent</td>\n",
       "      <td>sector 43</td>\n",
       "      <td>27.50</td>\n",
       "      <td>24366.0</td>\n",
       "      <td>11286.0</td>\n",
       "      <td>Plot area 1254(1048.5 sq.m.)</td>\n",
       "      <td>6</td>\n",
       "      <td>7</td>\n",
       "      <td>3+</td>\n",
       "      <td>3.0</td>\n",
       "      <td>North-East</td>\n",
       "      <td>Relatively New</td>\n",
       "      <td>NaN</td>\n",
       "      <td>11286.0</td>\n",
       "      <td>NaN</td>\n",
       "      <td>1</td>\n",
       "      <td>1</td>\n",
       "      <td>0</td>\n",
       "      <td>1</td>\n",
       "      <td>1</td>\n",
       "      <td>1</td>\n",
       "      <td>42</td>\n",
       "    </tr>\n",
       "    <tr>\n",
       "      <th>1502</th>\n",
       "      <td>house</td>\n",
       "      <td>dlf city plots</td>\n",
       "      <td>sector 26</td>\n",
       "      <td>26.00</td>\n",
       "      <td>57206.0</td>\n",
       "      <td>4545.0</td>\n",
       "      <td>Plot area 505(422.24 sq.m.)</td>\n",
       "      <td>6</td>\n",
       "      <td>7</td>\n",
       "      <td>3+</td>\n",
       "      <td>2.0</td>\n",
       "      <td>North-East</td>\n",
       "      <td>New Property</td>\n",
       "      <td>NaN</td>\n",
       "      <td>4545.0</td>\n",
       "      <td>NaN</td>\n",
       "      <td>1</td>\n",
       "      <td>1</td>\n",
       "      <td>0</td>\n",
       "      <td>1</td>\n",
       "      <td>1</td>\n",
       "      <td>1</td>\n",
       "      <td>138</td>\n",
       "    </tr>\n",
       "    <tr>\n",
       "      <th>977</th>\n",
       "      <td>house</td>\n",
       "      <td>independent</td>\n",
       "      <td>sector 26</td>\n",
       "      <td>26.00</td>\n",
       "      <td>82540.0</td>\n",
       "      <td>3150.0</td>\n",
       "      <td>Plot area 402(336.12 sq.m.)Built Up area: 400 ...</td>\n",
       "      <td>16</td>\n",
       "      <td>16</td>\n",
       "      <td>3+</td>\n",
       "      <td>4.0</td>\n",
       "      <td>North-West</td>\n",
       "      <td>New Property</td>\n",
       "      <td>NaN</td>\n",
       "      <td>400.0</td>\n",
       "      <td>350.0</td>\n",
       "      <td>1</td>\n",
       "      <td>1</td>\n",
       "      <td>1</td>\n",
       "      <td>1</td>\n",
       "      <td>0</td>\n",
       "      <td>2</td>\n",
       "      <td>72</td>\n",
       "    </tr>\n",
       "    <tr>\n",
       "      <th>3436</th>\n",
       "      <td>house</td>\n",
       "      <td>suncity township</td>\n",
       "      <td>sector 54</td>\n",
       "      <td>25.00</td>\n",
       "      <td>31111.0</td>\n",
       "      <td>8036.0</td>\n",
       "      <td>Plot area 1000(836.13 sq.m.)</td>\n",
       "      <td>4</td>\n",
       "      <td>4</td>\n",
       "      <td>3+</td>\n",
       "      <td>2.0</td>\n",
       "      <td>North</td>\n",
       "      <td>Moderately Old</td>\n",
       "      <td>NaN</td>\n",
       "      <td>1000.0</td>\n",
       "      <td>NaN</td>\n",
       "      <td>1</td>\n",
       "      <td>1</td>\n",
       "      <td>1</td>\n",
       "      <td>1</td>\n",
       "      <td>0</td>\n",
       "      <td>0</td>\n",
       "      <td>0</td>\n",
       "    </tr>\n",
       "    <tr>\n",
       "      <th>425</th>\n",
       "      <td>house</td>\n",
       "      <td>emaar the palm springs</td>\n",
       "      <td>sector 54</td>\n",
       "      <td>24.00</td>\n",
       "      <td>600000.0</td>\n",
       "      <td>400.0</td>\n",
       "      <td>Plot area 400(37.16 sq.m.)</td>\n",
       "      <td>5</td>\n",
       "      <td>5</td>\n",
       "      <td>2</td>\n",
       "      <td>1.0</td>\n",
       "      <td>North-East</td>\n",
       "      <td>Old Property</td>\n",
       "      <td>NaN</td>\n",
       "      <td>400.0</td>\n",
       "      <td>NaN</td>\n",
       "      <td>1</td>\n",
       "      <td>1</td>\n",
       "      <td>0</td>\n",
       "      <td>1</td>\n",
       "      <td>0</td>\n",
       "      <td>1</td>\n",
       "      <td>122</td>\n",
       "    </tr>\n",
       "    <tr>\n",
       "      <th>748</th>\n",
       "      <td>house</td>\n",
       "      <td>independent</td>\n",
       "      <td>sector 26</td>\n",
       "      <td>23.00</td>\n",
       "      <td>25556.0</td>\n",
       "      <td>9000.0</td>\n",
       "      <td>Plot area 1000(836.13 sq.m.)</td>\n",
       "      <td>4</td>\n",
       "      <td>4</td>\n",
       "      <td>3+</td>\n",
       "      <td>2.0</td>\n",
       "      <td>South-West</td>\n",
       "      <td>Relatively New</td>\n",
       "      <td>NaN</td>\n",
       "      <td>9000.0</td>\n",
       "      <td>NaN</td>\n",
       "      <td>1</td>\n",
       "      <td>1</td>\n",
       "      <td>1</td>\n",
       "      <td>1</td>\n",
       "      <td>0</td>\n",
       "      <td>1</td>\n",
       "      <td>145</td>\n",
       "    </tr>\n",
       "    <tr>\n",
       "      <th>3281</th>\n",
       "      <td>house</td>\n",
       "      <td>vipul tatvam villa</td>\n",
       "      <td>sector 48</td>\n",
       "      <td>22.00</td>\n",
       "      <td>26667.0</td>\n",
       "      <td>8250.0</td>\n",
       "      <td>Plot area 1000(836.13 sq.m.)</td>\n",
       "      <td>5</td>\n",
       "      <td>6</td>\n",
       "      <td>3</td>\n",
       "      <td>3.0</td>\n",
       "      <td>NaN</td>\n",
       "      <td>Moderately Old</td>\n",
       "      <td>NaN</td>\n",
       "      <td>1000.0</td>\n",
       "      <td>NaN</td>\n",
       "      <td>0</td>\n",
       "      <td>1</td>\n",
       "      <td>0</td>\n",
       "      <td>0</td>\n",
       "      <td>0</td>\n",
       "      <td>0</td>\n",
       "      <td>54</td>\n",
       "    </tr>\n",
       "    <tr>\n",
       "      <th>2519</th>\n",
       "      <td>house</td>\n",
       "      <td>luxury dlf city floors</td>\n",
       "      <td>sector 26</td>\n",
       "      <td>20.00</td>\n",
       "      <td>48889.0</td>\n",
       "      <td>4091.0</td>\n",
       "      <td>Plot area 500(418.06 sq.m.)</td>\n",
       "      <td>16</td>\n",
       "      <td>16</td>\n",
       "      <td>3+</td>\n",
       "      <td>4.0</td>\n",
       "      <td>NaN</td>\n",
       "      <td>New Property</td>\n",
       "      <td>NaN</td>\n",
       "      <td>500.0</td>\n",
       "      <td>NaN</td>\n",
       "      <td>0</td>\n",
       "      <td>1</td>\n",
       "      <td>0</td>\n",
       "      <td>0</td>\n",
       "      <td>0</td>\n",
       "      <td>1</td>\n",
       "      <td>31</td>\n",
       "    </tr>\n",
       "    <tr>\n",
       "      <th>1148</th>\n",
       "      <td>house</td>\n",
       "      <td>independent</td>\n",
       "      <td>sector 26</td>\n",
       "      <td>20.00</td>\n",
       "      <td>44444.0</td>\n",
       "      <td>4500.0</td>\n",
       "      <td>Plot area 500(418.06 sq.m.)</td>\n",
       "      <td>5</td>\n",
       "      <td>7</td>\n",
       "      <td>3+</td>\n",
       "      <td>3.0</td>\n",
       "      <td>West</td>\n",
       "      <td>Relatively New</td>\n",
       "      <td>NaN</td>\n",
       "      <td>4500.0</td>\n",
       "      <td>NaN</td>\n",
       "      <td>0</td>\n",
       "      <td>1</td>\n",
       "      <td>0</td>\n",
       "      <td>1</td>\n",
       "      <td>0</td>\n",
       "      <td>2</td>\n",
       "      <td>97</td>\n",
       "    </tr>\n",
       "    <tr>\n",
       "      <th>248</th>\n",
       "      <td>house</td>\n",
       "      <td>dlf city plots</td>\n",
       "      <td>sector 26</td>\n",
       "      <td>20.00</td>\n",
       "      <td>44265.0</td>\n",
       "      <td>4518.0</td>\n",
       "      <td>Plot area 502(419.74 sq.m.)</td>\n",
       "      <td>16</td>\n",
       "      <td>20</td>\n",
       "      <td>3+</td>\n",
       "      <td>4.0</td>\n",
       "      <td>North-East</td>\n",
       "      <td>New Property</td>\n",
       "      <td>NaN</td>\n",
       "      <td>4518.0</td>\n",
       "      <td>NaN</td>\n",
       "      <td>1</td>\n",
       "      <td>1</td>\n",
       "      <td>1</td>\n",
       "      <td>1</td>\n",
       "      <td>0</td>\n",
       "      <td>1</td>\n",
       "      <td>153</td>\n",
       "    </tr>\n",
       "    <tr>\n",
       "      <th>3150</th>\n",
       "      <td>house</td>\n",
       "      <td>vipul tatvam villa</td>\n",
       "      <td>sector 48</td>\n",
       "      <td>19.50</td>\n",
       "      <td>22222.0</td>\n",
       "      <td>8775.0</td>\n",
       "      <td>Plot area 975(815.22 sq.m.)</td>\n",
       "      <td>5</td>\n",
       "      <td>6</td>\n",
       "      <td>3</td>\n",
       "      <td>2.0</td>\n",
       "      <td>North</td>\n",
       "      <td>Moderately Old</td>\n",
       "      <td>NaN</td>\n",
       "      <td>8775.0</td>\n",
       "      <td>NaN</td>\n",
       "      <td>1</td>\n",
       "      <td>1</td>\n",
       "      <td>1</td>\n",
       "      <td>1</td>\n",
       "      <td>0</td>\n",
       "      <td>1</td>\n",
       "      <td>110</td>\n",
       "    </tr>\n",
       "    <tr>\n",
       "      <th>1986</th>\n",
       "      <td>house</td>\n",
       "      <td>independent</td>\n",
       "      <td>sector 2</td>\n",
       "      <td>19.50</td>\n",
       "      <td>27083.0</td>\n",
       "      <td>7200.0</td>\n",
       "      <td>Plot area 800(668.9 sq.m.)</td>\n",
       "      <td>8</td>\n",
       "      <td>9</td>\n",
       "      <td>3+</td>\n",
       "      <td>2.0</td>\n",
       "      <td>North</td>\n",
       "      <td>New Property</td>\n",
       "      <td>NaN</td>\n",
       "      <td>7200.0</td>\n",
       "      <td>NaN</td>\n",
       "      <td>1</td>\n",
       "      <td>1</td>\n",
       "      <td>0</td>\n",
       "      <td>1</td>\n",
       "      <td>0</td>\n",
       "      <td>0</td>\n",
       "      <td>122</td>\n",
       "    </tr>\n",
       "    <tr>\n",
       "      <th>1796</th>\n",
       "      <td>house</td>\n",
       "      <td>dlf city plots</td>\n",
       "      <td>sector 26</td>\n",
       "      <td>19.00</td>\n",
       "      <td>42054.0</td>\n",
       "      <td>4518.0</td>\n",
       "      <td>Plot area 502(419.74 sq.m.)</td>\n",
       "      <td>6</td>\n",
       "      <td>6</td>\n",
       "      <td>3</td>\n",
       "      <td>2.0</td>\n",
       "      <td>East</td>\n",
       "      <td>Relatively New</td>\n",
       "      <td>NaN</td>\n",
       "      <td>4518.0</td>\n",
       "      <td>NaN</td>\n",
       "      <td>1</td>\n",
       "      <td>1</td>\n",
       "      <td>0</td>\n",
       "      <td>0</td>\n",
       "      <td>0</td>\n",
       "      <td>1</td>\n",
       "      <td>121</td>\n",
       "    </tr>\n",
       "    <tr>\n",
       "      <th>857</th>\n",
       "      <td>house</td>\n",
       "      <td>emaar mgf marbella</td>\n",
       "      <td>sector 66</td>\n",
       "      <td>19.00</td>\n",
       "      <td>31666.0</td>\n",
       "      <td>6000.0</td>\n",
       "      <td>Plot area 9000(836.13 sq.m.)Carpet area: 6000 ...</td>\n",
       "      <td>5</td>\n",
       "      <td>6</td>\n",
       "      <td>3+</td>\n",
       "      <td>3.0</td>\n",
       "      <td>North-East</td>\n",
       "      <td>Relatively New</td>\n",
       "      <td>NaN</td>\n",
       "      <td>NaN</td>\n",
       "      <td>6000.0</td>\n",
       "      <td>0</td>\n",
       "      <td>1</td>\n",
       "      <td>1</td>\n",
       "      <td>1</td>\n",
       "      <td>0</td>\n",
       "      <td>1</td>\n",
       "      <td>110</td>\n",
       "    </tr>\n",
       "    <tr>\n",
       "      <th>3161</th>\n",
       "      <td>house</td>\n",
       "      <td>independent</td>\n",
       "      <td>sector 26</td>\n",
       "      <td>19.00</td>\n",
       "      <td>42222.0</td>\n",
       "      <td>4500.0</td>\n",
       "      <td>Plot area 500(418.06 sq.m.)</td>\n",
       "      <td>6</td>\n",
       "      <td>8</td>\n",
       "      <td>3+</td>\n",
       "      <td>3.0</td>\n",
       "      <td>East</td>\n",
       "      <td>Moderately Old</td>\n",
       "      <td>NaN</td>\n",
       "      <td>4500.0</td>\n",
       "      <td>NaN</td>\n",
       "      <td>1</td>\n",
       "      <td>1</td>\n",
       "      <td>1</td>\n",
       "      <td>1</td>\n",
       "      <td>0</td>\n",
       "      <td>1</td>\n",
       "      <td>103</td>\n",
       "    </tr>\n",
       "    <tr>\n",
       "      <th>1932</th>\n",
       "      <td>house</td>\n",
       "      <td>independent</td>\n",
       "      <td>sector 26</td>\n",
       "      <td>18.90</td>\n",
       "      <td>41833.0</td>\n",
       "      <td>4518.0</td>\n",
       "      <td>Plot area 502(419.74 sq.m.)</td>\n",
       "      <td>6</td>\n",
       "      <td>8</td>\n",
       "      <td>2</td>\n",
       "      <td>3.0</td>\n",
       "      <td>North-East</td>\n",
       "      <td>Relatively New</td>\n",
       "      <td>NaN</td>\n",
       "      <td>4518.0</td>\n",
       "      <td>NaN</td>\n",
       "      <td>1</td>\n",
       "      <td>1</td>\n",
       "      <td>1</td>\n",
       "      <td>1</td>\n",
       "      <td>0</td>\n",
       "      <td>1</td>\n",
       "      <td>120</td>\n",
       "    </tr>\n",
       "    <tr>\n",
       "      <th>1867</th>\n",
       "      <td>house</td>\n",
       "      <td>vipul tatvam villa</td>\n",
       "      <td>sector 48</td>\n",
       "      <td>18.50</td>\n",
       "      <td>26428.0</td>\n",
       "      <td>7000.0</td>\n",
       "      <td>Plot area 7000(650.32 sq.m.)</td>\n",
       "      <td>4</td>\n",
       "      <td>4</td>\n",
       "      <td>1</td>\n",
       "      <td>1.0</td>\n",
       "      <td>NaN</td>\n",
       "      <td>Moderately Old</td>\n",
       "      <td>NaN</td>\n",
       "      <td>7000.0</td>\n",
       "      <td>NaN</td>\n",
       "      <td>0</td>\n",
       "      <td>0</td>\n",
       "      <td>0</td>\n",
       "      <td>0</td>\n",
       "      <td>0</td>\n",
       "      <td>0</td>\n",
       "      <td>30</td>\n",
       "    </tr>\n",
       "    <tr>\n",
       "      <th>2093</th>\n",
       "      <td>house</td>\n",
       "      <td>independent</td>\n",
       "      <td>sector 26</td>\n",
       "      <td>18.40</td>\n",
       "      <td>1859.0</td>\n",
       "      <td>98978.0</td>\n",
       "      <td>Plot area 502(419.74 sq.m.)Carpet area: 11000 ...</td>\n",
       "      <td>6</td>\n",
       "      <td>8</td>\n",
       "      <td>3+</td>\n",
       "      <td>4.0</td>\n",
       "      <td>South</td>\n",
       "      <td>Relatively New</td>\n",
       "      <td>NaN</td>\n",
       "      <td>NaN</td>\n",
       "      <td>11000.0</td>\n",
       "      <td>0</td>\n",
       "      <td>1</td>\n",
       "      <td>1</td>\n",
       "      <td>1</td>\n",
       "      <td>0</td>\n",
       "      <td>1</td>\n",
       "      <td>60</td>\n",
       "    </tr>\n",
       "    <tr>\n",
       "      <th>3207</th>\n",
       "      <td>house</td>\n",
       "      <td>independent</td>\n",
       "      <td>sector 26</td>\n",
       "      <td>18.25</td>\n",
       "      <td>18250.0</td>\n",
       "      <td>10000.0</td>\n",
       "      <td>Plot area 550(51.1 sq.m.)Carpet area: 10000 sq...</td>\n",
       "      <td>7</td>\n",
       "      <td>9</td>\n",
       "      <td>3+</td>\n",
       "      <td>4.0</td>\n",
       "      <td>East</td>\n",
       "      <td>Relatively New</td>\n",
       "      <td>NaN</td>\n",
       "      <td>NaN</td>\n",
       "      <td>10000.0</td>\n",
       "      <td>1</td>\n",
       "      <td>1</td>\n",
       "      <td>1</td>\n",
       "      <td>1</td>\n",
       "      <td>0</td>\n",
       "      <td>1</td>\n",
       "      <td>77</td>\n",
       "    </tr>\n",
       "  </tbody>\n",
       "</table>\n",
       "</div>"
      ],
      "text/plain": [
       "     property_type                                            society  \\\n",
       "954          house  arjun marg/ sector- 26 phase- 1/ golf course road   \n",
       "1272         house                                        independent   \n",
       "1502         house                                     dlf city plots   \n",
       "977          house                                        independent   \n",
       "3436         house                                   suncity township   \n",
       "425          house                             emaar the palm springs   \n",
       "748          house                                        independent   \n",
       "3281         house                                 vipul tatvam villa   \n",
       "2519         house                             luxury dlf city floors   \n",
       "1148         house                                        independent   \n",
       "248          house                                     dlf city plots   \n",
       "3150         house                                 vipul tatvam villa   \n",
       "1986         house                                        independent   \n",
       "1796         house                                     dlf city plots   \n",
       "857          house                                 emaar mgf marbella   \n",
       "3161         house                                        independent   \n",
       "1932         house                                        independent   \n",
       "1867         house                                 vipul tatvam villa   \n",
       "2093         house                                        independent   \n",
       "3207         house                                        independent   \n",
       "\n",
       "         sector  price  price_per_sqft     area  \\\n",
       "954   sector 26  31.50         35000.0   9000.0   \n",
       "1272  sector 43  27.50         24366.0  11286.0   \n",
       "1502  sector 26  26.00         57206.0   4545.0   \n",
       "977   sector 26  26.00         82540.0   3150.0   \n",
       "3436  sector 54  25.00         31111.0   8036.0   \n",
       "425   sector 54  24.00        600000.0    400.0   \n",
       "748   sector 26  23.00         25556.0   9000.0   \n",
       "3281  sector 48  22.00         26667.0   8250.0   \n",
       "2519  sector 26  20.00         48889.0   4091.0   \n",
       "1148  sector 26  20.00         44444.0   4500.0   \n",
       "248   sector 26  20.00         44265.0   4518.0   \n",
       "3150  sector 48  19.50         22222.0   8775.0   \n",
       "1986   sector 2  19.50         27083.0   7200.0   \n",
       "1796  sector 26  19.00         42054.0   4518.0   \n",
       "857   sector 66  19.00         31666.0   6000.0   \n",
       "3161  sector 26  19.00         42222.0   4500.0   \n",
       "1932  sector 26  18.90         41833.0   4518.0   \n",
       "1867  sector 48  18.50         26428.0   7000.0   \n",
       "2093  sector 26  18.40          1859.0  98978.0   \n",
       "3207  sector 26  18.25         18250.0  10000.0   \n",
       "\n",
       "                                           areaWithType  bedRoom  bathroom  \\\n",
       "954                        Plot area 1000(836.13 sq.m.)        7         9   \n",
       "1272                       Plot area 1254(1048.5 sq.m.)        6         7   \n",
       "1502                        Plot area 505(422.24 sq.m.)        6         7   \n",
       "977   Plot area 402(336.12 sq.m.)Built Up area: 400 ...       16        16   \n",
       "3436                       Plot area 1000(836.13 sq.m.)        4         4   \n",
       "425                          Plot area 400(37.16 sq.m.)        5         5   \n",
       "748                        Plot area 1000(836.13 sq.m.)        4         4   \n",
       "3281                       Plot area 1000(836.13 sq.m.)        5         6   \n",
       "2519                        Plot area 500(418.06 sq.m.)       16        16   \n",
       "1148                        Plot area 500(418.06 sq.m.)        5         7   \n",
       "248                         Plot area 502(419.74 sq.m.)       16        20   \n",
       "3150                        Plot area 975(815.22 sq.m.)        5         6   \n",
       "1986                         Plot area 800(668.9 sq.m.)        8         9   \n",
       "1796                        Plot area 502(419.74 sq.m.)        6         6   \n",
       "857   Plot area 9000(836.13 sq.m.)Carpet area: 6000 ...        5         6   \n",
       "3161                        Plot area 500(418.06 sq.m.)        6         8   \n",
       "1932                        Plot area 502(419.74 sq.m.)        6         8   \n",
       "1867                       Plot area 7000(650.32 sq.m.)        4         4   \n",
       "2093  Plot area 502(419.74 sq.m.)Carpet area: 11000 ...        6         8   \n",
       "3207  Plot area 550(51.1 sq.m.)Carpet area: 10000 sq...        7         9   \n",
       "\n",
       "     balcony  floorNum      facing   agePossession  super_built_up_area  \\\n",
       "954       3+       3.0  North-East  Moderately Old                  NaN   \n",
       "1272      3+       3.0  North-East  Relatively New                  NaN   \n",
       "1502      3+       2.0  North-East    New Property                  NaN   \n",
       "977       3+       4.0  North-West    New Property                  NaN   \n",
       "3436      3+       2.0       North  Moderately Old                  NaN   \n",
       "425        2       1.0  North-East    Old Property                  NaN   \n",
       "748       3+       2.0  South-West  Relatively New                  NaN   \n",
       "3281       3       3.0         NaN  Moderately Old                  NaN   \n",
       "2519      3+       4.0         NaN    New Property                  NaN   \n",
       "1148      3+       3.0        West  Relatively New                  NaN   \n",
       "248       3+       4.0  North-East    New Property                  NaN   \n",
       "3150       3       2.0       North  Moderately Old                  NaN   \n",
       "1986      3+       2.0       North    New Property                  NaN   \n",
       "1796       3       2.0        East  Relatively New                  NaN   \n",
       "857       3+       3.0  North-East  Relatively New                  NaN   \n",
       "3161      3+       3.0        East  Moderately Old                  NaN   \n",
       "1932       2       3.0  North-East  Relatively New                  NaN   \n",
       "1867       1       1.0         NaN  Moderately Old                  NaN   \n",
       "2093      3+       4.0       South  Relatively New                  NaN   \n",
       "3207      3+       4.0        East  Relatively New                  NaN   \n",
       "\n",
       "      built_up_area  carpet_area  study room  servant room  store room  \\\n",
       "954          9000.0          NaN           1             1           1   \n",
       "1272        11286.0          NaN           1             1           0   \n",
       "1502         4545.0          NaN           1             1           0   \n",
       "977           400.0        350.0           1             1           1   \n",
       "3436         1000.0          NaN           1             1           1   \n",
       "425           400.0          NaN           1             1           0   \n",
       "748          9000.0          NaN           1             1           1   \n",
       "3281         1000.0          NaN           0             1           0   \n",
       "2519          500.0          NaN           0             1           0   \n",
       "1148         4500.0          NaN           0             1           0   \n",
       "248          4518.0          NaN           1             1           1   \n",
       "3150         8775.0          NaN           1             1           1   \n",
       "1986         7200.0          NaN           1             1           0   \n",
       "1796         4518.0          NaN           1             1           0   \n",
       "857             NaN       6000.0           0             1           1   \n",
       "3161         4500.0          NaN           1             1           1   \n",
       "1932         4518.0          NaN           1             1           1   \n",
       "1867         7000.0          NaN           0             0           0   \n",
       "2093            NaN      11000.0           0             1           1   \n",
       "3207            NaN      10000.0           1             1           1   \n",
       "\n",
       "      pooja room  others  furnishing_type  luxury_score  \n",
       "954            1       0                2            74  \n",
       "1272           1       1                1            42  \n",
       "1502           1       1                1           138  \n",
       "977            1       0                2            72  \n",
       "3436           1       0                0             0  \n",
       "425            1       0                1           122  \n",
       "748            1       0                1           145  \n",
       "3281           0       0                0            54  \n",
       "2519           0       0                1            31  \n",
       "1148           1       0                2            97  \n",
       "248            1       0                1           153  \n",
       "3150           1       0                1           110  \n",
       "1986           1       0                0           122  \n",
       "1796           0       0                1           121  \n",
       "857            1       0                1           110  \n",
       "3161           1       0                1           103  \n",
       "1932           1       0                1           120  \n",
       "1867           0       0                0            30  \n",
       "2093           1       0                1            60  \n",
       "3207           1       0                1            77  "
      ]
     },
     "execution_count": 122,
     "metadata": {},
     "output_type": "execute_result"
    }
   ],
   "source": [
    "outliers.sort_values('price',ascending=False).head(20)"
   ]
  },
  {
   "cell_type": "markdown",
   "id": "8b2878c8",
   "metadata": {},
   "source": [
    "# price_per_sqft"
   ]
  },
  {
   "cell_type": "code",
   "execution_count": 123,
   "id": "16280eaf",
   "metadata": {},
   "outputs": [
    {
     "name": "stderr",
     "output_type": "stream",
     "text": [
      "/opt/anaconda3/lib/python3.8/site-packages/seaborn/distributions.py:2557: FutureWarning: `distplot` is a deprecated function and will be removed in a future version. Please adapt your code to use either `displot` (a figure-level function with similar flexibility) or `histplot` (an axes-level function for histograms).\n",
      "  warnings.warn(msg, FutureWarning)\n"
     ]
    },
    {
     "data": {
      "text/plain": [
       "<AxesSubplot:xlabel='price_per_sqft', ylabel='Density'>"
      ]
     },
     "execution_count": 123,
     "metadata": {},
     "output_type": "execute_result"
    },
    {
     "data": {
      "image/png": "[encoded data removed]",
      "text/plain": [
       "<Figure size 432x288 with 1 Axes>"
      ]
     },
     "metadata": {
      "needs_background": "light"
     },
     "output_type": "display_data"
    }
   ],
   "source": [
    "sns.distplot(df['price_per_sqft'])"
   ]
  },
  {
   "cell_type": "code",
   "execution_count": 124,
   "id": "10d319bd",
   "metadata": {},
   "outputs": [
    {
     "data": {
      "text/plain": [
       "<AxesSubplot:xlabel='price_per_sqft'>"
      ]
     },
     "execution_count": 124,
     "metadata": {},
     "output_type": "execute_result"
    },
    {
     "data": {
      "image/png": "[encoded data removed]",
      "text/plain": [
       "<Figure size 432x288 with 1 Axes>"
      ]
     },
     "metadata": {
      "needs_background": "light"
     },
     "output_type": "display_data"
    }
   ],
   "source": [
    "sns.boxplot(x=df['price_per_sqft'])"
   ]
  },
  {
   "cell_type": "code",
   "execution_count": 125,
   "id": "66f924f4",
   "metadata": {},
   "outputs": [
    {
     "data": {
      "text/plain": [
       "(425,\n",
       " count       354.000000\n",
       " mean      52592.612994\n",
       " std       61150.458507\n",
       " min       24489.000000\n",
       " 25%       28208.250000\n",
       " 50%       33368.500000\n",
       " 75%       41982.250000\n",
       " max      600000.000000\n",
       " Name: price_per_sqft, dtype: float64)"
      ]
     },
     "execution_count": 125,
     "metadata": {},
     "output_type": "execute_result"
    }
   ],
   "source": [
    "# Calculate the IQR for the 'price_per_sqft' column\n",
    "Q1 = df['price_per_sqft'].quantile(0.25)\n",
    "Q3 = df['price_per_sqft'].quantile(0.75)\n",
    "IQR = Q3 - Q1\n",
    "\n",
    "# Define bounds for outliers\n",
    "lower_bound = Q1 - 1.5 * IQR\n",
    "upper_bound = Q3 + 1.5 * IQR\n",
    "outliers_sqft=df[(df['price_per_sqft']<lower_bound)| (df['price_per_sqft']>upper_bound)]\n",
    "num_outliers= outliers.shape[0]\n",
    "outliers_sqft_stats = outliers_sqft['price_per_sqft'].describe()\n",
    "num_outliers,outliers_sqft_stats"
   ]
  },
  {
   "cell_type": "code",
   "execution_count": 126,
   "id": "eb7be6f9",
   "metadata": {},
   "outputs": [
    {
     "name": "stderr",
     "output_type": "stream",
     "text": [
      "<ipython-input-126-12db194a50ab>:1: SettingWithCopyWarning: \n",
      "A value is trying to be set on a copy of a slice from a DataFrame.\n",
      "Try using .loc[row_indexer,col_indexer] = value instead\n",
      "\n",
      "See the caveats in the documentation: https://pandas.pydata.org/pandas-docs/stable/user_guide/indexing.html#returning-a-view-versus-a-copy\n",
      "  outliers_sqft['area'] = outliers_sqft['area'].apply(lambda x:x*9 if x<1000 else x)\n",
      "<ipython-input-126-12db194a50ab>:2: SettingWithCopyWarning: \n",
      "A value is trying to be set on a copy of a slice from a DataFrame.\n",
      "Try using .loc[row_indexer,col_indexer] = value instead\n",
      "\n",
      "See the caveats in the documentation: https://pandas.pydata.org/pandas-docs/stable/user_guide/indexing.html#returning-a-view-versus-a-copy\n",
      "  outliers_sqft['price_per_sqft'] = round((outliers_sqft['price']*10000000)/outliers_sqft['area'])\n"
     ]
    }
   ],
   "source": [
    "outliers_sqft['area'] = outliers_sqft['area'].apply(lambda x:x*9 if x<1000 else x)\n",
    "outliers_sqft['price_per_sqft'] = round((outliers_sqft['price']*10000000)/outliers_sqft['area'])\n"
   ]
  },
  {
   "cell_type": "code",
   "execution_count": 127,
   "id": "6d95f9f3",
   "metadata": {},
   "outputs": [
    {
     "data": {
      "text/plain": [
       "count      354.000000\n",
       "mean     29357.836158\n",
       "std      12403.074329\n",
       "min       2723.000000\n",
       "25%      25562.000000\n",
       "50%      29870.500000\n",
       "75%      35549.500000\n",
       "max      82540.000000\n",
       "Name: price_per_sqft, dtype: float64"
      ]
     },
     "execution_count": 127,
     "metadata": {},
     "output_type": "execute_result"
    }
   ],
   "source": [
    "outliers_sqft['price_per_sqft'].describe()"
   ]
  },
  {
   "cell_type": "code",
   "execution_count": 128,
   "id": "fdc5924e",
   "metadata": {},
   "outputs": [],
   "source": [
    "df.update(outliers_sqft)"
   ]
  },
  {
   "cell_type": "code",
   "execution_count": 129,
   "id": "d3698dff",
   "metadata": {},
   "outputs": [
    {
     "name": "stderr",
     "output_type": "stream",
     "text": [
      "/opt/anaconda3/lib/python3.8/site-packages/seaborn/distributions.py:2557: FutureWarning: `distplot` is a deprecated function and will be removed in a future version. Please adapt your code to use either `displot` (a figure-level function with similar flexibility) or `histplot` (an axes-level function for histograms).\n",
      "  warnings.warn(msg, FutureWarning)\n"
     ]
    },
    {
     "data": {
      "text/plain": [
       "<AxesSubplot:xlabel='price_per_sqft', ylabel='Density'>"
      ]
     },
     "execution_count": 129,
     "metadata": {},
     "output_type": "execute_result"
    },
    {
     "data": {
      "image/png": "[encoded data removed]",
      "text/plain": [
       "<Figure size 432x288 with 1 Axes>"
      ]
     },
     "metadata": {
      "needs_background": "light"
     },
     "output_type": "display_data"
    }
   ],
   "source": [
    "sns.distplot(df['price_per_sqft'])\n"
   ]
  },
  {
   "cell_type": "code",
   "execution_count": 130,
   "id": "8f9045cb",
   "metadata": {},
   "outputs": [
    {
     "data": {
      "text/plain": [
       "<AxesSubplot:xlabel='price_per_sqft'>"
      ]
     },
     "execution_count": 130,
     "metadata": {},
     "output_type": "execute_result"
    },
    {
     "data": {
      "image/png": "[encoded data removed]",
      "text/plain": [
       "<Figure size 432x288 with 1 Axes>"
      ]
     },
     "metadata": {
      "needs_background": "light"
     },
     "output_type": "display_data"
    }
   ],
   "source": [
    "sns.boxplot(x=df['price_per_sqft'])\n"
   ]
  },
  {
   "cell_type": "code",
   "execution_count": 131,
   "id": "e636a097",
   "metadata": {},
   "outputs": [],
   "source": [
    "df=df[df['price_per_sqft']<=50000]"
   ]
  },
  {
   "cell_type": "code",
   "execution_count": 132,
   "id": "5fe1c065",
   "metadata": {},
   "outputs": [
    {
     "name": "stderr",
     "output_type": "stream",
     "text": [
      "/opt/anaconda3/lib/python3.8/site-packages/seaborn/distributions.py:2557: FutureWarning: `distplot` is a deprecated function and will be removed in a future version. Please adapt your code to use either `displot` (a figure-level function with similar flexibility) or `histplot` (an axes-level function for histograms).\n",
      "  warnings.warn(msg, FutureWarning)\n"
     ]
    },
    {
     "data": {
      "text/plain": [
       "<AxesSubplot:xlabel='price_per_sqft', ylabel='Density'>"
      ]
     },
     "execution_count": 132,
     "metadata": {},
     "output_type": "execute_result"
    },
    {
     "data": {
      "image/png": "[encoded data removed]",
      "text/plain": [
       "<Figure size 432x288 with 1 Axes>"
      ]
     },
     "metadata": {
      "needs_background": "light"
     },
     "output_type": "display_data"
    }
   ],
   "source": [
    "sns.distplot(df['price_per_sqft'])\n"
   ]
  },
  {
   "cell_type": "code",
   "execution_count": 133,
   "id": "db81ba6f",
   "metadata": {},
   "outputs": [
    {
     "data": {
      "text/plain": [
       "<AxesSubplot:xlabel='price_per_sqft'>"
      ]
     },
     "execution_count": 133,
     "metadata": {},
     "output_type": "execute_result"
    },
    {
     "data": {
      "image/png": "[encoded data removed]",
      "text/plain": [
       "<Figure size 432x288 with 1 Axes>"
      ]
     },
     "metadata": {
      "needs_background": "light"
     },
     "output_type": "display_data"
    }
   ],
   "source": [
    "sns.boxplot(x=df['price_per_sqft'])\n"
   ]
  },
  {
   "cell_type": "markdown",
   "id": "4390eaf7",
   "metadata": {},
   "source": [
    "# area"
   ]
  },
  {
   "cell_type": "code",
   "execution_count": 134,
   "id": "b9eeea06",
   "metadata": {},
   "outputs": [
    {
     "name": "stderr",
     "output_type": "stream",
     "text": [
      "/opt/anaconda3/lib/python3.8/site-packages/seaborn/distributions.py:2557: FutureWarning: `distplot` is a deprecated function and will be removed in a future version. Please adapt your code to use either `displot` (a figure-level function with similar flexibility) or `histplot` (an axes-level function for histograms).\n",
      "  warnings.warn(msg, FutureWarning)\n"
     ]
    },
    {
     "data": {
      "text/plain": [
       "<AxesSubplot:xlabel='area', ylabel='Density'>"
      ]
     },
     "execution_count": 134,
     "metadata": {},
     "output_type": "execute_result"
    },
    {
     "data": {
      "image/png": "[encoded data removed]",
      "text/plain": [
       "<Figure size 432x288 with 1 Axes>"
      ]
     },
     "metadata": {
      "needs_background": "light"
     },
     "output_type": "display_data"
    }
   ],
   "source": [
    "sns.distplot(df['area'])\n"
   ]
  },
  {
   "cell_type": "code",
   "execution_count": 135,
   "id": "85240d7e",
   "metadata": {},
   "outputs": [
    {
     "data": {
      "text/plain": [
       "<AxesSubplot:xlabel='area'>"
      ]
     },
     "execution_count": 135,
     "metadata": {},
     "output_type": "execute_result"
    },
    {
     "data": {
      "image/png": "[encoded data removed]",
      "text/plain": [
       "<Figure size 432x288 with 1 Axes>"
      ]
     },
     "metadata": {
      "needs_background": "light"
     },
     "output_type": "display_data"
    }
   ],
   "source": [
    "sns.boxplot(x=df['area'])\n"
   ]
  },
  {
   "cell_type": "code",
   "execution_count": 136,
   "id": "856f96ec",
   "metadata": {},
   "outputs": [
    {
     "data": {
      "text/plain": [
       "count      3648.000000\n",
       "mean       2947.408284\n",
       "std       23205.019811\n",
       "min         145.000000\n",
       "25%        1262.022500\n",
       "50%        1750.070000\n",
       "75%        2349.965000\n",
       "max      875000.000000\n",
       "Name: area, dtype: float64"
      ]
     },
     "execution_count": 136,
     "metadata": {},
     "output_type": "execute_result"
    }
   ],
   "source": [
    "df['area'].describe()"
   ]
  },
  {
   "cell_type": "code",
   "execution_count": 137,
   "id": "3f6b4589",
   "metadata": {},
   "outputs": [
    {
     "data": {
      "text/html": [
       "<div>\n",
       "<style scoped>\n",
       "    .dataframe tbody tr th:only-of-type {\n",
       "        vertical-align: middle;\n",
       "    }\n",
       "\n",
       "    .dataframe tbody tr th {\n",
       "        vertical-align: top;\n",
       "    }\n",
       "\n",
       "    .dataframe thead th {\n",
       "        text-align: right;\n",
       "    }\n",
       "</style>\n",
       "<table border=\"1\" class=\"dataframe\">\n",
       "  <thead>\n",
       "    <tr style=\"text-align: right;\">\n",
       "      <th></th>\n",
       "      <th>property_type</th>\n",
       "      <th>society</th>\n",
       "      <th>sector</th>\n",
       "      <th>price</th>\n",
       "      <th>price_per_sqft</th>\n",
       "      <th>area</th>\n",
       "      <th>areaWithType</th>\n",
       "      <th>bedRoom</th>\n",
       "      <th>bathroom</th>\n",
       "      <th>balcony</th>\n",
       "      <th>floorNum</th>\n",
       "      <th>facing</th>\n",
       "      <th>agePossession</th>\n",
       "      <th>super_built_up_area</th>\n",
       "      <th>built_up_area</th>\n",
       "      <th>carpet_area</th>\n",
       "      <th>study room</th>\n",
       "      <th>servant room</th>\n",
       "      <th>store room</th>\n",
       "      <th>pooja room</th>\n",
       "      <th>others</th>\n",
       "      <th>furnishing_type</th>\n",
       "      <th>luxury_score</th>\n",
       "    </tr>\n",
       "  </thead>\n",
       "  <tbody>\n",
       "    <tr>\n",
       "      <th>846</th>\n",
       "      <td>flat</td>\n",
       "      <td>signature the roselia</td>\n",
       "      <td>sector 95</td>\n",
       "      <td>0.45</td>\n",
       "      <td>7.0</td>\n",
       "      <td>642857.14</td>\n",
       "      <td>Carpet area: 569243 (52884.41 sq.m.)</td>\n",
       "      <td>2.0</td>\n",
       "      <td>2.0</td>\n",
       "      <td>2</td>\n",
       "      <td>2.0</td>\n",
       "      <td>South-West</td>\n",
       "      <td>New Property</td>\n",
       "      <td>NaN</td>\n",
       "      <td>NaN</td>\n",
       "      <td>569243.0</td>\n",
       "      <td>0.0</td>\n",
       "      <td>0.0</td>\n",
       "      <td>0.0</td>\n",
       "      <td>0.0</td>\n",
       "      <td>0.0</td>\n",
       "      <td>0.0</td>\n",
       "      <td>76.0</td>\n",
       "    </tr>\n",
       "    <tr>\n",
       "      <th>893</th>\n",
       "      <td>flat</td>\n",
       "      <td>signature global solera 2</td>\n",
       "      <td>sector 107</td>\n",
       "      <td>0.51</td>\n",
       "      <td>9.0</td>\n",
       "      <td>566666.67</td>\n",
       "      <td>Carpet area: 514396 (47788.95 sq.m.)</td>\n",
       "      <td>2.0</td>\n",
       "      <td>2.0</td>\n",
       "      <td>1</td>\n",
       "      <td>3.0</td>\n",
       "      <td>North</td>\n",
       "      <td>New Property</td>\n",
       "      <td>NaN</td>\n",
       "      <td>NaN</td>\n",
       "      <td>514396.0</td>\n",
       "      <td>0.0</td>\n",
       "      <td>0.0</td>\n",
       "      <td>0.0</td>\n",
       "      <td>0.0</td>\n",
       "      <td>0.0</td>\n",
       "      <td>0.0</td>\n",
       "      <td>44.0</td>\n",
       "    </tr>\n",
       "    <tr>\n",
       "      <th>1207</th>\n",
       "      <td>flat</td>\n",
       "      <td>hcbs sports ville</td>\n",
       "      <td>sohna road</td>\n",
       "      <td>0.35</td>\n",
       "      <td>4.0</td>\n",
       "      <td>875000.00</td>\n",
       "      <td>Built Up area: 737147 (68483.2 sq.m.)</td>\n",
       "      <td>2.0</td>\n",
       "      <td>2.0</td>\n",
       "      <td>2</td>\n",
       "      <td>8.0</td>\n",
       "      <td>NaN</td>\n",
       "      <td>Relatively New</td>\n",
       "      <td>NaN</td>\n",
       "      <td>737147.0</td>\n",
       "      <td>NaN</td>\n",
       "      <td>0.0</td>\n",
       "      <td>0.0</td>\n",
       "      <td>0.0</td>\n",
       "      <td>0.0</td>\n",
       "      <td>0.0</td>\n",
       "      <td>2.0</td>\n",
       "      <td>44.0</td>\n",
       "    </tr>\n",
       "    <tr>\n",
       "      <th>1856</th>\n",
       "      <td>flat</td>\n",
       "      <td>ramsons kshitij</td>\n",
       "      <td>sector 95</td>\n",
       "      <td>0.31</td>\n",
       "      <td>5.0</td>\n",
       "      <td>620000.00</td>\n",
       "      <td>Carpet area: 607936 (56479.1 sq.m.)</td>\n",
       "      <td>2.0</td>\n",
       "      <td>2.0</td>\n",
       "      <td>1</td>\n",
       "      <td>1.0</td>\n",
       "      <td>North-East</td>\n",
       "      <td>Relatively New</td>\n",
       "      <td>NaN</td>\n",
       "      <td>NaN</td>\n",
       "      <td>607936.0</td>\n",
       "      <td>1.0</td>\n",
       "      <td>0.0</td>\n",
       "      <td>0.0</td>\n",
       "      <td>0.0</td>\n",
       "      <td>1.0</td>\n",
       "      <td>0.0</td>\n",
       "      <td>65.0</td>\n",
       "    </tr>\n",
       "    <tr>\n",
       "      <th>3155</th>\n",
       "      <td>house</td>\n",
       "      <td>independent</td>\n",
       "      <td>sector 50</td>\n",
       "      <td>5.00</td>\n",
       "      <td>232.0</td>\n",
       "      <td>215517.00</td>\n",
       "      <td>Plot area 2(1011.71 sq.m.)</td>\n",
       "      <td>6.0</td>\n",
       "      <td>5.0</td>\n",
       "      <td>3+</td>\n",
       "      <td>2.0</td>\n",
       "      <td>NaN</td>\n",
       "      <td>New Property</td>\n",
       "      <td>NaN</td>\n",
       "      <td>2.0</td>\n",
       "      <td>NaN</td>\n",
       "      <td>1.0</td>\n",
       "      <td>1.0</td>\n",
       "      <td>0.0</td>\n",
       "      <td>1.0</td>\n",
       "      <td>1.0</td>\n",
       "      <td>1.0</td>\n",
       "      <td>0.0</td>\n",
       "    </tr>\n",
       "  </tbody>\n",
       "</table>\n",
       "</div>"
      ],
      "text/plain": [
       "     property_type                    society      sector  price  \\\n",
       "846           flat      signature the roselia   sector 95   0.45   \n",
       "893           flat  signature global solera 2  sector 107   0.51   \n",
       "1207          flat          hcbs sports ville  sohna road   0.35   \n",
       "1856          flat            ramsons kshitij   sector 95   0.31   \n",
       "3155         house                independent   sector 50   5.00   \n",
       "\n",
       "      price_per_sqft       area                           areaWithType  \\\n",
       "846              7.0  642857.14   Carpet area: 569243 (52884.41 sq.m.)   \n",
       "893              9.0  566666.67   Carpet area: 514396 (47788.95 sq.m.)   \n",
       "1207             4.0  875000.00  Built Up area: 737147 (68483.2 sq.m.)   \n",
       "1856             5.0  620000.00    Carpet area: 607936 (56479.1 sq.m.)   \n",
       "3155           232.0  215517.00             Plot area 2(1011.71 sq.m.)   \n",
       "\n",
       "      bedRoom  bathroom balcony  floorNum      facing   agePossession  \\\n",
       "846       2.0       2.0       2       2.0  South-West    New Property   \n",
       "893       2.0       2.0       1       3.0       North    New Property   \n",
       "1207      2.0       2.0       2       8.0         NaN  Relatively New   \n",
       "1856      2.0       2.0       1       1.0  North-East  Relatively New   \n",
       "3155      6.0       5.0      3+       2.0         NaN    New Property   \n",
       "\n",
       "      super_built_up_area  built_up_area  carpet_area  study room  \\\n",
       "846                   NaN            NaN     569243.0         0.0   \n",
       "893                   NaN            NaN     514396.0         0.0   \n",
       "1207                  NaN       737147.0          NaN         0.0   \n",
       "1856                  NaN            NaN     607936.0         1.0   \n",
       "3155                  NaN            2.0          NaN         1.0   \n",
       "\n",
       "      servant room  store room  pooja room  others  furnishing_type  \\\n",
       "846            0.0         0.0         0.0     0.0              0.0   \n",
       "893            0.0         0.0         0.0     0.0              0.0   \n",
       "1207           0.0         0.0         0.0     0.0              2.0   \n",
       "1856           0.0         0.0         0.0     1.0              0.0   \n",
       "3155           1.0         0.0         1.0     1.0              1.0   \n",
       "\n",
       "      luxury_score  \n",
       "846           76.0  \n",
       "893           44.0  \n",
       "1207          44.0  \n",
       "1856          65.0  \n",
       "3155           0.0  "
      ]
     },
     "execution_count": 137,
     "metadata": {},
     "output_type": "execute_result"
    }
   ],
   "source": [
    "df[df['area']>100000]"
   ]
  },
  {
   "cell_type": "code",
   "execution_count": 138,
   "id": "ba1ba6cc",
   "metadata": {},
   "outputs": [],
   "source": [
    "df=df[df['area']<100000]"
   ]
  },
  {
   "cell_type": "code",
   "execution_count": 139,
   "id": "cd48c624",
   "metadata": {},
   "outputs": [
    {
     "data": {
      "text/plain": [
       "(3643, 23)"
      ]
     },
     "execution_count": 139,
     "metadata": {},
     "output_type": "execute_result"
    }
   ],
   "source": [
    "df.shape"
   ]
  },
  {
   "cell_type": "code",
   "execution_count": 140,
   "id": "d5f0b7a7",
   "metadata": {},
   "outputs": [
    {
     "name": "stderr",
     "output_type": "stream",
     "text": [
      "/opt/anaconda3/lib/python3.8/site-packages/seaborn/distributions.py:2557: FutureWarning: `distplot` is a deprecated function and will be removed in a future version. Please adapt your code to use either `displot` (a figure-level function with similar flexibility) or `histplot` (an axes-level function for histograms).\n",
      "  warnings.warn(msg, FutureWarning)\n"
     ]
    },
    {
     "data": {
      "text/plain": [
       "<AxesSubplot:xlabel='area', ylabel='Density'>"
      ]
     },
     "execution_count": 140,
     "metadata": {},
     "output_type": "execute_result"
    },
    {
     "data": {
      "image/png": "[encoded data removed]",
      "text/plain": [
       "<Figure size 432x288 with 1 Axes>"
      ]
     },
     "metadata": {
      "needs_background": "light"
     },
     "output_type": "display_data"
    }
   ],
   "source": [
    "sns.distplot(df['area'])\n"
   ]
  },
  {
   "cell_type": "code",
   "execution_count": 141,
   "id": "74ed7bef",
   "metadata": {},
   "outputs": [
    {
     "data": {
      "text/plain": [
       "<AxesSubplot:xlabel='area'>"
      ]
     },
     "execution_count": 141,
     "metadata": {},
     "output_type": "execute_result"
    },
    {
     "data": {
      "image/png": "[encoded data removed]",
      "text/plain": [
       "<Figure size 432x288 with 1 Axes>"
      ]
     },
     "metadata": {
      "needs_background": "light"
     },
     "output_type": "display_data"
    }
   ],
   "source": [
    "sns.boxplot(x=df['area'])\n"
   ]
  },
  {
   "cell_type": "code",
   "execution_count": 142,
   "id": "ddae7c21",
   "metadata": {},
   "outputs": [
    {
     "data": {
      "text/plain": [
       "Int64Index([2093, 1478, 1066, 2759, 2782, 1740, 3569,  739, 2318,   89, 2371,\n",
       "            3575, 2361, 3424, 3196,  526, 1580, 1272, 2638, 1598],\n",
       "           dtype='int64')"
      ]
     },
     "execution_count": 142,
     "metadata": {},
     "output_type": "execute_result"
    }
   ],
   "source": [
    "df[df['area']>10000].sort_values('area',ascending=False).index"
   ]
  },
  {
   "cell_type": "code",
   "execution_count": 143,
   "id": "7edc4899",
   "metadata": {},
   "outputs": [],
   "source": [
    "df.drop(index=[2093, 1478, 1066, 2759, 2782, 1740, 3569,  739, 2318,   89, 2371,\n",
    "            3575, 2361, 3424, 3196,  526, 1580, 1272, 2638, 1598],inplace=True)"
   ]
  },
  {
   "cell_type": "code",
   "execution_count": 144,
   "id": "dcabfc79",
   "metadata": {},
   "outputs": [
    {
     "name": "stderr",
     "output_type": "stream",
     "text": [
      "/opt/anaconda3/lib/python3.8/site-packages/seaborn/distributions.py:2557: FutureWarning: `distplot` is a deprecated function and will be removed in a future version. Please adapt your code to use either `displot` (a figure-level function with similar flexibility) or `histplot` (an axes-level function for histograms).\n",
      "  warnings.warn(msg, FutureWarning)\n"
     ]
    },
    {
     "data": {
      "text/plain": [
       "<AxesSubplot:xlabel='area', ylabel='Density'>"
      ]
     },
     "execution_count": 144,
     "metadata": {},
     "output_type": "execute_result"
    },
    {
     "data": {
      "image/png": "[encoded data removed]",
      "text/plain": [
       "<Figure size 432x288 with 1 Axes>"
      ]
     },
     "metadata": {
      "needs_background": "light"
     },
     "output_type": "display_data"
    }
   ],
   "source": [
    "sns.distplot(df['area'])\n"
   ]
  },
  {
   "cell_type": "code",
   "execution_count": 145,
   "id": "6d166a9a",
   "metadata": {},
   "outputs": [
    {
     "data": {
      "text/plain": [
       "<AxesSubplot:xlabel='area'>"
      ]
     },
     "execution_count": 145,
     "metadata": {},
     "output_type": "execute_result"
    },
    {
     "data": {
      "image/png": "[encoded data removed]",
      "text/plain": [
       "<Figure size 432x288 with 1 Axes>"
      ]
     },
     "metadata": {
      "needs_background": "light"
     },
     "output_type": "display_data"
    }
   ],
   "source": [
    "sns.boxplot(x=df['area'])\n"
   ]
  },
  {
   "cell_type": "code",
   "execution_count": 146,
   "id": "4f6f3dba",
   "metadata": {},
   "outputs": [
    {
     "data": {
      "text/plain": [
       "count     3623.000000\n",
       "mean      1940.275360\n",
       "std       1183.662798\n",
       "min        145.000000\n",
       "25%       1260.050000\n",
       "50%       1745.020000\n",
       "75%       2322.620000\n",
       "max      10000.000000\n",
       "Name: area, dtype: float64"
      ]
     },
     "execution_count": 146,
     "metadata": {},
     "output_type": "execute_result"
    }
   ],
   "source": [
    "df['area'].describe()"
   ]
  },
  {
   "cell_type": "markdown",
   "id": "c3f85b09",
   "metadata": {},
   "source": [
    "# Bedroom"
   ]
  },
  {
   "cell_type": "code",
   "execution_count": 147,
   "id": "51740dfb",
   "metadata": {},
   "outputs": [
    {
     "name": "stderr",
     "output_type": "stream",
     "text": [
      "/opt/anaconda3/lib/python3.8/site-packages/seaborn/distributions.py:2557: FutureWarning: `distplot` is a deprecated function and will be removed in a future version. Please adapt your code to use either `displot` (a figure-level function with similar flexibility) or `histplot` (an axes-level function for histograms).\n",
      "  warnings.warn(msg, FutureWarning)\n"
     ]
    },
    {
     "data": {
      "text/plain": [
       "<AxesSubplot:xlabel='bedRoom', ylabel='Density'>"
      ]
     },
     "execution_count": 147,
     "metadata": {},
     "output_type": "execute_result"
    },
    {
     "data": {
      "image/png": "[encoded data removed]",
      "text/plain": [
       "<Figure size 432x288 with 1 Axes>"
      ]
     },
     "metadata": {
      "needs_background": "light"
     },
     "output_type": "display_data"
    }
   ],
   "source": [
    "sns.distplot(df['bedRoom'])\n"
   ]
  },
  {
   "cell_type": "code",
   "execution_count": 148,
   "id": "a9ea48ad",
   "metadata": {},
   "outputs": [
    {
     "data": {
      "text/plain": [
       "<AxesSubplot:xlabel='bedRoom'>"
      ]
     },
     "execution_count": 148,
     "metadata": {},
     "output_type": "execute_result"
    },
    {
     "data": {
      "image/png": "[encoded data removed]",
      "text/plain": [
       "<Figure size 432x288 with 1 Axes>"
      ]
     },
     "metadata": {
      "needs_background": "light"
     },
     "output_type": "display_data"
    }
   ],
   "source": [
    "sns.boxplot(x=df['bedRoom'])\n"
   ]
  },
  {
   "cell_type": "code",
   "execution_count": 149,
   "id": "c88ed6e4",
   "metadata": {},
   "outputs": [
    {
     "data": {
      "text/plain": [
       "count    3623.000000\n",
       "mean        3.324593\n",
       "std         1.818692\n",
       "min         1.000000\n",
       "25%         2.000000\n",
       "50%         3.000000\n",
       "75%         4.000000\n",
       "max        21.000000\n",
       "Name: bedRoom, dtype: float64"
      ]
     },
     "execution_count": 149,
     "metadata": {},
     "output_type": "execute_result"
    }
   ],
   "source": [
    "df['bedRoom'].describe()"
   ]
  },
  {
   "cell_type": "code",
   "execution_count": 150,
   "id": "c8ee9d43",
   "metadata": {},
   "outputs": [
    {
     "data": {
      "text/html": [
       "<div>\n",
       "<style scoped>\n",
       "    .dataframe tbody tr th:only-of-type {\n",
       "        vertical-align: middle;\n",
       "    }\n",
       "\n",
       "    .dataframe tbody tr th {\n",
       "        vertical-align: top;\n",
       "    }\n",
       "\n",
       "    .dataframe thead th {\n",
       "        text-align: right;\n",
       "    }\n",
       "</style>\n",
       "<table border=\"1\" class=\"dataframe\">\n",
       "  <thead>\n",
       "    <tr style=\"text-align: right;\">\n",
       "      <th></th>\n",
       "      <th>property_type</th>\n",
       "      <th>society</th>\n",
       "      <th>sector</th>\n",
       "      <th>price</th>\n",
       "      <th>price_per_sqft</th>\n",
       "      <th>area</th>\n",
       "      <th>areaWithType</th>\n",
       "      <th>bedRoom</th>\n",
       "      <th>bathroom</th>\n",
       "      <th>balcony</th>\n",
       "      <th>floorNum</th>\n",
       "      <th>facing</th>\n",
       "      <th>agePossession</th>\n",
       "      <th>super_built_up_area</th>\n",
       "      <th>built_up_area</th>\n",
       "      <th>carpet_area</th>\n",
       "      <th>study room</th>\n",
       "      <th>servant room</th>\n",
       "      <th>store room</th>\n",
       "      <th>pooja room</th>\n",
       "      <th>others</th>\n",
       "      <th>furnishing_type</th>\n",
       "      <th>luxury_score</th>\n",
       "    </tr>\n",
       "  </thead>\n",
       "  <tbody>\n",
       "    <tr>\n",
       "      <th>1250</th>\n",
       "      <td>house</td>\n",
       "      <td>independent</td>\n",
       "      <td>sector 54</td>\n",
       "      <td>5.00</td>\n",
       "      <td>43066.0</td>\n",
       "      <td>1161.0</td>\n",
       "      <td>Plot area 129(107.86 sq.m.)</td>\n",
       "      <td>21.0</td>\n",
       "      <td>21.0</td>\n",
       "      <td>3+</td>\n",
       "      <td>5.0</td>\n",
       "      <td>North</td>\n",
       "      <td>Relatively New</td>\n",
       "      <td>NaN</td>\n",
       "      <td>1161.0</td>\n",
       "      <td>NaN</td>\n",
       "      <td>0.0</td>\n",
       "      <td>1.0</td>\n",
       "      <td>0.0</td>\n",
       "      <td>0.0</td>\n",
       "      <td>0.0</td>\n",
       "      <td>2.0</td>\n",
       "      <td>49.0</td>\n",
       "    </tr>\n",
       "    <tr>\n",
       "      <th>155</th>\n",
       "      <td>house</td>\n",
       "      <td>independent</td>\n",
       "      <td>sector 43</td>\n",
       "      <td>4.50</td>\n",
       "      <td>39062.0</td>\n",
       "      <td>1152.0</td>\n",
       "      <td>Plot area 128(107.02 sq.m.)</td>\n",
       "      <td>20.0</td>\n",
       "      <td>20.0</td>\n",
       "      <td>3+</td>\n",
       "      <td>4.0</td>\n",
       "      <td>East</td>\n",
       "      <td>Relatively New</td>\n",
       "      <td>NaN</td>\n",
       "      <td>1152.0</td>\n",
       "      <td>NaN</td>\n",
       "      <td>0.0</td>\n",
       "      <td>1.0</td>\n",
       "      <td>0.0</td>\n",
       "      <td>0.0</td>\n",
       "      <td>0.0</td>\n",
       "      <td>2.0</td>\n",
       "      <td>22.0</td>\n",
       "    </tr>\n",
       "    <tr>\n",
       "      <th>2595</th>\n",
       "      <td>house</td>\n",
       "      <td>independent</td>\n",
       "      <td>sector 17a</td>\n",
       "      <td>3.87</td>\n",
       "      <td>5160.0</td>\n",
       "      <td>7500.0</td>\n",
       "      <td>Plot area 1623(150.78 sq.m.)Built Up area: 750...</td>\n",
       "      <td>19.0</td>\n",
       "      <td>17.0</td>\n",
       "      <td>3+</td>\n",
       "      <td>5.0</td>\n",
       "      <td>North-West</td>\n",
       "      <td>Relatively New</td>\n",
       "      <td>NaN</td>\n",
       "      <td>7500.0</td>\n",
       "      <td>NaN</td>\n",
       "      <td>1.0</td>\n",
       "      <td>0.0</td>\n",
       "      <td>1.0</td>\n",
       "      <td>0.0</td>\n",
       "      <td>0.0</td>\n",
       "      <td>0.0</td>\n",
       "      <td>68.0</td>\n",
       "    </tr>\n",
       "    <tr>\n",
       "      <th>2768</th>\n",
       "      <td>house</td>\n",
       "      <td>independent</td>\n",
       "      <td>sector 17a</td>\n",
       "      <td>3.93</td>\n",
       "      <td>24214.0</td>\n",
       "      <td>1623.0</td>\n",
       "      <td>Plot area 1623(150.78 sq.m.)Built Up area: 162...</td>\n",
       "      <td>19.0</td>\n",
       "      <td>17.0</td>\n",
       "      <td>3</td>\n",
       "      <td>4.0</td>\n",
       "      <td>North-West</td>\n",
       "      <td>Relatively New</td>\n",
       "      <td>NaN</td>\n",
       "      <td>1622.0</td>\n",
       "      <td>NaN</td>\n",
       "      <td>1.0</td>\n",
       "      <td>1.0</td>\n",
       "      <td>1.0</td>\n",
       "      <td>1.0</td>\n",
       "      <td>0.0</td>\n",
       "      <td>0.0</td>\n",
       "      <td>74.0</td>\n",
       "    </tr>\n",
       "    <tr>\n",
       "      <th>650</th>\n",
       "      <td>house</td>\n",
       "      <td>independent</td>\n",
       "      <td>sector 54</td>\n",
       "      <td>5.50</td>\n",
       "      <td>38194.0</td>\n",
       "      <td>1440.0</td>\n",
       "      <td>Plot area 160(133.78 sq.m.)</td>\n",
       "      <td>18.0</td>\n",
       "      <td>18.0</td>\n",
       "      <td>3+</td>\n",
       "      <td>4.0</td>\n",
       "      <td>South-West</td>\n",
       "      <td>Relatively New</td>\n",
       "      <td>NaN</td>\n",
       "      <td>1440.0</td>\n",
       "      <td>NaN</td>\n",
       "      <td>0.0</td>\n",
       "      <td>1.0</td>\n",
       "      <td>0.0</td>\n",
       "      <td>0.0</td>\n",
       "      <td>0.0</td>\n",
       "      <td>2.0</td>\n",
       "      <td>70.0</td>\n",
       "    </tr>\n",
       "    <tr>\n",
       "      <th>273</th>\n",
       "      <td>house</td>\n",
       "      <td>private house</td>\n",
       "      <td>sector 55</td>\n",
       "      <td>7.05</td>\n",
       "      <td>46906.0</td>\n",
       "      <td>1503.0</td>\n",
       "      <td>Plot area 167(139.63 sq.m.)</td>\n",
       "      <td>18.0</td>\n",
       "      <td>18.0</td>\n",
       "      <td>3+</td>\n",
       "      <td>4.0</td>\n",
       "      <td>North-East</td>\n",
       "      <td>Relatively New</td>\n",
       "      <td>NaN</td>\n",
       "      <td>1503.0</td>\n",
       "      <td>NaN</td>\n",
       "      <td>0.0</td>\n",
       "      <td>0.0</td>\n",
       "      <td>0.0</td>\n",
       "      <td>0.0</td>\n",
       "      <td>1.0</td>\n",
       "      <td>2.0</td>\n",
       "      <td>57.0</td>\n",
       "    </tr>\n",
       "    <tr>\n",
       "      <th>2519</th>\n",
       "      <td>house</td>\n",
       "      <td>luxury dlf city floors</td>\n",
       "      <td>sector 26</td>\n",
       "      <td>20.00</td>\n",
       "      <td>48888.0</td>\n",
       "      <td>4091.0</td>\n",
       "      <td>Plot area 500(418.06 sq.m.)</td>\n",
       "      <td>16.0</td>\n",
       "      <td>16.0</td>\n",
       "      <td>3+</td>\n",
       "      <td>4.0</td>\n",
       "      <td>NaN</td>\n",
       "      <td>New Property</td>\n",
       "      <td>NaN</td>\n",
       "      <td>500.0</td>\n",
       "      <td>NaN</td>\n",
       "      <td>0.0</td>\n",
       "      <td>1.0</td>\n",
       "      <td>0.0</td>\n",
       "      <td>0.0</td>\n",
       "      <td>0.0</td>\n",
       "      <td>1.0</td>\n",
       "      <td>31.0</td>\n",
       "    </tr>\n",
       "    <tr>\n",
       "      <th>3228</th>\n",
       "      <td>house</td>\n",
       "      <td>independent</td>\n",
       "      <td>sector 40</td>\n",
       "      <td>12.00</td>\n",
       "      <td>38986.0</td>\n",
       "      <td>3078.0</td>\n",
       "      <td>Plot area 342(285.96 sq.m.)</td>\n",
       "      <td>16.0</td>\n",
       "      <td>16.0</td>\n",
       "      <td>3+</td>\n",
       "      <td>4.0</td>\n",
       "      <td>NaN</td>\n",
       "      <td>New Property</td>\n",
       "      <td>NaN</td>\n",
       "      <td>3078.0</td>\n",
       "      <td>NaN</td>\n",
       "      <td>1.0</td>\n",
       "      <td>1.0</td>\n",
       "      <td>1.0</td>\n",
       "      <td>1.0</td>\n",
       "      <td>0.0</td>\n",
       "      <td>1.0</td>\n",
       "      <td>0.0</td>\n",
       "    </tr>\n",
       "    <tr>\n",
       "      <th>1181</th>\n",
       "      <td>house</td>\n",
       "      <td>independent</td>\n",
       "      <td>sector 11</td>\n",
       "      <td>4.50</td>\n",
       "      <td>25000.0</td>\n",
       "      <td>1800.0</td>\n",
       "      <td>Plot area 200(167.23 sq.m.)</td>\n",
       "      <td>16.0</td>\n",
       "      <td>16.0</td>\n",
       "      <td>3+</td>\n",
       "      <td>4.0</td>\n",
       "      <td>South</td>\n",
       "      <td>Relatively New</td>\n",
       "      <td>NaN</td>\n",
       "      <td>1800.0</td>\n",
       "      <td>NaN</td>\n",
       "      <td>0.0</td>\n",
       "      <td>0.0</td>\n",
       "      <td>0.0</td>\n",
       "      <td>0.0</td>\n",
       "      <td>0.0</td>\n",
       "      <td>1.0</td>\n",
       "      <td>20.0</td>\n",
       "    </tr>\n",
       "    <tr>\n",
       "      <th>3432</th>\n",
       "      <td>house</td>\n",
       "      <td>independent</td>\n",
       "      <td>sector 56</td>\n",
       "      <td>12.39</td>\n",
       "      <td>45889.0</td>\n",
       "      <td>2700.0</td>\n",
       "      <td>Plot area 300(250.84 sq.m.)</td>\n",
       "      <td>16.0</td>\n",
       "      <td>18.0</td>\n",
       "      <td>3+</td>\n",
       "      <td>4.0</td>\n",
       "      <td>North-East</td>\n",
       "      <td>New Property</td>\n",
       "      <td>NaN</td>\n",
       "      <td>2700.0</td>\n",
       "      <td>NaN</td>\n",
       "      <td>0.0</td>\n",
       "      <td>1.0</td>\n",
       "      <td>0.0</td>\n",
       "      <td>1.0</td>\n",
       "      <td>0.0</td>\n",
       "      <td>1.0</td>\n",
       "      <td>49.0</td>\n",
       "    </tr>\n",
       "    <tr>\n",
       "      <th>946</th>\n",
       "      <td>house</td>\n",
       "      <td>independent</td>\n",
       "      <td>sector 55</td>\n",
       "      <td>9.19</td>\n",
       "      <td>34037.0</td>\n",
       "      <td>2700.0</td>\n",
       "      <td>Plot area 300(250.84 sq.m.)</td>\n",
       "      <td>16.0</td>\n",
       "      <td>18.0</td>\n",
       "      <td>2</td>\n",
       "      <td>4.0</td>\n",
       "      <td>West</td>\n",
       "      <td>New Property</td>\n",
       "      <td>NaN</td>\n",
       "      <td>2700.0</td>\n",
       "      <td>NaN</td>\n",
       "      <td>0.0</td>\n",
       "      <td>1.0</td>\n",
       "      <td>0.0</td>\n",
       "      <td>1.0</td>\n",
       "      <td>0.0</td>\n",
       "      <td>1.0</td>\n",
       "      <td>49.0</td>\n",
       "    </tr>\n",
       "    <tr>\n",
       "      <th>490</th>\n",
       "      <td>house</td>\n",
       "      <td>independent</td>\n",
       "      <td>sector 43</td>\n",
       "      <td>13.50</td>\n",
       "      <td>50000.0</td>\n",
       "      <td>2700.0</td>\n",
       "      <td>Plot area 300(250.84 sq.m.)</td>\n",
       "      <td>16.0</td>\n",
       "      <td>16.0</td>\n",
       "      <td>3+</td>\n",
       "      <td>4.0</td>\n",
       "      <td>North-West</td>\n",
       "      <td>Relatively New</td>\n",
       "      <td>NaN</td>\n",
       "      <td>2700.0</td>\n",
       "      <td>NaN</td>\n",
       "      <td>1.0</td>\n",
       "      <td>1.0</td>\n",
       "      <td>0.0</td>\n",
       "      <td>1.0</td>\n",
       "      <td>1.0</td>\n",
       "      <td>0.0</td>\n",
       "      <td>41.0</td>\n",
       "    </tr>\n",
       "    <tr>\n",
       "      <th>248</th>\n",
       "      <td>house</td>\n",
       "      <td>dlf city plots</td>\n",
       "      <td>sector 26</td>\n",
       "      <td>20.00</td>\n",
       "      <td>44267.0</td>\n",
       "      <td>4518.0</td>\n",
       "      <td>Plot area 502(419.74 sq.m.)</td>\n",
       "      <td>16.0</td>\n",
       "      <td>20.0</td>\n",
       "      <td>3+</td>\n",
       "      <td>4.0</td>\n",
       "      <td>North-East</td>\n",
       "      <td>New Property</td>\n",
       "      <td>NaN</td>\n",
       "      <td>4518.0</td>\n",
       "      <td>NaN</td>\n",
       "      <td>1.0</td>\n",
       "      <td>1.0</td>\n",
       "      <td>1.0</td>\n",
       "      <td>1.0</td>\n",
       "      <td>0.0</td>\n",
       "      <td>1.0</td>\n",
       "      <td>153.0</td>\n",
       "    </tr>\n",
       "    <tr>\n",
       "      <th>3225</th>\n",
       "      <td>house</td>\n",
       "      <td>independent</td>\n",
       "      <td>sector 24</td>\n",
       "      <td>3.20</td>\n",
       "      <td>6584.0</td>\n",
       "      <td>4860.0</td>\n",
       "      <td>Plot area 60(50.17 sq.m.)</td>\n",
       "      <td>14.0</td>\n",
       "      <td>14.0</td>\n",
       "      <td>3+</td>\n",
       "      <td>6.0</td>\n",
       "      <td>West</td>\n",
       "      <td>Relatively New</td>\n",
       "      <td>NaN</td>\n",
       "      <td>540.0</td>\n",
       "      <td>NaN</td>\n",
       "      <td>0.0</td>\n",
       "      <td>0.0</td>\n",
       "      <td>0.0</td>\n",
       "      <td>0.0</td>\n",
       "      <td>0.0</td>\n",
       "      <td>2.0</td>\n",
       "      <td>15.0</td>\n",
       "    </tr>\n",
       "    <tr>\n",
       "      <th>530</th>\n",
       "      <td>house</td>\n",
       "      <td>dlf city plots phase 3</td>\n",
       "      <td>sector 24</td>\n",
       "      <td>5.00</td>\n",
       "      <td>34083.0</td>\n",
       "      <td>1467.0</td>\n",
       "      <td>Plot area 163(136.29 sq.m.)</td>\n",
       "      <td>13.0</td>\n",
       "      <td>13.0</td>\n",
       "      <td>3+</td>\n",
       "      <td>4.0</td>\n",
       "      <td>North</td>\n",
       "      <td>New Property</td>\n",
       "      <td>NaN</td>\n",
       "      <td>1467.0</td>\n",
       "      <td>NaN</td>\n",
       "      <td>0.0</td>\n",
       "      <td>0.0</td>\n",
       "      <td>0.0</td>\n",
       "      <td>1.0</td>\n",
       "      <td>0.0</td>\n",
       "      <td>2.0</td>\n",
       "      <td>91.0</td>\n",
       "    </tr>\n",
       "    <tr>\n",
       "      <th>3615</th>\n",
       "      <td>house</td>\n",
       "      <td>independent</td>\n",
       "      <td>sector 28</td>\n",
       "      <td>11.00</td>\n",
       "      <td>33951.0</td>\n",
       "      <td>3240.0</td>\n",
       "      <td>Plot area 360(301.01 sq.m.)</td>\n",
       "      <td>13.0</td>\n",
       "      <td>13.0</td>\n",
       "      <td>3+</td>\n",
       "      <td>3.0</td>\n",
       "      <td>East</td>\n",
       "      <td>Relatively New</td>\n",
       "      <td>NaN</td>\n",
       "      <td>3240.0</td>\n",
       "      <td>NaN</td>\n",
       "      <td>1.0</td>\n",
       "      <td>1.0</td>\n",
       "      <td>0.0</td>\n",
       "      <td>1.0</td>\n",
       "      <td>0.0</td>\n",
       "      <td>2.0</td>\n",
       "      <td>122.0</td>\n",
       "    </tr>\n",
       "    <tr>\n",
       "      <th>2810</th>\n",
       "      <td>house</td>\n",
       "      <td>huda plot sector 38</td>\n",
       "      <td>sector 38</td>\n",
       "      <td>4.30</td>\n",
       "      <td>27302.0</td>\n",
       "      <td>1575.0</td>\n",
       "      <td>Plot area 163(15.14 sq.m.)Built Up area: 145 s...</td>\n",
       "      <td>13.0</td>\n",
       "      <td>13.0</td>\n",
       "      <td>3+</td>\n",
       "      <td>5.0</td>\n",
       "      <td>North-West</td>\n",
       "      <td>Relatively New</td>\n",
       "      <td>NaN</td>\n",
       "      <td>145.0</td>\n",
       "      <td>NaN</td>\n",
       "      <td>0.0</td>\n",
       "      <td>0.0</td>\n",
       "      <td>0.0</td>\n",
       "      <td>0.0</td>\n",
       "      <td>0.0</td>\n",
       "      <td>2.0</td>\n",
       "      <td>7.0</td>\n",
       "    </tr>\n",
       "    <tr>\n",
       "      <th>2779</th>\n",
       "      <td>house</td>\n",
       "      <td>independent</td>\n",
       "      <td>sector 104</td>\n",
       "      <td>0.80</td>\n",
       "      <td>8889.0</td>\n",
       "      <td>900.0</td>\n",
       "      <td>Plot area 100(9.29 sq.m.)</td>\n",
       "      <td>13.0</td>\n",
       "      <td>6.0</td>\n",
       "      <td>3+</td>\n",
       "      <td>3.0</td>\n",
       "      <td>South</td>\n",
       "      <td>Moderately Old</td>\n",
       "      <td>NaN</td>\n",
       "      <td>100.0</td>\n",
       "      <td>NaN</td>\n",
       "      <td>1.0</td>\n",
       "      <td>1.0</td>\n",
       "      <td>0.0</td>\n",
       "      <td>1.0</td>\n",
       "      <td>1.0</td>\n",
       "      <td>0.0</td>\n",
       "      <td>0.0</td>\n",
       "    </tr>\n",
       "    <tr>\n",
       "      <th>3371</th>\n",
       "      <td>house</td>\n",
       "      <td>independent</td>\n",
       "      <td>sector 46</td>\n",
       "      <td>6.50</td>\n",
       "      <td>27461.0</td>\n",
       "      <td>2367.0</td>\n",
       "      <td>Plot area 263(219.9 sq.m.)</td>\n",
       "      <td>12.0</td>\n",
       "      <td>12.0</td>\n",
       "      <td>3+</td>\n",
       "      <td>4.0</td>\n",
       "      <td>North-West</td>\n",
       "      <td>Relatively New</td>\n",
       "      <td>NaN</td>\n",
       "      <td>2367.0</td>\n",
       "      <td>NaN</td>\n",
       "      <td>1.0</td>\n",
       "      <td>0.0</td>\n",
       "      <td>0.0</td>\n",
       "      <td>1.0</td>\n",
       "      <td>0.0</td>\n",
       "      <td>1.0</td>\n",
       "      <td>32.0</td>\n",
       "    </tr>\n",
       "    <tr>\n",
       "      <th>3438</th>\n",
       "      <td>house</td>\n",
       "      <td>independent</td>\n",
       "      <td>sector 31</td>\n",
       "      <td>9.25</td>\n",
       "      <td>39530.0</td>\n",
       "      <td>2340.0</td>\n",
       "      <td>Plot area 265(221.57 sq.m.)Built Up area: 262 ...</td>\n",
       "      <td>12.0</td>\n",
       "      <td>12.0</td>\n",
       "      <td>3+</td>\n",
       "      <td>4.0</td>\n",
       "      <td>North-East</td>\n",
       "      <td>New Property</td>\n",
       "      <td>NaN</td>\n",
       "      <td>262.0</td>\n",
       "      <td>260.0</td>\n",
       "      <td>0.0</td>\n",
       "      <td>1.0</td>\n",
       "      <td>0.0</td>\n",
       "      <td>1.0</td>\n",
       "      <td>1.0</td>\n",
       "      <td>2.0</td>\n",
       "      <td>49.0</td>\n",
       "    </tr>\n",
       "    <tr>\n",
       "      <th>3510</th>\n",
       "      <td>house</td>\n",
       "      <td>independent</td>\n",
       "      <td>sector 13</td>\n",
       "      <td>0.50</td>\n",
       "      <td>10101.0</td>\n",
       "      <td>495.0</td>\n",
       "      <td>Plot area 55(5.11 sq.m.)</td>\n",
       "      <td>12.0</td>\n",
       "      <td>4.0</td>\n",
       "      <td>3</td>\n",
       "      <td>4.0</td>\n",
       "      <td>NaN</td>\n",
       "      <td>Old Property</td>\n",
       "      <td>NaN</td>\n",
       "      <td>55.0</td>\n",
       "      <td>NaN</td>\n",
       "      <td>0.0</td>\n",
       "      <td>0.0</td>\n",
       "      <td>0.0</td>\n",
       "      <td>0.0</td>\n",
       "      <td>0.0</td>\n",
       "      <td>0.0</td>\n",
       "      <td>15.0</td>\n",
       "    </tr>\n",
       "    <tr>\n",
       "      <th>3334</th>\n",
       "      <td>house</td>\n",
       "      <td>independent</td>\n",
       "      <td>sector 26</td>\n",
       "      <td>10.50</td>\n",
       "      <td>43210.0</td>\n",
       "      <td>2430.0</td>\n",
       "      <td>Plot area 302(252.51 sq.m.)Built Up area: 300 ...</td>\n",
       "      <td>12.0</td>\n",
       "      <td>12.0</td>\n",
       "      <td>3+</td>\n",
       "      <td>4.0</td>\n",
       "      <td>North-East</td>\n",
       "      <td>Relatively New</td>\n",
       "      <td>NaN</td>\n",
       "      <td>300.0</td>\n",
       "      <td>270.0</td>\n",
       "      <td>0.0</td>\n",
       "      <td>1.0</td>\n",
       "      <td>0.0</td>\n",
       "      <td>1.0</td>\n",
       "      <td>0.0</td>\n",
       "      <td>1.0</td>\n",
       "      <td>72.0</td>\n",
       "    </tr>\n",
       "    <tr>\n",
       "      <th>3003</th>\n",
       "      <td>house</td>\n",
       "      <td>independent</td>\n",
       "      <td>sector 56</td>\n",
       "      <td>11.95</td>\n",
       "      <td>43534.0</td>\n",
       "      <td>2745.0</td>\n",
       "      <td>Plot area 305(255.02 sq.m.)</td>\n",
       "      <td>12.0</td>\n",
       "      <td>12.0</td>\n",
       "      <td>3+</td>\n",
       "      <td>4.0</td>\n",
       "      <td>West</td>\n",
       "      <td>Relatively New</td>\n",
       "      <td>NaN</td>\n",
       "      <td>2745.0</td>\n",
       "      <td>NaN</td>\n",
       "      <td>0.0</td>\n",
       "      <td>1.0</td>\n",
       "      <td>0.0</td>\n",
       "      <td>0.0</td>\n",
       "      <td>0.0</td>\n",
       "      <td>1.0</td>\n",
       "      <td>21.0</td>\n",
       "    </tr>\n",
       "    <tr>\n",
       "      <th>2999</th>\n",
       "      <td>house</td>\n",
       "      <td>independent</td>\n",
       "      <td>sector 46</td>\n",
       "      <td>6.81</td>\n",
       "      <td>36911.0</td>\n",
       "      <td>1845.0</td>\n",
       "      <td>Plot area 205(171.41 sq.m.)</td>\n",
       "      <td>12.0</td>\n",
       "      <td>14.0</td>\n",
       "      <td>3+</td>\n",
       "      <td>NaN</td>\n",
       "      <td>East</td>\n",
       "      <td>New Property</td>\n",
       "      <td>NaN</td>\n",
       "      <td>1845.0</td>\n",
       "      <td>NaN</td>\n",
       "      <td>0.0</td>\n",
       "      <td>1.0</td>\n",
       "      <td>0.0</td>\n",
       "      <td>0.0</td>\n",
       "      <td>1.0</td>\n",
       "      <td>1.0</td>\n",
       "      <td>40.0</td>\n",
       "    </tr>\n",
       "    <tr>\n",
       "      <th>2974</th>\n",
       "      <td>house</td>\n",
       "      <td>dlf city plots phase 2</td>\n",
       "      <td>sector 25</td>\n",
       "      <td>10.00</td>\n",
       "      <td>44444.0</td>\n",
       "      <td>2250.0</td>\n",
       "      <td>Plot area 250(23.23 sq.m.)</td>\n",
       "      <td>12.0</td>\n",
       "      <td>12.0</td>\n",
       "      <td>3+</td>\n",
       "      <td>4.0</td>\n",
       "      <td>North</td>\n",
       "      <td>Relatively New</td>\n",
       "      <td>NaN</td>\n",
       "      <td>250.0</td>\n",
       "      <td>NaN</td>\n",
       "      <td>1.0</td>\n",
       "      <td>1.0</td>\n",
       "      <td>0.0</td>\n",
       "      <td>0.0</td>\n",
       "      <td>0.0</td>\n",
       "      <td>1.0</td>\n",
       "      <td>114.0</td>\n",
       "    </tr>\n",
       "    <tr>\n",
       "      <th>2973</th>\n",
       "      <td>house</td>\n",
       "      <td>independent</td>\n",
       "      <td>sector 47</td>\n",
       "      <td>6.09</td>\n",
       "      <td>33665.0</td>\n",
       "      <td>1809.0</td>\n",
       "      <td>Plot area 201(168.06 sq.m.)Built Up area: 180 ...</td>\n",
       "      <td>12.0</td>\n",
       "      <td>11.0</td>\n",
       "      <td>3+</td>\n",
       "      <td>4.0</td>\n",
       "      <td>West</td>\n",
       "      <td>Moderately Old</td>\n",
       "      <td>NaN</td>\n",
       "      <td>180.0</td>\n",
       "      <td>150.0</td>\n",
       "      <td>0.0</td>\n",
       "      <td>0.0</td>\n",
       "      <td>0.0</td>\n",
       "      <td>1.0</td>\n",
       "      <td>0.0</td>\n",
       "      <td>2.0</td>\n",
       "      <td>44.0</td>\n",
       "    </tr>\n",
       "    <tr>\n",
       "      <th>3630</th>\n",
       "      <td>house</td>\n",
       "      <td>independent</td>\n",
       "      <td>sector 40</td>\n",
       "      <td>9.50</td>\n",
       "      <td>40135.0</td>\n",
       "      <td>2367.0</td>\n",
       "      <td>Plot area 263(219.9 sq.m.)</td>\n",
       "      <td>12.0</td>\n",
       "      <td>12.0</td>\n",
       "      <td>3+</td>\n",
       "      <td>4.0</td>\n",
       "      <td>NaN</td>\n",
       "      <td>New Property</td>\n",
       "      <td>NaN</td>\n",
       "      <td>2367.0</td>\n",
       "      <td>NaN</td>\n",
       "      <td>0.0</td>\n",
       "      <td>0.0</td>\n",
       "      <td>1.0</td>\n",
       "      <td>0.0</td>\n",
       "      <td>0.0</td>\n",
       "      <td>1.0</td>\n",
       "      <td>57.0</td>\n",
       "    </tr>\n",
       "    <tr>\n",
       "      <th>1929</th>\n",
       "      <td>house</td>\n",
       "      <td>floor wise designer kothi</td>\n",
       "      <td>sector 25</td>\n",
       "      <td>13.00</td>\n",
       "      <td>48148.0</td>\n",
       "      <td>2700.0</td>\n",
       "      <td>Plot area 300(250.84 sq.m.)</td>\n",
       "      <td>12.0</td>\n",
       "      <td>16.0</td>\n",
       "      <td>3+</td>\n",
       "      <td>4.0</td>\n",
       "      <td>North-East</td>\n",
       "      <td>New Property</td>\n",
       "      <td>NaN</td>\n",
       "      <td>2700.0</td>\n",
       "      <td>NaN</td>\n",
       "      <td>1.0</td>\n",
       "      <td>1.0</td>\n",
       "      <td>1.0</td>\n",
       "      <td>1.0</td>\n",
       "      <td>0.0</td>\n",
       "      <td>1.0</td>\n",
       "      <td>144.0</td>\n",
       "    </tr>\n",
       "    <tr>\n",
       "      <th>2677</th>\n",
       "      <td>house</td>\n",
       "      <td>independent</td>\n",
       "      <td>sector 26</td>\n",
       "      <td>8.49</td>\n",
       "      <td>47167.0</td>\n",
       "      <td>1800.0</td>\n",
       "      <td>Plot area 200(167.23 sq.m.)</td>\n",
       "      <td>12.0</td>\n",
       "      <td>12.0</td>\n",
       "      <td>3+</td>\n",
       "      <td>4.0</td>\n",
       "      <td>North</td>\n",
       "      <td>Relatively New</td>\n",
       "      <td>NaN</td>\n",
       "      <td>1800.0</td>\n",
       "      <td>NaN</td>\n",
       "      <td>0.0</td>\n",
       "      <td>1.0</td>\n",
       "      <td>0.0</td>\n",
       "      <td>1.0</td>\n",
       "      <td>0.0</td>\n",
       "      <td>1.0</td>\n",
       "      <td>42.0</td>\n",
       "    </tr>\n",
       "    <tr>\n",
       "      <th>2641</th>\n",
       "      <td>house</td>\n",
       "      <td>independent</td>\n",
       "      <td>sector 43</td>\n",
       "      <td>7.50</td>\n",
       "      <td>38760.0</td>\n",
       "      <td>1935.0</td>\n",
       "      <td>Plot area 215(179.77 sq.m.)</td>\n",
       "      <td>12.0</td>\n",
       "      <td>12.0</td>\n",
       "      <td>3+</td>\n",
       "      <td>4.0</td>\n",
       "      <td>East</td>\n",
       "      <td>New Property</td>\n",
       "      <td>NaN</td>\n",
       "      <td>1935.0</td>\n",
       "      <td>NaN</td>\n",
       "      <td>1.0</td>\n",
       "      <td>1.0</td>\n",
       "      <td>1.0</td>\n",
       "      <td>1.0</td>\n",
       "      <td>0.0</td>\n",
       "      <td>1.0</td>\n",
       "      <td>72.0</td>\n",
       "    </tr>\n",
       "    <tr>\n",
       "      <th>350</th>\n",
       "      <td>house</td>\n",
       "      <td>independent</td>\n",
       "      <td>sector 55</td>\n",
       "      <td>7.49</td>\n",
       "      <td>27741.0</td>\n",
       "      <td>2700.0</td>\n",
       "      <td>Plot area 300(250.84 sq.m.)</td>\n",
       "      <td>12.0</td>\n",
       "      <td>12.0</td>\n",
       "      <td>3+</td>\n",
       "      <td>4.0</td>\n",
       "      <td>South-East</td>\n",
       "      <td>Relatively New</td>\n",
       "      <td>NaN</td>\n",
       "      <td>2700.0</td>\n",
       "      <td>NaN</td>\n",
       "      <td>1.0</td>\n",
       "      <td>1.0</td>\n",
       "      <td>0.0</td>\n",
       "      <td>1.0</td>\n",
       "      <td>0.0</td>\n",
       "      <td>1.0</td>\n",
       "      <td>49.0</td>\n",
       "    </tr>\n",
       "    <tr>\n",
       "      <th>447</th>\n",
       "      <td>house</td>\n",
       "      <td>independent</td>\n",
       "      <td>sector 57</td>\n",
       "      <td>6.95</td>\n",
       "      <td>38611.0</td>\n",
       "      <td>1800.0</td>\n",
       "      <td>Plot area 192(160.54 sq.m.)</td>\n",
       "      <td>12.0</td>\n",
       "      <td>12.0</td>\n",
       "      <td>3+</td>\n",
       "      <td>4.0</td>\n",
       "      <td>East</td>\n",
       "      <td>New Property</td>\n",
       "      <td>NaN</td>\n",
       "      <td>1728.0</td>\n",
       "      <td>NaN</td>\n",
       "      <td>0.0</td>\n",
       "      <td>1.0</td>\n",
       "      <td>1.0</td>\n",
       "      <td>0.0</td>\n",
       "      <td>0.0</td>\n",
       "      <td>1.0</td>\n",
       "      <td>73.0</td>\n",
       "    </tr>\n",
       "    <tr>\n",
       "      <th>464</th>\n",
       "      <td>house</td>\n",
       "      <td>independent</td>\n",
       "      <td>sector 43</td>\n",
       "      <td>2.20</td>\n",
       "      <td>6875.0</td>\n",
       "      <td>3200.0</td>\n",
       "      <td>Plot area 3200(297.29 sq.m.)</td>\n",
       "      <td>12.0</td>\n",
       "      <td>12.0</td>\n",
       "      <td>3+</td>\n",
       "      <td>6.0</td>\n",
       "      <td>North</td>\n",
       "      <td>New Property</td>\n",
       "      <td>NaN</td>\n",
       "      <td>3200.0</td>\n",
       "      <td>NaN</td>\n",
       "      <td>0.0</td>\n",
       "      <td>1.0</td>\n",
       "      <td>0.0</td>\n",
       "      <td>0.0</td>\n",
       "      <td>0.0</td>\n",
       "      <td>2.0</td>\n",
       "      <td>50.0</td>\n",
       "    </tr>\n",
       "    <tr>\n",
       "      <th>512</th>\n",
       "      <td>house</td>\n",
       "      <td>independent</td>\n",
       "      <td>sector 14</td>\n",
       "      <td>8.00</td>\n",
       "      <td>17707.0</td>\n",
       "      <td>4518.0</td>\n",
       "      <td>Plot area 502(419.74 sq.m.)</td>\n",
       "      <td>12.0</td>\n",
       "      <td>4.0</td>\n",
       "      <td>3+</td>\n",
       "      <td>3.0</td>\n",
       "      <td>North</td>\n",
       "      <td>Old Property</td>\n",
       "      <td>NaN</td>\n",
       "      <td>4518.0</td>\n",
       "      <td>NaN</td>\n",
       "      <td>0.0</td>\n",
       "      <td>1.0</td>\n",
       "      <td>1.0</td>\n",
       "      <td>0.0</td>\n",
       "      <td>0.0</td>\n",
       "      <td>0.0</td>\n",
       "      <td>32.0</td>\n",
       "    </tr>\n",
       "    <tr>\n",
       "      <th>915</th>\n",
       "      <td>house</td>\n",
       "      <td>dlf city phase 1</td>\n",
       "      <td>sector 26</td>\n",
       "      <td>9.25</td>\n",
       "      <td>47804.0</td>\n",
       "      <td>1935.0</td>\n",
       "      <td>Plot area 1935(179.77 sq.m.)Built Up area: 700...</td>\n",
       "      <td>12.0</td>\n",
       "      <td>12.0</td>\n",
       "      <td>3+</td>\n",
       "      <td>4.0</td>\n",
       "      <td>North-East</td>\n",
       "      <td>New Property</td>\n",
       "      <td>NaN</td>\n",
       "      <td>7000.0</td>\n",
       "      <td>NaN</td>\n",
       "      <td>0.0</td>\n",
       "      <td>1.0</td>\n",
       "      <td>0.0</td>\n",
       "      <td>1.0</td>\n",
       "      <td>0.0</td>\n",
       "      <td>1.0</td>\n",
       "      <td>43.0</td>\n",
       "    </tr>\n",
       "    <tr>\n",
       "      <th>1285</th>\n",
       "      <td>house</td>\n",
       "      <td>uppal southend</td>\n",
       "      <td>sector 49</td>\n",
       "      <td>6.75</td>\n",
       "      <td>31915.0</td>\n",
       "      <td>2115.0</td>\n",
       "      <td>Plot area 235(196.49 sq.m.)</td>\n",
       "      <td>12.0</td>\n",
       "      <td>12.0</td>\n",
       "      <td>3+</td>\n",
       "      <td>3.0</td>\n",
       "      <td>West</td>\n",
       "      <td>Moderately Old</td>\n",
       "      <td>NaN</td>\n",
       "      <td>2115.0</td>\n",
       "      <td>NaN</td>\n",
       "      <td>0.0</td>\n",
       "      <td>0.0</td>\n",
       "      <td>0.0</td>\n",
       "      <td>0.0</td>\n",
       "      <td>1.0</td>\n",
       "      <td>0.0</td>\n",
       "      <td>49.0</td>\n",
       "    </tr>\n",
       "    <tr>\n",
       "      <th>1391</th>\n",
       "      <td>house</td>\n",
       "      <td>laxmi garden sector-11</td>\n",
       "      <td>sector 11</td>\n",
       "      <td>1.50</td>\n",
       "      <td>12820.0</td>\n",
       "      <td>1170.0</td>\n",
       "      <td>Plot area 130(108.7 sq.m.)</td>\n",
       "      <td>12.0</td>\n",
       "      <td>9.0</td>\n",
       "      <td>1</td>\n",
       "      <td>3.0</td>\n",
       "      <td>East</td>\n",
       "      <td>Relatively New</td>\n",
       "      <td>NaN</td>\n",
       "      <td>1170.0</td>\n",
       "      <td>NaN</td>\n",
       "      <td>1.0</td>\n",
       "      <td>1.0</td>\n",
       "      <td>0.0</td>\n",
       "      <td>1.0</td>\n",
       "      <td>1.0</td>\n",
       "      <td>1.0</td>\n",
       "      <td>106.0</td>\n",
       "    </tr>\n",
       "    <tr>\n",
       "      <th>1463</th>\n",
       "      <td>house</td>\n",
       "      <td>independent house sector 45</td>\n",
       "      <td>sector 40</td>\n",
       "      <td>9.00</td>\n",
       "      <td>38023.0</td>\n",
       "      <td>2367.0</td>\n",
       "      <td>Plot area 2367(219.9 sq.m.)Built Up area: 9000...</td>\n",
       "      <td>12.0</td>\n",
       "      <td>12.0</td>\n",
       "      <td>3</td>\n",
       "      <td>4.0</td>\n",
       "      <td>North-West</td>\n",
       "      <td>New Property</td>\n",
       "      <td>NaN</td>\n",
       "      <td>9000.0</td>\n",
       "      <td>6000.0</td>\n",
       "      <td>0.0</td>\n",
       "      <td>1.0</td>\n",
       "      <td>0.0</td>\n",
       "      <td>0.0</td>\n",
       "      <td>0.0</td>\n",
       "      <td>1.0</td>\n",
       "      <td>71.0</td>\n",
       "    </tr>\n",
       "    <tr>\n",
       "      <th>1610</th>\n",
       "      <td>house</td>\n",
       "      <td>luxury dlf city floors</td>\n",
       "      <td>sector 26</td>\n",
       "      <td>8.25</td>\n",
       "      <td>45833.0</td>\n",
       "      <td>1800.0</td>\n",
       "      <td>Plot area 200(167.23 sq.m.)</td>\n",
       "      <td>12.0</td>\n",
       "      <td>12.0</td>\n",
       "      <td>3+</td>\n",
       "      <td>4.0</td>\n",
       "      <td>North</td>\n",
       "      <td>New Property</td>\n",
       "      <td>NaN</td>\n",
       "      <td>1800.0</td>\n",
       "      <td>NaN</td>\n",
       "      <td>0.0</td>\n",
       "      <td>1.0</td>\n",
       "      <td>0.0</td>\n",
       "      <td>0.0</td>\n",
       "      <td>0.0</td>\n",
       "      <td>1.0</td>\n",
       "      <td>105.0</td>\n",
       "    </tr>\n",
       "    <tr>\n",
       "      <th>1656</th>\n",
       "      <td>house</td>\n",
       "      <td>independent</td>\n",
       "      <td>sector 43</td>\n",
       "      <td>3.00</td>\n",
       "      <td>5974.0</td>\n",
       "      <td>5022.0</td>\n",
       "      <td>Plot area 62(51.84 sq.m.)</td>\n",
       "      <td>12.0</td>\n",
       "      <td>12.0</td>\n",
       "      <td>3+</td>\n",
       "      <td>5.0</td>\n",
       "      <td>West</td>\n",
       "      <td>New Property</td>\n",
       "      <td>NaN</td>\n",
       "      <td>558.0</td>\n",
       "      <td>NaN</td>\n",
       "      <td>0.0</td>\n",
       "      <td>0.0</td>\n",
       "      <td>0.0</td>\n",
       "      <td>0.0</td>\n",
       "      <td>1.0</td>\n",
       "      <td>2.0</td>\n",
       "      <td>20.0</td>\n",
       "    </tr>\n",
       "    <tr>\n",
       "      <th>1736</th>\n",
       "      <td>house</td>\n",
       "      <td>independent</td>\n",
       "      <td>sector 56</td>\n",
       "      <td>11.50</td>\n",
       "      <td>42032.0</td>\n",
       "      <td>2736.0</td>\n",
       "      <td>Plot area 304(254.18 sq.m.)</td>\n",
       "      <td>12.0</td>\n",
       "      <td>13.0</td>\n",
       "      <td>3+</td>\n",
       "      <td>4.0</td>\n",
       "      <td>West</td>\n",
       "      <td>Relatively New</td>\n",
       "      <td>NaN</td>\n",
       "      <td>2736.0</td>\n",
       "      <td>NaN</td>\n",
       "      <td>1.0</td>\n",
       "      <td>1.0</td>\n",
       "      <td>0.0</td>\n",
       "      <td>1.0</td>\n",
       "      <td>0.0</td>\n",
       "      <td>1.0</td>\n",
       "      <td>49.0</td>\n",
       "    </tr>\n",
       "    <tr>\n",
       "      <th>173</th>\n",
       "      <td>house</td>\n",
       "      <td>independent</td>\n",
       "      <td>sector 27</td>\n",
       "      <td>8.25</td>\n",
       "      <td>45833.0</td>\n",
       "      <td>1800.0</td>\n",
       "      <td>Plot area 210(175.59 sq.m.)Built Up area: 205 ...</td>\n",
       "      <td>12.0</td>\n",
       "      <td>12.0</td>\n",
       "      <td>3+</td>\n",
       "      <td>4.0</td>\n",
       "      <td>East</td>\n",
       "      <td>New Property</td>\n",
       "      <td>NaN</td>\n",
       "      <td>205.0</td>\n",
       "      <td>200.0</td>\n",
       "      <td>0.0</td>\n",
       "      <td>1.0</td>\n",
       "      <td>0.0</td>\n",
       "      <td>1.0</td>\n",
       "      <td>0.0</td>\n",
       "      <td>1.0</td>\n",
       "      <td>40.0</td>\n",
       "    </tr>\n",
       "    <tr>\n",
       "      <th>2582</th>\n",
       "      <td>house</td>\n",
       "      <td>uppal southend</td>\n",
       "      <td>sector 49</td>\n",
       "      <td>6.75</td>\n",
       "      <td>32328.0</td>\n",
       "      <td>2088.0</td>\n",
       "      <td>Plot area 232(193.98 sq.m.)</td>\n",
       "      <td>12.0</td>\n",
       "      <td>12.0</td>\n",
       "      <td>3+</td>\n",
       "      <td>3.0</td>\n",
       "      <td>North</td>\n",
       "      <td>Moderately Old</td>\n",
       "      <td>NaN</td>\n",
       "      <td>2088.0</td>\n",
       "      <td>NaN</td>\n",
       "      <td>1.0</td>\n",
       "      <td>1.0</td>\n",
       "      <td>0.0</td>\n",
       "      <td>1.0</td>\n",
       "      <td>1.0</td>\n",
       "      <td>1.0</td>\n",
       "      <td>49.0</td>\n",
       "    </tr>\n",
       "    <tr>\n",
       "      <th>3659</th>\n",
       "      <td>house</td>\n",
       "      <td>uppal southend</td>\n",
       "      <td>sector 49</td>\n",
       "      <td>6.75</td>\n",
       "      <td>32328.0</td>\n",
       "      <td>2088.0</td>\n",
       "      <td>Plot area 232(21.55 sq.m.)</td>\n",
       "      <td>12.0</td>\n",
       "      <td>12.0</td>\n",
       "      <td>3+</td>\n",
       "      <td>NaN</td>\n",
       "      <td>West</td>\n",
       "      <td>Moderately Old</td>\n",
       "      <td>NaN</td>\n",
       "      <td>232.0</td>\n",
       "      <td>NaN</td>\n",
       "      <td>1.0</td>\n",
       "      <td>1.0</td>\n",
       "      <td>0.0</td>\n",
       "      <td>1.0</td>\n",
       "      <td>1.0</td>\n",
       "      <td>1.0</td>\n",
       "      <td>49.0</td>\n",
       "    </tr>\n",
       "    <tr>\n",
       "      <th>781</th>\n",
       "      <td>house</td>\n",
       "      <td>independent</td>\n",
       "      <td>sector 43</td>\n",
       "      <td>2.25</td>\n",
       "      <td>7500.0</td>\n",
       "      <td>3000.0</td>\n",
       "      <td>Plot area 550(51.1 sq.m.)Built Up area: 3000 s...</td>\n",
       "      <td>11.0</td>\n",
       "      <td>11.0</td>\n",
       "      <td>3+</td>\n",
       "      <td>5.0</td>\n",
       "      <td>West</td>\n",
       "      <td>New Property</td>\n",
       "      <td>NaN</td>\n",
       "      <td>3000.0</td>\n",
       "      <td>NaN</td>\n",
       "      <td>0.0</td>\n",
       "      <td>0.0</td>\n",
       "      <td>0.0</td>\n",
       "      <td>0.0</td>\n",
       "      <td>1.0</td>\n",
       "      <td>2.0</td>\n",
       "      <td>28.0</td>\n",
       "    </tr>\n",
       "  </tbody>\n",
       "</table>\n",
       "</div>"
      ],
      "text/plain": [
       "     property_type                      society      sector  price  \\\n",
       "1250         house                  independent   sector 54   5.00   \n",
       "155          house                  independent   sector 43   4.50   \n",
       "2595         house                  independent  sector 17a   3.87   \n",
       "2768         house                  independent  sector 17a   3.93   \n",
       "650          house                  independent   sector 54   5.50   \n",
       "273          house                private house   sector 55   7.05   \n",
       "2519         house       luxury dlf city floors   sector 26  20.00   \n",
       "3228         house                  independent   sector 40  12.00   \n",
       "1181         house                  independent   sector 11   4.50   \n",
       "3432         house                  independent   sector 56  12.39   \n",
       "946          house                  independent   sector 55   9.19   \n",
       "490          house                  independent   sector 43  13.50   \n",
       "248          house               dlf city plots   sector 26  20.00   \n",
       "3225         house                  independent   sector 24   3.20   \n",
       "530          house       dlf city plots phase 3   sector 24   5.00   \n",
       "3615         house                  independent   sector 28  11.00   \n",
       "2810         house          huda plot sector 38   sector 38   4.30   \n",
       "2779         house                  independent  sector 104   0.80   \n",
       "3371         house                  independent   sector 46   6.50   \n",
       "3438         house                  independent   sector 31   9.25   \n",
       "3510         house                  independent   sector 13   0.50   \n",
       "3334         house                  independent   sector 26  10.50   \n",
       "3003         house                  independent   sector 56  11.95   \n",
       "2999         house                  independent   sector 46   6.81   \n",
       "2974         house       dlf city plots phase 2   sector 25  10.00   \n",
       "2973         house                  independent   sector 47   6.09   \n",
       "3630         house                  independent   sector 40   9.50   \n",
       "1929         house    floor wise designer kothi   sector 25  13.00   \n",
       "2677         house                  independent   sector 26   8.49   \n",
       "2641         house                  independent   sector 43   7.50   \n",
       "350          house                  independent   sector 55   7.49   \n",
       "447          house                  independent   sector 57   6.95   \n",
       "464          house                  independent   sector 43   2.20   \n",
       "512          house                  independent   sector 14   8.00   \n",
       "915          house             dlf city phase 1   sector 26   9.25   \n",
       "1285         house               uppal southend   sector 49   6.75   \n",
       "1391         house       laxmi garden sector-11   sector 11   1.50   \n",
       "1463         house  independent house sector 45   sector 40   9.00   \n",
       "1610         house       luxury dlf city floors   sector 26   8.25   \n",
       "1656         house                  independent   sector 43   3.00   \n",
       "1736         house                  independent   sector 56  11.50   \n",
       "173          house                  independent   sector 27   8.25   \n",
       "2582         house               uppal southend   sector 49   6.75   \n",
       "3659         house               uppal southend   sector 49   6.75   \n",
       "781          house                  independent   sector 43   2.25   \n",
       "\n",
       "      price_per_sqft    area  \\\n",
       "1250         43066.0  1161.0   \n",
       "155          39062.0  1152.0   \n",
       "2595          5160.0  7500.0   \n",
       "2768         24214.0  1623.0   \n",
       "650          38194.0  1440.0   \n",
       "273          46906.0  1503.0   \n",
       "2519         48888.0  4091.0   \n",
       "3228         38986.0  3078.0   \n",
       "1181         25000.0  1800.0   \n",
       "3432         45889.0  2700.0   \n",
       "946          34037.0  2700.0   \n",
       "490          50000.0  2700.0   \n",
       "248          44267.0  4518.0   \n",
       "3225          6584.0  4860.0   \n",
       "530          34083.0  1467.0   \n",
       "3615         33951.0  3240.0   \n",
       "2810         27302.0  1575.0   \n",
       "2779          8889.0   900.0   \n",
       "3371         27461.0  2367.0   \n",
       "3438         39530.0  2340.0   \n",
       "3510         10101.0   495.0   \n",
       "3334         43210.0  2430.0   \n",
       "3003         43534.0  2745.0   \n",
       "2999         36911.0  1845.0   \n",
       "2974         44444.0  2250.0   \n",
       "2973         33665.0  1809.0   \n",
       "3630         40135.0  2367.0   \n",
       "1929         48148.0  2700.0   \n",
       "2677         47167.0  1800.0   \n",
       "2641         38760.0  1935.0   \n",
       "350          27741.0  2700.0   \n",
       "447          38611.0  1800.0   \n",
       "464           6875.0  3200.0   \n",
       "512          17707.0  4518.0   \n",
       "915          47804.0  1935.0   \n",
       "1285         31915.0  2115.0   \n",
       "1391         12820.0  1170.0   \n",
       "1463         38023.0  2367.0   \n",
       "1610         45833.0  1800.0   \n",
       "1656          5974.0  5022.0   \n",
       "1736         42032.0  2736.0   \n",
       "173          45833.0  1800.0   \n",
       "2582         32328.0  2088.0   \n",
       "3659         32328.0  2088.0   \n",
       "781           7500.0  3000.0   \n",
       "\n",
       "                                           areaWithType  bedRoom  bathroom  \\\n",
       "1250                        Plot area 129(107.86 sq.m.)     21.0      21.0   \n",
       "155                         Plot area 128(107.02 sq.m.)     20.0      20.0   \n",
       "2595  Plot area 1623(150.78 sq.m.)Built Up area: 750...     19.0      17.0   \n",
       "2768  Plot area 1623(150.78 sq.m.)Built Up area: 162...     19.0      17.0   \n",
       "650                         Plot area 160(133.78 sq.m.)     18.0      18.0   \n",
       "273                         Plot area 167(139.63 sq.m.)     18.0      18.0   \n",
       "2519                        Plot area 500(418.06 sq.m.)     16.0      16.0   \n",
       "3228                        Plot area 342(285.96 sq.m.)     16.0      16.0   \n",
       "1181                        Plot area 200(167.23 sq.m.)     16.0      16.0   \n",
       "3432                        Plot area 300(250.84 sq.m.)     16.0      18.0   \n",
       "946                         Plot area 300(250.84 sq.m.)     16.0      18.0   \n",
       "490                         Plot area 300(250.84 sq.m.)     16.0      16.0   \n",
       "248                         Plot area 502(419.74 sq.m.)     16.0      20.0   \n",
       "3225                          Plot area 60(50.17 sq.m.)     14.0      14.0   \n",
       "530                         Plot area 163(136.29 sq.m.)     13.0      13.0   \n",
       "3615                        Plot area 360(301.01 sq.m.)     13.0      13.0   \n",
       "2810  Plot area 163(15.14 sq.m.)Built Up area: 145 s...     13.0      13.0   \n",
       "2779                          Plot area 100(9.29 sq.m.)     13.0       6.0   \n",
       "3371                         Plot area 263(219.9 sq.m.)     12.0      12.0   \n",
       "3438  Plot area 265(221.57 sq.m.)Built Up area: 262 ...     12.0      12.0   \n",
       "3510                           Plot area 55(5.11 sq.m.)     12.0       4.0   \n",
       "3334  Plot area 302(252.51 sq.m.)Built Up area: 300 ...     12.0      12.0   \n",
       "3003                        Plot area 305(255.02 sq.m.)     12.0      12.0   \n",
       "2999                        Plot area 205(171.41 sq.m.)     12.0      14.0   \n",
       "2974                         Plot area 250(23.23 sq.m.)     12.0      12.0   \n",
       "2973  Plot area 201(168.06 sq.m.)Built Up area: 180 ...     12.0      11.0   \n",
       "3630                         Plot area 263(219.9 sq.m.)     12.0      12.0   \n",
       "1929                        Plot area 300(250.84 sq.m.)     12.0      16.0   \n",
       "2677                        Plot area 200(167.23 sq.m.)     12.0      12.0   \n",
       "2641                        Plot area 215(179.77 sq.m.)     12.0      12.0   \n",
       "350                         Plot area 300(250.84 sq.m.)     12.0      12.0   \n",
       "447                         Plot area 192(160.54 sq.m.)     12.0      12.0   \n",
       "464                        Plot area 3200(297.29 sq.m.)     12.0      12.0   \n",
       "512                         Plot area 502(419.74 sq.m.)     12.0       4.0   \n",
       "915   Plot area 1935(179.77 sq.m.)Built Up area: 700...     12.0      12.0   \n",
       "1285                        Plot area 235(196.49 sq.m.)     12.0      12.0   \n",
       "1391                         Plot area 130(108.7 sq.m.)     12.0       9.0   \n",
       "1463  Plot area 2367(219.9 sq.m.)Built Up area: 9000...     12.0      12.0   \n",
       "1610                        Plot area 200(167.23 sq.m.)     12.0      12.0   \n",
       "1656                          Plot area 62(51.84 sq.m.)     12.0      12.0   \n",
       "1736                        Plot area 304(254.18 sq.m.)     12.0      13.0   \n",
       "173   Plot area 210(175.59 sq.m.)Built Up area: 205 ...     12.0      12.0   \n",
       "2582                        Plot area 232(193.98 sq.m.)     12.0      12.0   \n",
       "3659                         Plot area 232(21.55 sq.m.)     12.0      12.0   \n",
       "781   Plot area 550(51.1 sq.m.)Built Up area: 3000 s...     11.0      11.0   \n",
       "\n",
       "     balcony  floorNum      facing   agePossession  super_built_up_area  \\\n",
       "1250      3+       5.0       North  Relatively New                  NaN   \n",
       "155       3+       4.0        East  Relatively New                  NaN   \n",
       "2595      3+       5.0  North-West  Relatively New                  NaN   \n",
       "2768       3       4.0  North-West  Relatively New                  NaN   \n",
       "650       3+       4.0  South-West  Relatively New                  NaN   \n",
       "273       3+       4.0  North-East  Relatively New                  NaN   \n",
       "2519      3+       4.0         NaN    New Property                  NaN   \n",
       "3228      3+       4.0         NaN    New Property                  NaN   \n",
       "1181      3+       4.0       South  Relatively New                  NaN   \n",
       "3432      3+       4.0  North-East    New Property                  NaN   \n",
       "946        2       4.0        West    New Property                  NaN   \n",
       "490       3+       4.0  North-West  Relatively New                  NaN   \n",
       "248       3+       4.0  North-East    New Property                  NaN   \n",
       "3225      3+       6.0        West  Relatively New                  NaN   \n",
       "530       3+       4.0       North    New Property                  NaN   \n",
       "3615      3+       3.0        East  Relatively New                  NaN   \n",
       "2810      3+       5.0  North-West  Relatively New                  NaN   \n",
       "2779      3+       3.0       South  Moderately Old                  NaN   \n",
       "3371      3+       4.0  North-West  Relatively New                  NaN   \n",
       "3438      3+       4.0  North-East    New Property                  NaN   \n",
       "3510       3       4.0         NaN    Old Property                  NaN   \n",
       "3334      3+       4.0  North-East  Relatively New                  NaN   \n",
       "3003      3+       4.0        West  Relatively New                  NaN   \n",
       "2999      3+       NaN        East    New Property                  NaN   \n",
       "2974      3+       4.0       North  Relatively New                  NaN   \n",
       "2973      3+       4.0        West  Moderately Old                  NaN   \n",
       "3630      3+       4.0         NaN    New Property                  NaN   \n",
       "1929      3+       4.0  North-East    New Property                  NaN   \n",
       "2677      3+       4.0       North  Relatively New                  NaN   \n",
       "2641      3+       4.0        East    New Property                  NaN   \n",
       "350       3+       4.0  South-East  Relatively New                  NaN   \n",
       "447       3+       4.0        East    New Property                  NaN   \n",
       "464       3+       6.0       North    New Property                  NaN   \n",
       "512       3+       3.0       North    Old Property                  NaN   \n",
       "915       3+       4.0  North-East    New Property                  NaN   \n",
       "1285      3+       3.0        West  Moderately Old                  NaN   \n",
       "1391       1       3.0        East  Relatively New                  NaN   \n",
       "1463       3       4.0  North-West    New Property                  NaN   \n",
       "1610      3+       4.0       North    New Property                  NaN   \n",
       "1656      3+       5.0        West    New Property                  NaN   \n",
       "1736      3+       4.0        West  Relatively New                  NaN   \n",
       "173       3+       4.0        East    New Property                  NaN   \n",
       "2582      3+       3.0       North  Moderately Old                  NaN   \n",
       "3659      3+       NaN        West  Moderately Old                  NaN   \n",
       "781       3+       5.0        West    New Property                  NaN   \n",
       "\n",
       "      built_up_area  carpet_area  study room  servant room  store room  \\\n",
       "1250         1161.0          NaN         0.0           1.0         0.0   \n",
       "155          1152.0          NaN         0.0           1.0         0.0   \n",
       "2595         7500.0          NaN         1.0           0.0         1.0   \n",
       "2768         1622.0          NaN         1.0           1.0         1.0   \n",
       "650          1440.0          NaN         0.0           1.0         0.0   \n",
       "273          1503.0          NaN         0.0           0.0         0.0   \n",
       "2519          500.0          NaN         0.0           1.0         0.0   \n",
       "3228         3078.0          NaN         1.0           1.0         1.0   \n",
       "1181         1800.0          NaN         0.0           0.0         0.0   \n",
       "3432         2700.0          NaN         0.0           1.0         0.0   \n",
       "946          2700.0          NaN         0.0           1.0         0.0   \n",
       "490          2700.0          NaN         1.0           1.0         0.0   \n",
       "248          4518.0          NaN         1.0           1.0         1.0   \n",
       "3225          540.0          NaN         0.0           0.0         0.0   \n",
       "530          1467.0          NaN         0.0           0.0         0.0   \n",
       "3615         3240.0          NaN         1.0           1.0         0.0   \n",
       "2810          145.0          NaN         0.0           0.0         0.0   \n",
       "2779          100.0          NaN         1.0           1.0         0.0   \n",
       "3371         2367.0          NaN         1.0           0.0         0.0   \n",
       "3438          262.0        260.0         0.0           1.0         0.0   \n",
       "3510           55.0          NaN         0.0           0.0         0.0   \n",
       "3334          300.0        270.0         0.0           1.0         0.0   \n",
       "3003         2745.0          NaN         0.0           1.0         0.0   \n",
       "2999         1845.0          NaN         0.0           1.0         0.0   \n",
       "2974          250.0          NaN         1.0           1.0         0.0   \n",
       "2973          180.0        150.0         0.0           0.0         0.0   \n",
       "3630         2367.0          NaN         0.0           0.0         1.0   \n",
       "1929         2700.0          NaN         1.0           1.0         1.0   \n",
       "2677         1800.0          NaN         0.0           1.0         0.0   \n",
       "2641         1935.0          NaN         1.0           1.0         1.0   \n",
       "350          2700.0          NaN         1.0           1.0         0.0   \n",
       "447          1728.0          NaN         0.0           1.0         1.0   \n",
       "464          3200.0          NaN         0.0           1.0         0.0   \n",
       "512          4518.0          NaN         0.0           1.0         1.0   \n",
       "915          7000.0          NaN         0.0           1.0         0.0   \n",
       "1285         2115.0          NaN         0.0           0.0         0.0   \n",
       "1391         1170.0          NaN         1.0           1.0         0.0   \n",
       "1463         9000.0       6000.0         0.0           1.0         0.0   \n",
       "1610         1800.0          NaN         0.0           1.0         0.0   \n",
       "1656          558.0          NaN         0.0           0.0         0.0   \n",
       "1736         2736.0          NaN         1.0           1.0         0.0   \n",
       "173           205.0        200.0         0.0           1.0         0.0   \n",
       "2582         2088.0          NaN         1.0           1.0         0.0   \n",
       "3659          232.0          NaN         1.0           1.0         0.0   \n",
       "781          3000.0          NaN         0.0           0.0         0.0   \n",
       "\n",
       "      pooja room  others  furnishing_type  luxury_score  \n",
       "1250         0.0     0.0              2.0          49.0  \n",
       "155          0.0     0.0              2.0          22.0  \n",
       "2595         0.0     0.0              0.0          68.0  \n",
       "2768         1.0     0.0              0.0          74.0  \n",
       "650          0.0     0.0              2.0          70.0  \n",
       "273          0.0     1.0              2.0          57.0  \n",
       "2519         0.0     0.0              1.0          31.0  \n",
       "3228         1.0     0.0              1.0           0.0  \n",
       "1181         0.0     0.0              1.0          20.0  \n",
       "3432         1.0     0.0              1.0          49.0  \n",
       "946          1.0     0.0              1.0          49.0  \n",
       "490          1.0     1.0              0.0          41.0  \n",
       "248          1.0     0.0              1.0         153.0  \n",
       "3225         0.0     0.0              2.0          15.0  \n",
       "530          1.0     0.0              2.0          91.0  \n",
       "3615         1.0     0.0              2.0         122.0  \n",
       "2810         0.0     0.0              2.0           7.0  \n",
       "2779         1.0     1.0              0.0           0.0  \n",
       "3371         1.0     0.0              1.0          32.0  \n",
       "3438         1.0     1.0              2.0          49.0  \n",
       "3510         0.0     0.0              0.0          15.0  \n",
       "3334         1.0     0.0              1.0          72.0  \n",
       "3003         0.0     0.0              1.0          21.0  \n",
       "2999         0.0     1.0              1.0          40.0  \n",
       "2974         0.0     0.0              1.0         114.0  \n",
       "2973         1.0     0.0              2.0          44.0  \n",
       "3630         0.0     0.0              1.0          57.0  \n",
       "1929         1.0     0.0              1.0         144.0  \n",
       "2677         1.0     0.0              1.0          42.0  \n",
       "2641         1.0     0.0              1.0          72.0  \n",
       "350          1.0     0.0              1.0          49.0  \n",
       "447          0.0     0.0              1.0          73.0  \n",
       "464          0.0     0.0              2.0          50.0  \n",
       "512          0.0     0.0              0.0          32.0  \n",
       "915          1.0     0.0              1.0          43.0  \n",
       "1285         0.0     1.0              0.0          49.0  \n",
       "1391         1.0     1.0              1.0         106.0  \n",
       "1463         0.0     0.0              1.0          71.0  \n",
       "1610         0.0     0.0              1.0         105.0  \n",
       "1656         0.0     1.0              2.0          20.0  \n",
       "1736         1.0     0.0              1.0          49.0  \n",
       "173          1.0     0.0              1.0          40.0  \n",
       "2582         1.0     1.0              1.0          49.0  \n",
       "3659         1.0     1.0              1.0          49.0  \n",
       "781          0.0     1.0              2.0          28.0  "
      ]
     },
     "execution_count": 150,
     "metadata": {},
     "output_type": "execute_result"
    }
   ],
   "source": [
    "df[df['bedRoom']>10].sort_values('bedRoom',ascending=False)"
   ]
  },
  {
   "cell_type": "code",
   "execution_count": 151,
   "id": "8bf6676d",
   "metadata": {},
   "outputs": [],
   "source": [
    "df=df[df['bedRoom']<=10]"
   ]
  },
  {
   "cell_type": "code",
   "execution_count": 152,
   "id": "63aeb726",
   "metadata": {},
   "outputs": [
    {
     "data": {
      "text/plain": [
       "<AxesSubplot:xlabel='bedRoom'>"
      ]
     },
     "execution_count": 152,
     "metadata": {},
     "output_type": "execute_result"
    },
    {
     "data": {
      "image/png": "[encoded data removed]",
      "text/plain": [
       "<Figure size 432x288 with 1 Axes>"
      ]
     },
     "metadata": {
      "needs_background": "light"
     },
     "output_type": "display_data"
    }
   ],
   "source": [
    "sns.boxplot(x=df['bedRoom'])\n"
   ]
  },
  {
   "cell_type": "code",
   "execution_count": 153,
   "id": "eb5eb8c1",
   "metadata": {},
   "outputs": [
    {
     "name": "stderr",
     "output_type": "stream",
     "text": [
      "/opt/anaconda3/lib/python3.8/site-packages/seaborn/distributions.py:2557: FutureWarning: `distplot` is a deprecated function and will be removed in a future version. Please adapt your code to use either `displot` (a figure-level function with similar flexibility) or `histplot` (an axes-level function for histograms).\n",
      "  warnings.warn(msg, FutureWarning)\n"
     ]
    },
    {
     "data": {
      "text/plain": [
       "<AxesSubplot:xlabel='bedRoom', ylabel='Density'>"
      ]
     },
     "execution_count": 153,
     "metadata": {},
     "output_type": "execute_result"
    },
    {
     "data": {
      "image/png": "[encoded data removed]",
      "text/plain": [
       "<Figure size 432x288 with 1 Axes>"
      ]
     },
     "metadata": {
      "needs_background": "light"
     },
     "output_type": "display_data"
    }
   ],
   "source": [
    "sns.distplot(df['bedRoom'])\n"
   ]
  },
  {
   "cell_type": "markdown",
   "id": "d97e51f6",
   "metadata": {},
   "source": [
    "# Bathroom\n"
   ]
  },
  {
   "cell_type": "code",
   "execution_count": 154,
   "id": "f6bdf791",
   "metadata": {},
   "outputs": [
    {
     "name": "stderr",
     "output_type": "stream",
     "text": [
      "/opt/anaconda3/lib/python3.8/site-packages/seaborn/distributions.py:2557: FutureWarning: `distplot` is a deprecated function and will be removed in a future version. Please adapt your code to use either `displot` (a figure-level function with similar flexibility) or `histplot` (an axes-level function for histograms).\n",
      "  warnings.warn(msg, FutureWarning)\n"
     ]
    },
    {
     "data": {
      "text/plain": [
       "<AxesSubplot:xlabel='bathroom', ylabel='Density'>"
      ]
     },
     "execution_count": 154,
     "metadata": {},
     "output_type": "execute_result"
    },
    {
     "data": {
      "image/png": "[encoded data removed]",
      "text/plain": [
       "<Figure size 432x288 with 1 Axes>"
      ]
     },
     "metadata": {
      "needs_background": "light"
     },
     "output_type": "display_data"
    }
   ],
   "source": [
    "sns.distplot(df['bathroom'])\n"
   ]
  },
  {
   "cell_type": "code",
   "execution_count": 155,
   "id": "a8e3bc33",
   "metadata": {},
   "outputs": [
    {
     "data": {
      "text/plain": [
       "<AxesSubplot:xlabel='bathroom'>"
      ]
     },
     "execution_count": 155,
     "metadata": {},
     "output_type": "execute_result"
    },
    {
     "data": {
      "image/png": "[encoded data removed]",
      "text/plain": [
       "<Figure size 432x288 with 1 Axes>"
      ]
     },
     "metadata": {
      "needs_background": "light"
     },
     "output_type": "display_data"
    }
   ],
   "source": [
    "sns.boxplot(x=df['bathroom'])\n"
   ]
  },
  {
   "cell_type": "code",
   "execution_count": 156,
   "id": "e5ded4a4",
   "metadata": {},
   "outputs": [
    {
     "data": {
      "text/html": [
       "<div>\n",
       "<style scoped>\n",
       "    .dataframe tbody tr th:only-of-type {\n",
       "        vertical-align: middle;\n",
       "    }\n",
       "\n",
       "    .dataframe tbody tr th {\n",
       "        vertical-align: top;\n",
       "    }\n",
       "\n",
       "    .dataframe thead th {\n",
       "        text-align: right;\n",
       "    }\n",
       "</style>\n",
       "<table border=\"1\" class=\"dataframe\">\n",
       "  <thead>\n",
       "    <tr style=\"text-align: right;\">\n",
       "      <th></th>\n",
       "      <th>property_type</th>\n",
       "      <th>society</th>\n",
       "      <th>sector</th>\n",
       "      <th>price</th>\n",
       "      <th>price_per_sqft</th>\n",
       "      <th>area</th>\n",
       "      <th>areaWithType</th>\n",
       "      <th>bedRoom</th>\n",
       "      <th>bathroom</th>\n",
       "      <th>balcony</th>\n",
       "      <th>floorNum</th>\n",
       "      <th>facing</th>\n",
       "      <th>agePossession</th>\n",
       "      <th>super_built_up_area</th>\n",
       "      <th>built_up_area</th>\n",
       "      <th>carpet_area</th>\n",
       "      <th>study room</th>\n",
       "      <th>servant room</th>\n",
       "      <th>store room</th>\n",
       "      <th>pooja room</th>\n",
       "      <th>others</th>\n",
       "      <th>furnishing_type</th>\n",
       "      <th>luxury_score</th>\n",
       "    </tr>\n",
       "  </thead>\n",
       "  <tbody>\n",
       "    <tr>\n",
       "      <th>474</th>\n",
       "      <td>house</td>\n",
       "      <td>adani brahma samsara</td>\n",
       "      <td>sector 60</td>\n",
       "      <td>18.02</td>\n",
       "      <td>28200.0</td>\n",
       "      <td>6390.0</td>\n",
       "      <td>Built Up area: 6390 (593.65 sq.m.)</td>\n",
       "      <td>9.0</td>\n",
       "      <td>12.0</td>\n",
       "      <td>3+</td>\n",
       "      <td>3.0</td>\n",
       "      <td>North-East</td>\n",
       "      <td>Relatively New</td>\n",
       "      <td>NaN</td>\n",
       "      <td>6390.0</td>\n",
       "      <td>NaN</td>\n",
       "      <td>0.0</td>\n",
       "      <td>1.0</td>\n",
       "      <td>0.0</td>\n",
       "      <td>0.0</td>\n",
       "      <td>0.0</td>\n",
       "      <td>1.0</td>\n",
       "      <td>146.0</td>\n",
       "    </tr>\n",
       "    <tr>\n",
       "      <th>1657</th>\n",
       "      <td>house</td>\n",
       "      <td>independent</td>\n",
       "      <td>sector 39</td>\n",
       "      <td>7.00</td>\n",
       "      <td>10000.0</td>\n",
       "      <td>7000.0</td>\n",
       "      <td>Plot area 350(32.52 sq.m.)Built Up area: 7000 ...</td>\n",
       "      <td>10.0</td>\n",
       "      <td>11.0</td>\n",
       "      <td>3+</td>\n",
       "      <td>4.0</td>\n",
       "      <td>South-East</td>\n",
       "      <td>Relatively New</td>\n",
       "      <td>NaN</td>\n",
       "      <td>7000.0</td>\n",
       "      <td>NaN</td>\n",
       "      <td>0.0</td>\n",
       "      <td>0.0</td>\n",
       "      <td>0.0</td>\n",
       "      <td>1.0</td>\n",
       "      <td>0.0</td>\n",
       "      <td>2.0</td>\n",
       "      <td>38.0</td>\n",
       "    </tr>\n",
       "    <tr>\n",
       "      <th>1730</th>\n",
       "      <td>house</td>\n",
       "      <td>independent</td>\n",
       "      <td>sector 24</td>\n",
       "      <td>11.00</td>\n",
       "      <td>28902.0</td>\n",
       "      <td>3806.0</td>\n",
       "      <td>Plot area 3806.45(353.63 sq.m.)Built Up area: ...</td>\n",
       "      <td>8.0</td>\n",
       "      <td>11.0</td>\n",
       "      <td>3+</td>\n",
       "      <td>3.0</td>\n",
       "      <td>East</td>\n",
       "      <td>Old Property</td>\n",
       "      <td>NaN</td>\n",
       "      <td>5000.0</td>\n",
       "      <td>NaN</td>\n",
       "      <td>1.0</td>\n",
       "      <td>1.0</td>\n",
       "      <td>0.0</td>\n",
       "      <td>1.0</td>\n",
       "      <td>1.0</td>\n",
       "      <td>1.0</td>\n",
       "      <td>39.0</td>\n",
       "    </tr>\n",
       "  </tbody>\n",
       "</table>\n",
       "</div>"
      ],
      "text/plain": [
       "     property_type               society     sector  price  price_per_sqft  \\\n",
       "474          house  adani brahma samsara  sector 60  18.02         28200.0   \n",
       "1657         house           independent  sector 39   7.00         10000.0   \n",
       "1730         house           independent  sector 24  11.00         28902.0   \n",
       "\n",
       "        area                                       areaWithType  bedRoom  \\\n",
       "474   6390.0                 Built Up area: 6390 (593.65 sq.m.)      9.0   \n",
       "1657  7000.0  Plot area 350(32.52 sq.m.)Built Up area: 7000 ...     10.0   \n",
       "1730  3806.0  Plot area 3806.45(353.63 sq.m.)Built Up area: ...      8.0   \n",
       "\n",
       "      bathroom balcony  floorNum      facing   agePossession  \\\n",
       "474       12.0      3+       3.0  North-East  Relatively New   \n",
       "1657      11.0      3+       4.0  South-East  Relatively New   \n",
       "1730      11.0      3+       3.0        East    Old Property   \n",
       "\n",
       "      super_built_up_area  built_up_area  carpet_area  study room  \\\n",
       "474                   NaN         6390.0          NaN         0.0   \n",
       "1657                  NaN         7000.0          NaN         0.0   \n",
       "1730                  NaN         5000.0          NaN         1.0   \n",
       "\n",
       "      servant room  store room  pooja room  others  furnishing_type  \\\n",
       "474            1.0         0.0         0.0     0.0              1.0   \n",
       "1657           0.0         0.0         1.0     0.0              2.0   \n",
       "1730           1.0         0.0         1.0     1.0              1.0   \n",
       "\n",
       "      luxury_score  \n",
       "474          146.0  \n",
       "1657          38.0  \n",
       "1730          39.0  "
      ]
     },
     "execution_count": 156,
     "metadata": {},
     "output_type": "execute_result"
    }
   ],
   "source": [
    "df[df['bathroom']>10].sort_values('bathroom',ascending=False)"
   ]
  },
  {
   "cell_type": "markdown",
   "id": "87e1c08c",
   "metadata": {},
   "source": [
    "# super_built_up_area"
   ]
  },
  {
   "cell_type": "code",
   "execution_count": 157,
   "id": "092f5d6f",
   "metadata": {},
   "outputs": [
    {
     "data": {
      "text/plain": [
       "<AxesSubplot:xlabel='super_built_up_area'>"
      ]
     },
     "execution_count": 157,
     "metadata": {},
     "output_type": "execute_result"
    },
    {
     "data": {
      "image/png": "[encoded data removed]",
      "text/plain": [
       "<Figure size 432x288 with 1 Axes>"
      ]
     },
     "metadata": {
      "needs_background": "light"
     },
     "output_type": "display_data"
    }
   ],
   "source": [
    "sns.boxplot(x=df['super_built_up_area'])\n"
   ]
  },
  {
   "cell_type": "code",
   "execution_count": 158,
   "id": "954852de",
   "metadata": {},
   "outputs": [
    {
     "name": "stderr",
     "output_type": "stream",
     "text": [
      "/opt/anaconda3/lib/python3.8/site-packages/seaborn/distributions.py:2557: FutureWarning: `distplot` is a deprecated function and will be removed in a future version. Please adapt your code to use either `displot` (a figure-level function with similar flexibility) or `histplot` (an axes-level function for histograms).\n",
      "  warnings.warn(msg, FutureWarning)\n"
     ]
    },
    {
     "data": {
      "text/plain": [
       "<AxesSubplot:ylabel='Density'>"
      ]
     },
     "execution_count": 158,
     "metadata": {},
     "output_type": "execute_result"
    },
    {
     "data": {
      "image/png": "[encoded data removed]",
      "text/plain": [
       "<Figure size 432x288 with 1 Axes>"
      ]
     },
     "metadata": {
      "needs_background": "light"
     },
     "output_type": "display_data"
    }
   ],
   "source": [
    "sns.distplot(x=df['super_built_up_area'])\n"
   ]
  },
  {
   "cell_type": "code",
   "execution_count": 159,
   "id": "585f2258",
   "metadata": {},
   "outputs": [
    {
     "data": {
      "text/plain": [
       "count     1876.000000\n",
       "mean      1925.065858\n",
       "std        764.004595\n",
       "min         89.000000\n",
       "25%       1479.750000\n",
       "50%       1828.000000\n",
       "75%       2215.000000\n",
       "max      10000.000000\n",
       "Name: super_built_up_area, dtype: float64"
      ]
     },
     "execution_count": 159,
     "metadata": {},
     "output_type": "execute_result"
    }
   ],
   "source": [
    "df['super_built_up_area'].describe()"
   ]
  },
  {
   "cell_type": "code",
   "execution_count": 160,
   "id": "2023dc77",
   "metadata": {},
   "outputs": [
    {
     "data": {
      "text/html": [
       "<div>\n",
       "<style scoped>\n",
       "    .dataframe tbody tr th:only-of-type {\n",
       "        vertical-align: middle;\n",
       "    }\n",
       "\n",
       "    .dataframe tbody tr th {\n",
       "        vertical-align: top;\n",
       "    }\n",
       "\n",
       "    .dataframe thead th {\n",
       "        text-align: right;\n",
       "    }\n",
       "</style>\n",
       "<table border=\"1\" class=\"dataframe\">\n",
       "  <thead>\n",
       "    <tr style=\"text-align: right;\">\n",
       "      <th></th>\n",
       "      <th>property_type</th>\n",
       "      <th>society</th>\n",
       "      <th>sector</th>\n",
       "      <th>price</th>\n",
       "      <th>price_per_sqft</th>\n",
       "      <th>area</th>\n",
       "      <th>areaWithType</th>\n",
       "      <th>bedRoom</th>\n",
       "      <th>bathroom</th>\n",
       "      <th>balcony</th>\n",
       "      <th>floorNum</th>\n",
       "      <th>facing</th>\n",
       "      <th>agePossession</th>\n",
       "      <th>super_built_up_area</th>\n",
       "      <th>built_up_area</th>\n",
       "      <th>carpet_area</th>\n",
       "      <th>study room</th>\n",
       "      <th>servant room</th>\n",
       "      <th>store room</th>\n",
       "      <th>pooja room</th>\n",
       "      <th>others</th>\n",
       "      <th>furnishing_type</th>\n",
       "      <th>luxury_score</th>\n",
       "    </tr>\n",
       "  </thead>\n",
       "  <tbody>\n",
       "    <tr>\n",
       "      <th>783</th>\n",
       "      <td>flat</td>\n",
       "      <td>krrish provence estate</td>\n",
       "      <td>gwal pahari</td>\n",
       "      <td>7.5</td>\n",
       "      <td>7500.0</td>\n",
       "      <td>10000.00</td>\n",
       "      <td>Super Built up area 10000(929.03 sq.m.)</td>\n",
       "      <td>5.0</td>\n",
       "      <td>6.0</td>\n",
       "      <td>3+</td>\n",
       "      <td>23.0</td>\n",
       "      <td>North-East</td>\n",
       "      <td>Relatively New</td>\n",
       "      <td>10000.0</td>\n",
       "      <td>NaN</td>\n",
       "      <td>NaN</td>\n",
       "      <td>0.0</td>\n",
       "      <td>1.0</td>\n",
       "      <td>0.0</td>\n",
       "      <td>1.0</td>\n",
       "      <td>1.0</td>\n",
       "      <td>0.0</td>\n",
       "      <td>49.0</td>\n",
       "    </tr>\n",
       "    <tr>\n",
       "      <th>1940</th>\n",
       "      <td>flat</td>\n",
       "      <td>bestech park view grand spa</td>\n",
       "      <td>sector 81</td>\n",
       "      <td>4.7</td>\n",
       "      <td>6786.0</td>\n",
       "      <td>6926.02</td>\n",
       "      <td>Super Built up area 6926(643.45 sq.m.)</td>\n",
       "      <td>4.0</td>\n",
       "      <td>4.0</td>\n",
       "      <td>3+</td>\n",
       "      <td>19.0</td>\n",
       "      <td>North</td>\n",
       "      <td>Relatively New</td>\n",
       "      <td>6926.0</td>\n",
       "      <td>NaN</td>\n",
       "      <td>NaN</td>\n",
       "      <td>0.0</td>\n",
       "      <td>1.0</td>\n",
       "      <td>0.0</td>\n",
       "      <td>0.0</td>\n",
       "      <td>0.0</td>\n",
       "      <td>1.0</td>\n",
       "      <td>140.0</td>\n",
       "    </tr>\n",
       "  </tbody>\n",
       "</table>\n",
       "</div>"
      ],
      "text/plain": [
       "     property_type                      society       sector  price  \\\n",
       "783           flat       krrish provence estate  gwal pahari    7.5   \n",
       "1940          flat  bestech park view grand spa    sector 81    4.7   \n",
       "\n",
       "      price_per_sqft      area                             areaWithType  \\\n",
       "783           7500.0  10000.00  Super Built up area 10000(929.03 sq.m.)   \n",
       "1940          6786.0   6926.02   Super Built up area 6926(643.45 sq.m.)   \n",
       "\n",
       "      bedRoom  bathroom balcony  floorNum      facing   agePossession  \\\n",
       "783       5.0       6.0      3+      23.0  North-East  Relatively New   \n",
       "1940      4.0       4.0      3+      19.0       North  Relatively New   \n",
       "\n",
       "      super_built_up_area  built_up_area  carpet_area  study room  \\\n",
       "783               10000.0            NaN          NaN         0.0   \n",
       "1940               6926.0            NaN          NaN         0.0   \n",
       "\n",
       "      servant room  store room  pooja room  others  furnishing_type  \\\n",
       "783            1.0         0.0         1.0     1.0              0.0   \n",
       "1940           1.0         0.0         0.0     0.0              1.0   \n",
       "\n",
       "      luxury_score  \n",
       "783           49.0  \n",
       "1940         140.0  "
      ]
     },
     "execution_count": 160,
     "metadata": {},
     "output_type": "execute_result"
    }
   ],
   "source": [
    "df[df['super_built_up_area']>6000]"
   ]
  },
  {
   "cell_type": "markdown",
   "id": "2aa4bc8c",
   "metadata": {},
   "source": [
    "# built up area"
   ]
  },
  {
   "cell_type": "code",
   "execution_count": 161,
   "id": "313d02fd",
   "metadata": {},
   "outputs": [
    {
     "data": {
      "text/plain": [
       "<AxesSubplot:xlabel='built_up_area'>"
      ]
     },
     "execution_count": 161,
     "metadata": {},
     "output_type": "execute_result"
    },
    {
     "data": {
      "image/png": "[encoded data removed]",
      "text/plain": [
       "<Figure size 432x288 with 1 Axes>"
      ]
     },
     "metadata": {
      "needs_background": "light"
     },
     "output_type": "display_data"
    }
   ],
   "source": [
    "sns.boxplot(x=df['built_up_area'])\n"
   ]
  },
  {
   "cell_type": "code",
   "execution_count": 162,
   "id": "53f5f66c",
   "metadata": {},
   "outputs": [
    {
     "name": "stderr",
     "output_type": "stream",
     "text": [
      "/opt/anaconda3/lib/python3.8/site-packages/seaborn/distributions.py:2557: FutureWarning: `distplot` is a deprecated function and will be removed in a future version. Please adapt your code to use either `displot` (a figure-level function with similar flexibility) or `histplot` (an axes-level function for histograms).\n",
      "  warnings.warn(msg, FutureWarning)\n"
     ]
    },
    {
     "data": {
      "text/plain": [
       "<AxesSubplot:ylabel='Density'>"
      ]
     },
     "execution_count": 162,
     "metadata": {},
     "output_type": "execute_result"
    },
    {
     "data": {
      "image/png": "[encoded data removed]",
      "text/plain": [
       "<Figure size 432x288 with 1 Axes>"
      ]
     },
     "metadata": {
      "needs_background": "light"
     },
     "output_type": "display_data"
    }
   ],
   "source": [
    "sns.distplot(x=df['built_up_area'])\n"
   ]
  },
  {
   "cell_type": "code",
   "execution_count": 163,
   "id": "4b32f85e",
   "metadata": {},
   "outputs": [
    {
     "data": {
      "text/html": [
       "<div>\n",
       "<style scoped>\n",
       "    .dataframe tbody tr th:only-of-type {\n",
       "        vertical-align: middle;\n",
       "    }\n",
       "\n",
       "    .dataframe tbody tr th {\n",
       "        vertical-align: top;\n",
       "    }\n",
       "\n",
       "    .dataframe thead th {\n",
       "        text-align: right;\n",
       "    }\n",
       "</style>\n",
       "<table border=\"1\" class=\"dataframe\">\n",
       "  <thead>\n",
       "    <tr style=\"text-align: right;\">\n",
       "      <th></th>\n",
       "      <th>property_type</th>\n",
       "      <th>society</th>\n",
       "      <th>sector</th>\n",
       "      <th>price</th>\n",
       "      <th>price_per_sqft</th>\n",
       "      <th>area</th>\n",
       "      <th>areaWithType</th>\n",
       "      <th>bedRoom</th>\n",
       "      <th>bathroom</th>\n",
       "      <th>balcony</th>\n",
       "      <th>floorNum</th>\n",
       "      <th>facing</th>\n",
       "      <th>agePossession</th>\n",
       "      <th>super_built_up_area</th>\n",
       "      <th>built_up_area</th>\n",
       "      <th>carpet_area</th>\n",
       "      <th>study room</th>\n",
       "      <th>servant room</th>\n",
       "      <th>store room</th>\n",
       "      <th>pooja room</th>\n",
       "      <th>others</th>\n",
       "      <th>furnishing_type</th>\n",
       "      <th>luxury_score</th>\n",
       "    </tr>\n",
       "  </thead>\n",
       "  <tbody>\n",
       "    <tr>\n",
       "      <th>3024</th>\n",
       "      <td>house</td>\n",
       "      <td>independent</td>\n",
       "      <td>sector 25</td>\n",
       "      <td>10.0</td>\n",
       "      <td>37037.0</td>\n",
       "      <td>2700.0</td>\n",
       "      <td>Plot area 2700(250.84 sq.m.)Built Up area: 950...</td>\n",
       "      <td>5.0</td>\n",
       "      <td>5.0</td>\n",
       "      <td>3+</td>\n",
       "      <td>3.0</td>\n",
       "      <td>East</td>\n",
       "      <td>Moderately Old</td>\n",
       "      <td>NaN</td>\n",
       "      <td>9500.0</td>\n",
       "      <td>9000.0</td>\n",
       "      <td>0.0</td>\n",
       "      <td>1.0</td>\n",
       "      <td>0.0</td>\n",
       "      <td>1.0</td>\n",
       "      <td>0.0</td>\n",
       "      <td>2.0</td>\n",
       "      <td>29.0</td>\n",
       "    </tr>\n",
       "  </tbody>\n",
       "</table>\n",
       "</div>"
      ],
      "text/plain": [
       "     property_type      society     sector  price  price_per_sqft    area  \\\n",
       "3024         house  independent  sector 25   10.0         37037.0  2700.0   \n",
       "\n",
       "                                           areaWithType  bedRoom  bathroom  \\\n",
       "3024  Plot area 2700(250.84 sq.m.)Built Up area: 950...      5.0       5.0   \n",
       "\n",
       "     balcony  floorNum facing   agePossession  super_built_up_area  \\\n",
       "3024      3+       3.0   East  Moderately Old                  NaN   \n",
       "\n",
       "      built_up_area  carpet_area  study room  servant room  store room  \\\n",
       "3024         9500.0       9000.0         0.0           1.0         0.0   \n",
       "\n",
       "      pooja room  others  furnishing_type  luxury_score  \n",
       "3024         1.0     0.0              2.0          29.0  "
      ]
     },
     "execution_count": 163,
     "metadata": {},
     "output_type": "execute_result"
    }
   ],
   "source": [
    "df[df['built_up_area']>9000]"
   ]
  },
  {
   "cell_type": "markdown",
   "id": "ef7313de",
   "metadata": {},
   "source": [
    "# carpet area"
   ]
  },
  {
   "cell_type": "code",
   "execution_count": 164,
   "id": "94b9c483",
   "metadata": {},
   "outputs": [
    {
     "name": "stderr",
     "output_type": "stream",
     "text": [
      "/opt/anaconda3/lib/python3.8/site-packages/seaborn/distributions.py:2557: FutureWarning: `distplot` is a deprecated function and will be removed in a future version. Please adapt your code to use either `displot` (a figure-level function with similar flexibility) or `histplot` (an axes-level function for histograms).\n",
      "  warnings.warn(msg, FutureWarning)\n"
     ]
    },
    {
     "data": {
      "text/plain": [
       "<AxesSubplot:ylabel='Density'>"
      ]
     },
     "execution_count": 164,
     "metadata": {},
     "output_type": "execute_result"
    },
    {
     "data": {
      "image/png": "[encoded data removed]",
      "text/plain": [
       "<Figure size 432x288 with 1 Axes>"
      ]
     },
     "metadata": {
      "needs_background": "light"
     },
     "output_type": "display_data"
    }
   ],
   "source": [
    "sns.distplot(x=df['carpet_area'])\n"
   ]
  },
  {
   "cell_type": "code",
   "execution_count": 165,
   "id": "1c8092ef",
   "metadata": {},
   "outputs": [
    {
     "data": {
      "text/plain": [
       "<AxesSubplot:xlabel='carpet_area'>"
      ]
     },
     "execution_count": 165,
     "metadata": {},
     "output_type": "execute_result"
    },
    {
     "data": {
      "image/png": "[encoded data removed]",
      "text/plain": [
       "<Figure size 432x288 with 1 Axes>"
      ]
     },
     "metadata": {
      "needs_background": "light"
     },
     "output_type": "display_data"
    }
   ],
   "source": [
    "sns.boxplot(x=df['carpet_area'])\n"
   ]
  },
  {
   "cell_type": "code",
   "execution_count": 166,
   "id": "08ef58ca",
   "metadata": {},
   "outputs": [
    {
     "data": {
      "text/html": [
       "<div>\n",
       "<style scoped>\n",
       "    .dataframe tbody tr th:only-of-type {\n",
       "        vertical-align: middle;\n",
       "    }\n",
       "\n",
       "    .dataframe tbody tr th {\n",
       "        vertical-align: top;\n",
       "    }\n",
       "\n",
       "    .dataframe thead th {\n",
       "        text-align: right;\n",
       "    }\n",
       "</style>\n",
       "<table border=\"1\" class=\"dataframe\">\n",
       "  <thead>\n",
       "    <tr style=\"text-align: right;\">\n",
       "      <th></th>\n",
       "      <th>property_type</th>\n",
       "      <th>society</th>\n",
       "      <th>sector</th>\n",
       "      <th>price</th>\n",
       "      <th>price_per_sqft</th>\n",
       "      <th>area</th>\n",
       "      <th>areaWithType</th>\n",
       "      <th>bedRoom</th>\n",
       "      <th>bathroom</th>\n",
       "      <th>balcony</th>\n",
       "      <th>floorNum</th>\n",
       "      <th>facing</th>\n",
       "      <th>agePossession</th>\n",
       "      <th>super_built_up_area</th>\n",
       "      <th>built_up_area</th>\n",
       "      <th>carpet_area</th>\n",
       "      <th>study room</th>\n",
       "      <th>servant room</th>\n",
       "      <th>store room</th>\n",
       "      <th>pooja room</th>\n",
       "      <th>others</th>\n",
       "      <th>furnishing_type</th>\n",
       "      <th>luxury_score</th>\n",
       "    </tr>\n",
       "  </thead>\n",
       "  <tbody>\n",
       "  </tbody>\n",
       "</table>\n",
       "</div>"
      ],
      "text/plain": [
       "Empty DataFrame\n",
       "Columns: [property_type, society, sector, price, price_per_sqft, area, areaWithType, bedRoom, bathroom, balcony, floorNum, facing, agePossession, super_built_up_area, built_up_area, carpet_area, study room, servant room, store room, pooja room, others, furnishing_type, luxury_score]\n",
       "Index: []"
      ]
     },
     "execution_count": 166,
     "metadata": {},
     "output_type": "execute_result"
    }
   ],
   "source": [
    "df[df['carpet_area']>10000]"
   ]
  },
  {
   "cell_type": "code",
   "execution_count": 167,
   "id": "8d88bbf3",
   "metadata": {},
   "outputs": [
    {
     "name": "stderr",
     "output_type": "stream",
     "text": [
      "/opt/anaconda3/lib/python3.8/site-packages/seaborn/distributions.py:2557: FutureWarning: `distplot` is a deprecated function and will be removed in a future version. Please adapt your code to use either `displot` (a figure-level function with similar flexibility) or `histplot` (an axes-level function for histograms).\n",
      "  warnings.warn(msg, FutureWarning)\n"
     ]
    },
    {
     "data": {
      "text/plain": [
       "<AxesSubplot:ylabel='Density'>"
      ]
     },
     "execution_count": 167,
     "metadata": {},
     "output_type": "execute_result"
    },
    {
     "data": {
      "image/png": "[encoded data removed]",
      "text/plain": [
       "<Figure size 432x288 with 1 Axes>"
      ]
     },
     "metadata": {
      "needs_background": "light"
     },
     "output_type": "display_data"
    }
   ],
   "source": [
    "sns.distplot(x=df['luxury_score'])\n"
   ]
  },
  {
   "cell_type": "code",
   "execution_count": 168,
   "id": "73e31063",
   "metadata": {},
   "outputs": [
    {
     "data": {
      "text/plain": [
       "<AxesSubplot:xlabel='luxury_score'>"
      ]
     },
     "execution_count": 168,
     "metadata": {},
     "output_type": "execute_result"
    },
    {
     "data": {
      "image/png": "[encoded data removed]",
      "text/plain": [
       "<Figure size 432x288 with 1 Axes>"
      ]
     },
     "metadata": {
      "needs_background": "light"
     },
     "output_type": "display_data"
    }
   ],
   "source": [
    "sns.boxplot(x=df['luxury_score'])\n"
   ]
  },
  {
   "cell_type": "code",
   "execution_count": 169,
   "id": "da3d0ff2",
   "metadata": {},
   "outputs": [
    {
     "data": {
      "text/plain": [
       "(3578, 23)"
      ]
     },
     "execution_count": 169,
     "metadata": {},
     "output_type": "execute_result"
    }
   ],
   "source": [
    "df.shape"
   ]
  },
  {
   "cell_type": "code",
   "execution_count": 171,
   "id": "3e2558ca",
   "metadata": {},
   "outputs": [
    {
     "name": "stderr",
     "output_type": "stream",
     "text": [
      "/opt/anaconda3/lib/python3.8/site-packages/seaborn/distributions.py:2557: FutureWarning: `distplot` is a deprecated function and will be removed in a future version. Please adapt your code to use either `displot` (a figure-level function with similar flexibility) or `histplot` (an axes-level function for histograms).\n",
      "  warnings.warn(msg, FutureWarning)\n"
     ]
    },
    {
     "data": {
      "text/plain": [
       "<AxesSubplot:xlabel='price_per_sqft', ylabel='Density'>"
      ]
     },
     "execution_count": 171,
     "metadata": {},
     "output_type": "execute_result"
    },
    {
     "data": {
      "image/png": "[encoded data removed]",
      "text/plain": [
       "<Figure size 432x288 with 1 Axes>"
      ]
     },
     "metadata": {
      "needs_background": "light"
     },
     "output_type": "display_data"
    }
   ],
   "source": [
    "sns.distplot(df['price_per_sqft'])\n"
   ]
  },
  {
   "cell_type": "code",
   "execution_count": 175,
   "id": "47237004",
   "metadata": {},
   "outputs": [
    {
     "data": {
      "text/plain": [
       "185.57333333333335"
      ]
     },
     "execution_count": 175,
     "metadata": {},
     "output_type": "execute_result"
    }
   ],
   "source": [
    "x = df[df['price_per_sqft'] <= 20000]\n",
    "(x['area']/x['bedRoom']).quantile(0.02)"
   ]
  },
  {
   "cell_type": "code",
   "execution_count": 176,
   "id": "476f3d61",
   "metadata": {},
   "outputs": [
    {
     "data": {
      "text/html": [
       "<div>\n",
       "<style scoped>\n",
       "    .dataframe tbody tr th:only-of-type {\n",
       "        vertical-align: middle;\n",
       "    }\n",
       "\n",
       "    .dataframe tbody tr th {\n",
       "        vertical-align: top;\n",
       "    }\n",
       "\n",
       "    .dataframe thead th {\n",
       "        text-align: right;\n",
       "    }\n",
       "</style>\n",
       "<table border=\"1\" class=\"dataframe\">\n",
       "  <thead>\n",
       "    <tr style=\"text-align: right;\">\n",
       "      <th></th>\n",
       "      <th>property_type</th>\n",
       "      <th>society</th>\n",
       "      <th>sector</th>\n",
       "      <th>price</th>\n",
       "      <th>price_per_sqft</th>\n",
       "      <th>area</th>\n",
       "      <th>areaWithType</th>\n",
       "      <th>bedRoom</th>\n",
       "      <th>bathroom</th>\n",
       "      <th>balcony</th>\n",
       "      <th>floorNum</th>\n",
       "      <th>facing</th>\n",
       "      <th>agePossession</th>\n",
       "      <th>super_built_up_area</th>\n",
       "      <th>built_up_area</th>\n",
       "      <th>carpet_area</th>\n",
       "      <th>study room</th>\n",
       "      <th>servant room</th>\n",
       "      <th>store room</th>\n",
       "      <th>pooja room</th>\n",
       "      <th>others</th>\n",
       "      <th>furnishing_type</th>\n",
       "      <th>luxury_score</th>\n",
       "    </tr>\n",
       "  </thead>\n",
       "  <tbody>\n",
       "    <tr>\n",
       "      <th>17</th>\n",
       "      <td>house</td>\n",
       "      <td>row house</td>\n",
       "      <td>sector 105</td>\n",
       "      <td>0.43</td>\n",
       "      <td>9135.0</td>\n",
       "      <td>471.0</td>\n",
       "      <td>Plot area 52(43.48 sq.m.)Built Up area: 1050 s...</td>\n",
       "      <td>3.0</td>\n",
       "      <td>3.0</td>\n",
       "      <td>3</td>\n",
       "      <td>2.0</td>\n",
       "      <td>NaN</td>\n",
       "      <td>Relatively New</td>\n",
       "      <td>NaN</td>\n",
       "      <td>1050.0</td>\n",
       "      <td>NaN</td>\n",
       "      <td>0.0</td>\n",
       "      <td>0.0</td>\n",
       "      <td>0.0</td>\n",
       "      <td>0.0</td>\n",
       "      <td>0.0</td>\n",
       "      <td>0.0</td>\n",
       "      <td>0.0</td>\n",
       "    </tr>\n",
       "    <tr>\n",
       "      <th>41</th>\n",
       "      <td>house</td>\n",
       "      <td>ashok vihar phase iii extension</td>\n",
       "      <td>sector 3 phase 3 extension</td>\n",
       "      <td>0.40</td>\n",
       "      <td>8889.0</td>\n",
       "      <td>450.0</td>\n",
       "      <td>Plot area 50(41.81 sq.m.)</td>\n",
       "      <td>7.0</td>\n",
       "      <td>4.0</td>\n",
       "      <td>3+</td>\n",
       "      <td>4.0</td>\n",
       "      <td>NaN</td>\n",
       "      <td>New Property</td>\n",
       "      <td>NaN</td>\n",
       "      <td>450.0</td>\n",
       "      <td>NaN</td>\n",
       "      <td>0.0</td>\n",
       "      <td>0.0</td>\n",
       "      <td>0.0</td>\n",
       "      <td>1.0</td>\n",
       "      <td>0.0</td>\n",
       "      <td>0.0</td>\n",
       "      <td>7.0</td>\n",
       "    </tr>\n",
       "    <tr>\n",
       "      <th>131</th>\n",
       "      <td>house</td>\n",
       "      <td>independent</td>\n",
       "      <td>sector 55</td>\n",
       "      <td>5.00</td>\n",
       "      <td>44444.0</td>\n",
       "      <td>1125.0</td>\n",
       "      <td>Plot area 125(104.52 sq.m.)Built Up area: 115 ...</td>\n",
       "      <td>9.0</td>\n",
       "      <td>9.0</td>\n",
       "      <td>3+</td>\n",
       "      <td>5.0</td>\n",
       "      <td>East</td>\n",
       "      <td>New Property</td>\n",
       "      <td>NaN</td>\n",
       "      <td>115.0</td>\n",
       "      <td>100.0</td>\n",
       "      <td>0.0</td>\n",
       "      <td>0.0</td>\n",
       "      <td>0.0</td>\n",
       "      <td>0.0</td>\n",
       "      <td>1.0</td>\n",
       "      <td>1.0</td>\n",
       "      <td>44.0</td>\n",
       "    </tr>\n",
       "    <tr>\n",
       "      <th>191</th>\n",
       "      <td>house</td>\n",
       "      <td>independent</td>\n",
       "      <td>sector 105</td>\n",
       "      <td>1.20</td>\n",
       "      <td>13333.0</td>\n",
       "      <td>900.0</td>\n",
       "      <td>Plot area 900(83.61 sq.m.)</td>\n",
       "      <td>7.0</td>\n",
       "      <td>4.0</td>\n",
       "      <td>1</td>\n",
       "      <td>2.0</td>\n",
       "      <td>South-West</td>\n",
       "      <td>Moderately Old</td>\n",
       "      <td>NaN</td>\n",
       "      <td>900.0</td>\n",
       "      <td>NaN</td>\n",
       "      <td>0.0</td>\n",
       "      <td>0.0</td>\n",
       "      <td>0.0</td>\n",
       "      <td>0.0</td>\n",
       "      <td>1.0</td>\n",
       "      <td>0.0</td>\n",
       "      <td>14.0</td>\n",
       "    </tr>\n",
       "    <tr>\n",
       "      <th>230</th>\n",
       "      <td>house</td>\n",
       "      <td>independent</td>\n",
       "      <td>sector 13</td>\n",
       "      <td>1.50</td>\n",
       "      <td>11538.0</td>\n",
       "      <td>1300.0</td>\n",
       "      <td>Plot area 1300(120.77 sq.m.)</td>\n",
       "      <td>10.0</td>\n",
       "      <td>7.0</td>\n",
       "      <td>3</td>\n",
       "      <td>4.0</td>\n",
       "      <td>East</td>\n",
       "      <td>Moderately Old</td>\n",
       "      <td>NaN</td>\n",
       "      <td>1300.0</td>\n",
       "      <td>NaN</td>\n",
       "      <td>0.0</td>\n",
       "      <td>0.0</td>\n",
       "      <td>0.0</td>\n",
       "      <td>0.0</td>\n",
       "      <td>0.0</td>\n",
       "      <td>0.0</td>\n",
       "      <td>0.0</td>\n",
       "    </tr>\n",
       "    <tr>\n",
       "      <th>...</th>\n",
       "      <td>...</td>\n",
       "      <td>...</td>\n",
       "      <td>...</td>\n",
       "      <td>...</td>\n",
       "      <td>...</td>\n",
       "      <td>...</td>\n",
       "      <td>...</td>\n",
       "      <td>...</td>\n",
       "      <td>...</td>\n",
       "      <td>...</td>\n",
       "      <td>...</td>\n",
       "      <td>...</td>\n",
       "      <td>...</td>\n",
       "      <td>...</td>\n",
       "      <td>...</td>\n",
       "      <td>...</td>\n",
       "      <td>...</td>\n",
       "      <td>...</td>\n",
       "      <td>...</td>\n",
       "      <td>...</td>\n",
       "      <td>...</td>\n",
       "      <td>...</td>\n",
       "      <td>...</td>\n",
       "    </tr>\n",
       "    <tr>\n",
       "      <th>3512</th>\n",
       "      <td>house</td>\n",
       "      <td>jacob pura</td>\n",
       "      <td>sector 12</td>\n",
       "      <td>0.35</td>\n",
       "      <td>9722.0</td>\n",
       "      <td>360.0</td>\n",
       "      <td>Built Up area: 360 (33.45 sq.m.)</td>\n",
       "      <td>2.0</td>\n",
       "      <td>1.0</td>\n",
       "      <td>0</td>\n",
       "      <td>NaN</td>\n",
       "      <td>NaN</td>\n",
       "      <td>Old Property</td>\n",
       "      <td>NaN</td>\n",
       "      <td>360.0</td>\n",
       "      <td>NaN</td>\n",
       "      <td>0.0</td>\n",
       "      <td>0.0</td>\n",
       "      <td>0.0</td>\n",
       "      <td>0.0</td>\n",
       "      <td>0.0</td>\n",
       "      <td>0.0</td>\n",
       "      <td>0.0</td>\n",
       "    </tr>\n",
       "    <tr>\n",
       "      <th>3622</th>\n",
       "      <td>house</td>\n",
       "      <td>bhawani enclave</td>\n",
       "      <td>sector 12</td>\n",
       "      <td>0.42</td>\n",
       "      <td>8235.0</td>\n",
       "      <td>510.0</td>\n",
       "      <td>Plot area 565(52.49 sq.m.)Carpet area: 510 sq....</td>\n",
       "      <td>3.0</td>\n",
       "      <td>3.0</td>\n",
       "      <td>0</td>\n",
       "      <td>2.0</td>\n",
       "      <td>East</td>\n",
       "      <td>New Property</td>\n",
       "      <td>NaN</td>\n",
       "      <td>NaN</td>\n",
       "      <td>510.0</td>\n",
       "      <td>0.0</td>\n",
       "      <td>0.0</td>\n",
       "      <td>0.0</td>\n",
       "      <td>1.0</td>\n",
       "      <td>0.0</td>\n",
       "      <td>0.0</td>\n",
       "      <td>0.0</td>\n",
       "    </tr>\n",
       "    <tr>\n",
       "      <th>3631</th>\n",
       "      <td>house</td>\n",
       "      <td>jacobpura</td>\n",
       "      <td>sector 12</td>\n",
       "      <td>0.53</td>\n",
       "      <td>14583.0</td>\n",
       "      <td>363.0</td>\n",
       "      <td>Plot area 360(33.45 sq.m.)</td>\n",
       "      <td>4.0</td>\n",
       "      <td>4.0</td>\n",
       "      <td>2</td>\n",
       "      <td>3.0</td>\n",
       "      <td>East</td>\n",
       "      <td>Relatively New</td>\n",
       "      <td>NaN</td>\n",
       "      <td>360.0</td>\n",
       "      <td>NaN</td>\n",
       "      <td>0.0</td>\n",
       "      <td>0.0</td>\n",
       "      <td>0.0</td>\n",
       "      <td>0.0</td>\n",
       "      <td>0.0</td>\n",
       "      <td>0.0</td>\n",
       "      <td>0.0</td>\n",
       "    </tr>\n",
       "    <tr>\n",
       "      <th>3666</th>\n",
       "      <td>house</td>\n",
       "      <td>independent</td>\n",
       "      <td>sector 6</td>\n",
       "      <td>0.75</td>\n",
       "      <td>10518.0</td>\n",
       "      <td>713.0</td>\n",
       "      <td>Plot area 713(66.24 sq.m.)</td>\n",
       "      <td>6.0</td>\n",
       "      <td>4.0</td>\n",
       "      <td>1</td>\n",
       "      <td>3.0</td>\n",
       "      <td>NaN</td>\n",
       "      <td>Moderately Old</td>\n",
       "      <td>NaN</td>\n",
       "      <td>713.0</td>\n",
       "      <td>NaN</td>\n",
       "      <td>0.0</td>\n",
       "      <td>0.0</td>\n",
       "      <td>0.0</td>\n",
       "      <td>0.0</td>\n",
       "      <td>0.0</td>\n",
       "      <td>0.0</td>\n",
       "      <td>62.0</td>\n",
       "    </tr>\n",
       "    <tr>\n",
       "      <th>3760</th>\n",
       "      <td>house</td>\n",
       "      <td>independent</td>\n",
       "      <td>sector 104</td>\n",
       "      <td>0.60</td>\n",
       "      <td>5128.0</td>\n",
       "      <td>1170.0</td>\n",
       "      <td>Plot area 130(108.7 sq.m.)</td>\n",
       "      <td>7.0</td>\n",
       "      <td>3.0</td>\n",
       "      <td>1</td>\n",
       "      <td>2.0</td>\n",
       "      <td>North</td>\n",
       "      <td>Moderately Old</td>\n",
       "      <td>NaN</td>\n",
       "      <td>1170.0</td>\n",
       "      <td>NaN</td>\n",
       "      <td>0.0</td>\n",
       "      <td>0.0</td>\n",
       "      <td>0.0</td>\n",
       "      <td>0.0</td>\n",
       "      <td>0.0</td>\n",
       "      <td>0.0</td>\n",
       "      <td>0.0</td>\n",
       "    </tr>\n",
       "  </tbody>\n",
       "</table>\n",
       "<p>78 rows × 23 columns</p>\n",
       "</div>"
      ],
      "text/plain": [
       "     property_type                          society  \\\n",
       "17           house                        row house   \n",
       "41           house  ashok vihar phase iii extension   \n",
       "131          house                      independent   \n",
       "191          house                      independent   \n",
       "230          house                      independent   \n",
       "...            ...                              ...   \n",
       "3512         house                       jacob pura   \n",
       "3622         house                  bhawani enclave   \n",
       "3631         house                        jacobpura   \n",
       "3666         house                      independent   \n",
       "3760         house                      independent   \n",
       "\n",
       "                          sector  price  price_per_sqft    area  \\\n",
       "17                    sector 105   0.43          9135.0   471.0   \n",
       "41    sector 3 phase 3 extension   0.40          8889.0   450.0   \n",
       "131                    sector 55   5.00         44444.0  1125.0   \n",
       "191                   sector 105   1.20         13333.0   900.0   \n",
       "230                    sector 13   1.50         11538.0  1300.0   \n",
       "...                          ...    ...             ...     ...   \n",
       "3512                   sector 12   0.35          9722.0   360.0   \n",
       "3622                   sector 12   0.42          8235.0   510.0   \n",
       "3631                   sector 12   0.53         14583.0   363.0   \n",
       "3666                    sector 6   0.75         10518.0   713.0   \n",
       "3760                  sector 104   0.60          5128.0  1170.0   \n",
       "\n",
       "                                           areaWithType  bedRoom  bathroom  \\\n",
       "17    Plot area 52(43.48 sq.m.)Built Up area: 1050 s...      3.0       3.0   \n",
       "41                            Plot area 50(41.81 sq.m.)      7.0       4.0   \n",
       "131   Plot area 125(104.52 sq.m.)Built Up area: 115 ...      9.0       9.0   \n",
       "191                          Plot area 900(83.61 sq.m.)      7.0       4.0   \n",
       "230                        Plot area 1300(120.77 sq.m.)     10.0       7.0   \n",
       "...                                                 ...      ...       ...   \n",
       "3512                   Built Up area: 360 (33.45 sq.m.)      2.0       1.0   \n",
       "3622  Plot area 565(52.49 sq.m.)Carpet area: 510 sq....      3.0       3.0   \n",
       "3631                         Plot area 360(33.45 sq.m.)      4.0       4.0   \n",
       "3666                         Plot area 713(66.24 sq.m.)      6.0       4.0   \n",
       "3760                         Plot area 130(108.7 sq.m.)      7.0       3.0   \n",
       "\n",
       "     balcony  floorNum      facing   agePossession  super_built_up_area  \\\n",
       "17         3       2.0         NaN  Relatively New                  NaN   \n",
       "41        3+       4.0         NaN    New Property                  NaN   \n",
       "131       3+       5.0        East    New Property                  NaN   \n",
       "191        1       2.0  South-West  Moderately Old                  NaN   \n",
       "230        3       4.0        East  Moderately Old                  NaN   \n",
       "...      ...       ...         ...             ...                  ...   \n",
       "3512       0       NaN         NaN    Old Property                  NaN   \n",
       "3622       0       2.0        East    New Property                  NaN   \n",
       "3631       2       3.0        East  Relatively New                  NaN   \n",
       "3666       1       3.0         NaN  Moderately Old                  NaN   \n",
       "3760       1       2.0       North  Moderately Old                  NaN   \n",
       "\n",
       "      built_up_area  carpet_area  study room  servant room  store room  \\\n",
       "17           1050.0          NaN         0.0           0.0         0.0   \n",
       "41            450.0          NaN         0.0           0.0         0.0   \n",
       "131           115.0        100.0         0.0           0.0         0.0   \n",
       "191           900.0          NaN         0.0           0.0         0.0   \n",
       "230          1300.0          NaN         0.0           0.0         0.0   \n",
       "...             ...          ...         ...           ...         ...   \n",
       "3512          360.0          NaN         0.0           0.0         0.0   \n",
       "3622            NaN        510.0         0.0           0.0         0.0   \n",
       "3631          360.0          NaN         0.0           0.0         0.0   \n",
       "3666          713.0          NaN         0.0           0.0         0.0   \n",
       "3760         1170.0          NaN         0.0           0.0         0.0   \n",
       "\n",
       "      pooja room  others  furnishing_type  luxury_score  \n",
       "17           0.0     0.0              0.0           0.0  \n",
       "41           1.0     0.0              0.0           7.0  \n",
       "131          0.0     1.0              1.0          44.0  \n",
       "191          0.0     1.0              0.0          14.0  \n",
       "230          0.0     0.0              0.0           0.0  \n",
       "...          ...     ...              ...           ...  \n",
       "3512         0.0     0.0              0.0           0.0  \n",
       "3622         1.0     0.0              0.0           0.0  \n",
       "3631         0.0     0.0              0.0           0.0  \n",
       "3666         0.0     0.0              0.0          62.0  \n",
       "3760         0.0     0.0              0.0           0.0  \n",
       "\n",
       "[78 rows x 23 columns]"
      ]
     },
     "execution_count": 176,
     "metadata": {},
     "output_type": "execute_result"
    }
   ],
   "source": [
    "df[(df['area']/df['bedRoom'])<185.57333333333335]\n"
   ]
  },
  {
   "cell_type": "code",
   "execution_count": 177,
   "id": "09e40189",
   "metadata": {},
   "outputs": [
    {
     "data": {
      "text/plain": [
       "<seaborn.axisgrid.FacetGrid at 0x7ff748cb3970>"
      ]
     },
     "execution_count": 177,
     "metadata": {},
     "output_type": "execute_result"
    },
    {
     "data": {
      "image/png": "[encoded data removed]",
      "text/plain": [
       "<Figure size 360x360 with 1 Axes>"
      ]
     },
     "metadata": {
      "needs_background": "light"
     },
     "output_type": "display_data"
    }
   ],
   "source": [
    "sns.lmplot(data=df,x='area',y='bedRoom')"
   ]
  },
  {
   "cell_type": "code",
   "execution_count": 178,
   "id": "d2b98149",
   "metadata": {},
   "outputs": [],
   "source": [
    "df['area_room_ratio']=df['area']/df['bedRoom']"
   ]
  },
  {
   "cell_type": "code",
   "execution_count": 179,
   "id": "43d595b5",
   "metadata": {},
   "outputs": [
    {
     "data": {
      "text/plain": [
       "2.0     47\n",
       "3.0     33\n",
       "5.0     28\n",
       "4.0     17\n",
       "6.0     17\n",
       "9.0     15\n",
       "8.0     12\n",
       "7.0      8\n",
       "10.0     7\n",
       "Name: bedRoom, dtype: int64"
      ]
     },
     "execution_count": 179,
     "metadata": {},
     "output_type": "execute_result"
    }
   ],
   "source": [
    "(df[df['area_room_ratio']<250])['bedRoom'].value_counts()"
   ]
  },
  {
   "cell_type": "code",
   "execution_count": 182,
   "id": "54cb4ff3",
   "metadata": {},
   "outputs": [],
   "source": [
    "df=df[df['area_room_ratio']>100]"
   ]
  },
  {
   "cell_type": "code",
   "execution_count": 184,
   "id": "e9e98fd8",
   "metadata": {},
   "outputs": [],
   "source": [
    "outliers_df = df[(df['area_room_ratio']<250)& (df['bedRoom']>3)]"
   ]
  },
  {
   "cell_type": "code",
   "execution_count": 185,
   "id": "b3818d24",
   "metadata": {},
   "outputs": [
    {
     "name": "stderr",
     "output_type": "stream",
     "text": [
      "<ipython-input-185-0770af6b66c8>:1: SettingWithCopyWarning: \n",
      "A value is trying to be set on a copy of a slice from a DataFrame.\n",
      "Try using .loc[row_indexer,col_indexer] = value instead\n",
      "\n",
      "See the caveats in the documentation: https://pandas.pydata.org/pandas-docs/stable/user_guide/indexing.html#returning-a-view-versus-a-copy\n",
      "  outliers_df['bedRoom']=round(outliers_df['bedRoom']/outliers_df['floorNum'])\n"
     ]
    }
   ],
   "source": [
    "outliers_df['bedRoom']=round(outliers_df['bedRoom']/outliers_df['floorNum'])"
   ]
  },
  {
   "cell_type": "code",
   "execution_count": 186,
   "id": "1b729de0",
   "metadata": {},
   "outputs": [],
   "source": [
    "df.update(outliers_df)"
   ]
  },
  {
   "cell_type": "code",
   "execution_count": 187,
   "id": "55470443",
   "metadata": {},
   "outputs": [],
   "source": [
    "df['area_room_ratio']= df['area']/df['bedRoom']"
   ]
  },
  {
   "cell_type": "code",
   "execution_count": 191,
   "id": "23e11b8a",
   "metadata": {},
   "outputs": [],
   "source": [
    "df=df[~((df['area_room_ratio']<250)& (df['bedRoom']>4))]"
   ]
  },
  {
   "cell_type": "code",
   "execution_count": 192,
   "id": "97889696",
   "metadata": {},
   "outputs": [
    {
     "data": {
      "text/plain": [
       "<seaborn.axisgrid.FacetGrid at 0x7ff749afa3a0>"
      ]
     },
     "execution_count": 192,
     "metadata": {},
     "output_type": "execute_result"
    },
    {
     "data": {
      "image/png": "[encoded data removed]",
      "text/plain": [
       "<Figure size 360x360 with 1 Axes>"
      ]
     },
     "metadata": {
      "needs_background": "light"
     },
     "output_type": "display_data"
    }
   ],
   "source": [
    "sns.lmplot(data=df,x='area',y='bedRoom')"
   ]
  },
  {
   "cell_type": "code",
   "execution_count": 193,
   "id": "8d3bcc23",
   "metadata": {},
   "outputs": [
    {
     "data": {
      "text/plain": [
       "(3545, 24)"
      ]
     },
     "execution_count": 193,
     "metadata": {},
     "output_type": "execute_result"
    }
   ],
   "source": [
    "df.shape"
   ]
  },
  {
   "cell_type": "code",
   "execution_count": 194,
   "id": "560ecaa0",
   "metadata": {},
   "outputs": [],
   "source": [
    "df.to_csv('gurgaon_properties_outliers_removed.csv')"
   ]
  },
  {
   "cell_type": "code",
   "execution_count": null,
   "id": "235a1f7d",
   "metadata": {},
   "outputs": [],
   "source": []
  }
 ],
 "metadata": {
  "kernelspec": {
   "display_name": "Python 3",
   "language": "python",
   "name": "python3"
  },
  "language_info": {
   "codemirror_mode": {
    "name": "ipython",
    "version": 3
   },
   "file_extension": ".py",
   "mimetype": "text/x-python",
   "name": "python",
   "nbconvert_exporter": "python",
   "pygments_lexer": "ipython3",
   "version": "3.8.8"
  }
 },
 "nbformat": 4,
 "nbformat_minor": 5
}
