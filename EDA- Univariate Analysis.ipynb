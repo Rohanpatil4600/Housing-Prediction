{
 "cells": [
  {
   "cell_type": "code",
   "execution_count": 1,
   "id": "04066c08",
   "metadata": {},
   "outputs": [],
   "source": [
    "import pandas as pd\n",
    "import numpy as np\n"
   ]
  },
  {
   "cell_type": "code",
   "execution_count": 2,
   "id": "15cd7947",
   "metadata": {},
   "outputs": [],
   "source": [
    "import matplotlib.pyplot as plt\n",
    "import seaborn as sns"
   ]
  },
  {
   "cell_type": "code",
   "execution_count": 3,
   "id": "df27ebb4",
   "metadata": {},
   "outputs": [],
   "source": [
    "df= pd.read_csv('gurgaon_properties_cleaned_v2.csv')"
   ]
  },
  {
   "cell_type": "code",
   "execution_count": 9,
   "id": "35c7d886",
   "metadata": {},
   "outputs": [
    {
     "data": {
      "text/html": [
       "<div>\n",
       "<style scoped>\n",
       "    .dataframe tbody tr th:only-of-type {\n",
       "        vertical-align: middle;\n",
       "    }\n",
       "\n",
       "    .dataframe tbody tr th {\n",
       "        vertical-align: top;\n",
       "    }\n",
       "\n",
       "    .dataframe thead th {\n",
       "        text-align: right;\n",
       "    }\n",
       "</style>\n",
       "<table border=\"1\" class=\"dataframe\">\n",
       "  <thead>\n",
       "    <tr style=\"text-align: right;\">\n",
       "      <th></th>\n",
       "      <th>property_type</th>\n",
       "      <th>society</th>\n",
       "      <th>sector</th>\n",
       "      <th>price</th>\n",
       "      <th>price_per_sqft</th>\n",
       "      <th>area</th>\n",
       "      <th>areaWithType</th>\n",
       "      <th>bedRoom</th>\n",
       "      <th>bathroom</th>\n",
       "      <th>balcony</th>\n",
       "      <th>...</th>\n",
       "      <th>super_built_up_area</th>\n",
       "      <th>built_up_area</th>\n",
       "      <th>carpet_area</th>\n",
       "      <th>study room</th>\n",
       "      <th>servant room</th>\n",
       "      <th>store room</th>\n",
       "      <th>pooja room</th>\n",
       "      <th>others</th>\n",
       "      <th>furnishing_type</th>\n",
       "      <th>luxury_score</th>\n",
       "    </tr>\n",
       "  </thead>\n",
       "  <tbody>\n",
       "    <tr>\n",
       "      <th>2374</th>\n",
       "      <td>flat</td>\n",
       "      <td>shapoorji pallonji joyville gurugram</td>\n",
       "      <td>sector 102</td>\n",
       "      <td>1.28</td>\n",
       "      <td>10534.0</td>\n",
       "      <td>1215.11</td>\n",
       "      <td>Super Built up area 1215(112.88 sq.m.)</td>\n",
       "      <td>2</td>\n",
       "      <td>2</td>\n",
       "      <td>3</td>\n",
       "      <td>...</td>\n",
       "      <td>1215.0</td>\n",
       "      <td>NaN</td>\n",
       "      <td>NaN</td>\n",
       "      <td>0</td>\n",
       "      <td>0</td>\n",
       "      <td>0</td>\n",
       "      <td>0</td>\n",
       "      <td>0</td>\n",
       "      <td>0</td>\n",
       "      <td>49</td>\n",
       "    </tr>\n",
       "    <tr>\n",
       "      <th>2042</th>\n",
       "      <td>flat</td>\n",
       "      <td>parsvnath exotica</td>\n",
       "      <td>sector 53</td>\n",
       "      <td>4.80</td>\n",
       "      <td>14680.0</td>\n",
       "      <td>3269.75</td>\n",
       "      <td>Built Up area: 2895 (268.95 sq.m.)</td>\n",
       "      <td>3</td>\n",
       "      <td>4</td>\n",
       "      <td>3+</td>\n",
       "      <td>...</td>\n",
       "      <td>NaN</td>\n",
       "      <td>2895.0</td>\n",
       "      <td>NaN</td>\n",
       "      <td>0</td>\n",
       "      <td>0</td>\n",
       "      <td>0</td>\n",
       "      <td>0</td>\n",
       "      <td>0</td>\n",
       "      <td>0</td>\n",
       "      <td>69</td>\n",
       "    </tr>\n",
       "    <tr>\n",
       "      <th>1386</th>\n",
       "      <td>flat</td>\n",
       "      <td>hcbs sports ville</td>\n",
       "      <td>sohna road</td>\n",
       "      <td>0.32</td>\n",
       "      <td>5517.0</td>\n",
       "      <td>580.03</td>\n",
       "      <td>Carpet area: 580 (53.88 sq.m.)</td>\n",
       "      <td>2</td>\n",
       "      <td>2</td>\n",
       "      <td>1</td>\n",
       "      <td>...</td>\n",
       "      <td>NaN</td>\n",
       "      <td>NaN</td>\n",
       "      <td>580.0</td>\n",
       "      <td>0</td>\n",
       "      <td>0</td>\n",
       "      <td>0</td>\n",
       "      <td>0</td>\n",
       "      <td>0</td>\n",
       "      <td>0</td>\n",
       "      <td>37</td>\n",
       "    </tr>\n",
       "    <tr>\n",
       "      <th>1299</th>\n",
       "      <td>flat</td>\n",
       "      <td>m3m woodshire</td>\n",
       "      <td>sector 107</td>\n",
       "      <td>1.49</td>\n",
       "      <td>6310.0</td>\n",
       "      <td>2361.33</td>\n",
       "      <td>Super Built up area 2361(219.34 sq.m.)</td>\n",
       "      <td>3</td>\n",
       "      <td>4</td>\n",
       "      <td>3+</td>\n",
       "      <td>...</td>\n",
       "      <td>2361.0</td>\n",
       "      <td>NaN</td>\n",
       "      <td>NaN</td>\n",
       "      <td>0</td>\n",
       "      <td>1</td>\n",
       "      <td>1</td>\n",
       "      <td>0</td>\n",
       "      <td>0</td>\n",
       "      <td>1</td>\n",
       "      <td>174</td>\n",
       "    </tr>\n",
       "    <tr>\n",
       "      <th>3231</th>\n",
       "      <td>flat</td>\n",
       "      <td>sushant lok 1 builder floors</td>\n",
       "      <td>sector 43</td>\n",
       "      <td>2.50</td>\n",
       "      <td>12920.0</td>\n",
       "      <td>1934.98</td>\n",
       "      <td>Super Built up area 215(179.77 sq.m.)</td>\n",
       "      <td>3</td>\n",
       "      <td>3</td>\n",
       "      <td>2</td>\n",
       "      <td>...</td>\n",
       "      <td>215.0</td>\n",
       "      <td>NaN</td>\n",
       "      <td>NaN</td>\n",
       "      <td>0</td>\n",
       "      <td>0</td>\n",
       "      <td>0</td>\n",
       "      <td>0</td>\n",
       "      <td>0</td>\n",
       "      <td>0</td>\n",
       "      <td>0</td>\n",
       "    </tr>\n",
       "  </tbody>\n",
       "</table>\n",
       "<p>5 rows × 23 columns</p>\n",
       "</div>"
      ],
      "text/plain": [
       "     property_type                               society      sector  price  \\\n",
       "2374          flat  shapoorji pallonji joyville gurugram  sector 102   1.28   \n",
       "2042          flat                     parsvnath exotica   sector 53   4.80   \n",
       "1386          flat                     hcbs sports ville  sohna road   0.32   \n",
       "1299          flat                         m3m woodshire  sector 107   1.49   \n",
       "3231          flat          sushant lok 1 builder floors   sector 43   2.50   \n",
       "\n",
       "      price_per_sqft     area                            areaWithType  \\\n",
       "2374         10534.0  1215.11  Super Built up area 1215(112.88 sq.m.)   \n",
       "2042         14680.0  3269.75      Built Up area: 2895 (268.95 sq.m.)   \n",
       "1386          5517.0   580.03          Carpet area: 580 (53.88 sq.m.)   \n",
       "1299          6310.0  2361.33  Super Built up area 2361(219.34 sq.m.)   \n",
       "3231         12920.0  1934.98   Super Built up area 215(179.77 sq.m.)   \n",
       "\n",
       "      bedRoom  bathroom balcony  ...  super_built_up_area built_up_area  \\\n",
       "2374        2         2       3  ...               1215.0           NaN   \n",
       "2042        3         4      3+  ...                  NaN        2895.0   \n",
       "1386        2         2       1  ...                  NaN           NaN   \n",
       "1299        3         4      3+  ...               2361.0           NaN   \n",
       "3231        3         3       2  ...                215.0           NaN   \n",
       "\n",
       "     carpet_area  study room  servant room  store room  pooja room  others  \\\n",
       "2374         NaN           0             0           0           0       0   \n",
       "2042         NaN           0             0           0           0       0   \n",
       "1386       580.0           0             0           0           0       0   \n",
       "1299         NaN           0             1           1           0       0   \n",
       "3231         NaN           0             0           0           0       0   \n",
       "\n",
       "      furnishing_type  luxury_score  \n",
       "2374                0            49  \n",
       "2042                0            69  \n",
       "1386                0            37  \n",
       "1299                1           174  \n",
       "3231                0             0  \n",
       "\n",
       "[5 rows x 23 columns]"
      ]
     },
     "execution_count": 9,
     "metadata": {},
     "output_type": "execute_result"
    }
   ],
   "source": [
    "df.sample(5)"
   ]
  },
  {
   "cell_type": "code",
   "execution_count": 6,
   "id": "3605b2bc",
   "metadata": {},
   "outputs": [
    {
     "data": {
      "text/plain": [
       "(3803, 23)"
      ]
     },
     "execution_count": 6,
     "metadata": {},
     "output_type": "execute_result"
    }
   ],
   "source": [
    "df.shape"
   ]
  },
  {
   "cell_type": "code",
   "execution_count": 7,
   "id": "e3445e95",
   "metadata": {},
   "outputs": [
    {
     "name": "stdout",
     "output_type": "stream",
     "text": [
      "<class 'pandas.core.frame.DataFrame'>\n",
      "RangeIndex: 3803 entries, 0 to 3802\n",
      "Data columns (total 23 columns):\n",
      " #   Column               Non-Null Count  Dtype  \n",
      "---  ------               --------------  -----  \n",
      " 0   property_type        3803 non-null   object \n",
      " 1   society              3802 non-null   object \n",
      " 2   sector               3803 non-null   object \n",
      " 3   price                3785 non-null   float64\n",
      " 4   price_per_sqft       3785 non-null   float64\n",
      " 5   area                 3785 non-null   float64\n",
      " 6   areaWithType         3803 non-null   object \n",
      " 7   bedRoom              3803 non-null   int64  \n",
      " 8   bathroom             3803 non-null   int64  \n",
      " 9   balcony              3803 non-null   object \n",
      " 10  floorNum             3656 non-null   float64\n",
      " 11  facing               2698 non-null   object \n",
      " 12  agePossession        3803 non-null   object \n",
      " 13  super_built_up_area  1915 non-null   float64\n",
      " 14  built_up_area        1733 non-null   float64\n",
      " 15  carpet_area          1944 non-null   float64\n",
      " 16  study room           3803 non-null   int64  \n",
      " 17  servant room         3803 non-null   int64  \n",
      " 18  store room           3803 non-null   int64  \n",
      " 19  pooja room           3803 non-null   int64  \n",
      " 20  others               3803 non-null   int64  \n",
      " 21  furnishing_type      3803 non-null   int64  \n",
      " 22  luxury_score         3803 non-null   int64  \n",
      "dtypes: float64(7), int64(9), object(7)\n",
      "memory usage: 683.5+ KB\n"
     ]
    }
   ],
   "source": [
    "df.info()"
   ]
  },
  {
   "cell_type": "code",
   "execution_count": 11,
   "id": "4efebaa8",
   "metadata": {},
   "outputs": [
    {
     "data": {
      "text/plain": [
       "125"
      ]
     },
     "execution_count": 11,
     "metadata": {},
     "output_type": "execute_result"
    }
   ],
   "source": [
    "df.duplicated().sum()"
   ]
  },
  {
   "cell_type": "code",
   "execution_count": 12,
   "id": "f12d32b7",
   "metadata": {},
   "outputs": [],
   "source": [
    "df.drop_duplicates(inplace=True)"
   ]
  },
  {
   "cell_type": "code",
   "execution_count": 14,
   "id": "f4f13dd6",
   "metadata": {},
   "outputs": [
    {
     "data": {
      "text/plain": [
       "(3678, 23)"
      ]
     },
     "execution_count": 14,
     "metadata": {},
     "output_type": "execute_result"
    }
   ],
   "source": [
    "df.shape"
   ]
  },
  {
   "cell_type": "markdown",
   "id": "a1620785",
   "metadata": {},
   "source": [
    "# property_type\n"
   ]
  },
  {
   "cell_type": "code",
   "execution_count": 16,
   "id": "db19fa2c",
   "metadata": {},
   "outputs": [
    {
     "data": {
      "text/plain": [
       "<AxesSubplot:>"
      ]
     },
     "execution_count": 16,
     "metadata": {},
     "output_type": "execute_result"
    },
    {
     "data": {
      "image/png": "[encoded data removed]",
      "text/plain": [
       "<Figure size 432x288 with 1 Axes>"
      ]
     },
     "metadata": {
      "needs_background": "light"
     },
     "output_type": "display_data"
    }
   ],
   "source": [
    "df['property_type'].value_counts().plot(kind='bar')"
   ]
  },
  {
   "cell_type": "markdown",
   "id": "006f5c54",
   "metadata": {},
   "source": [
    "# society\n"
   ]
  },
  {
   "cell_type": "code",
   "execution_count": 18,
   "id": "14a51b7c",
   "metadata": {},
   "outputs": [
    {
     "data": {
      "text/plain": [
       "(676,)"
      ]
     },
     "execution_count": 18,
     "metadata": {},
     "output_type": "execute_result"
    }
   ],
   "source": [
    "df['society'].value_counts().shape"
   ]
  },
  {
   "cell_type": "code",
   "execution_count": 19,
   "id": "2a580e48",
   "metadata": {},
   "outputs": [
    {
     "data": {
      "text/plain": [
       "independent                             486\n",
       "tulip violet                             75\n",
       "ss the leaf                              73\n",
       "shapoorji pallonji joyville gurugram     42\n",
       "dlf new town heights                     42\n",
       "                                       ... \n",
       "ramshanti cooperative society             1\n",
       "rail vihar cghs                           1\n",
       "whiteland  the aspen                      1\n",
       "m3m crown                                 1\n",
       "raheja teachers apartments                1\n",
       "Name: society, Length: 676, dtype: int64"
      ]
     },
     "execution_count": 19,
     "metadata": {},
     "output_type": "execute_result"
    }
   ],
   "source": [
    "df['society'].value_counts()"
   ]
  },
  {
   "cell_type": "code",
   "execution_count": 24,
   "id": "8e793282",
   "metadata": {},
   "outputs": [
    {
     "data": {
      "text/plain": [
       "tulip violet                            0.023504\n",
       "ss the leaf                             0.046380\n",
       "shapoorji pallonji joyville gurugram    0.059542\n",
       "dlf new town heights                    0.072704\n",
       "signature global park                   0.083673\n",
       "                                          ...   \n",
       "puri emerald bay                        0.490128\n",
       "ansal heights 86                        0.494202\n",
       "the close north                         0.498276\n",
       "ireo the corridors                      0.502037\n",
       "unitech uniworld resorts                0.505798\n",
       "Name: society, Length: 75, dtype: float64"
      ]
     },
     "execution_count": 24,
     "metadata": {},
     "output_type": "execute_result"
    }
   ],
   "source": [
    "df[df['society']!='independent']['society'].value_counts(normalize=True).cumsum().head(75)"
   ]
  },
  {
   "cell_type": "code",
   "execution_count": 25,
   "id": "a8e501ba",
   "metadata": {},
   "outputs": [],
   "source": [
    "society_counts= df['society'].value_counts()"
   ]
  },
  {
   "cell_type": "code",
   "execution_count": 26,
   "id": "ead55664",
   "metadata": {},
   "outputs": [
    {
     "data": {
      "text/plain": [
       "{'Very High (>100)': 1,\n",
       " 'High (50-100)': 2,\n",
       " 'Average (10-49)': 92,\n",
       " 'Low (2-9)': 273,\n",
       " 'Very Low (1)': 308}"
      ]
     },
     "execution_count": 26,
     "metadata": {},
     "output_type": "execute_result"
    }
   ],
   "source": [
    "frequency_bins = {\n",
    "    \"Very High (>100)\": (society_counts > 100).sum(),\n",
    "    \"High (50-100)\": ((society_counts >= 50) & (society_counts <= 100)).sum(),\n",
    "    \"Average (10-49)\": ((society_counts >= 10) & (society_counts < 50)).sum(),\n",
    "    \"Low (2-9)\": ((society_counts > 1) & (society_counts < 10)).sum(),\n",
    "    \"Very Low (1)\": (society_counts == 1).sum()\n",
    "}\n",
    "frequency_bins"
   ]
  },
  {
   "cell_type": "code",
   "execution_count": 28,
   "id": "fc1aed22",
   "metadata": {},
   "outputs": [
    {
     "data": {
      "text/plain": [
       "<AxesSubplot:>"
      ]
     },
     "execution_count": 28,
     "metadata": {},
     "output_type": "execute_result"
    },
    {
     "data": {
      "image/png": "[encoded data removed]",
      "text/plain": [
       "<Figure size 432x288 with 1 Axes>"
      ]
     },
     "metadata": {
      "needs_background": "light"
     },
     "output_type": "display_data"
    }
   ],
   "source": [
    "# top 10 societies\n",
    "df[df['society']!='independent']['society'].value_counts().head(10).plot(kind='bar')"
   ]
  },
  {
   "cell_type": "code",
   "execution_count": 29,
   "id": "a2838f99",
   "metadata": {},
   "outputs": [
    {
     "data": {
      "text/plain": [
       "1"
      ]
     },
     "execution_count": 29,
     "metadata": {},
     "output_type": "execute_result"
    }
   ],
   "source": [
    "df['society'].isnull().sum()"
   ]
  },
  {
   "cell_type": "code",
   "execution_count": 30,
   "id": "c9967960",
   "metadata": {},
   "outputs": [
    {
     "data": {
      "text/html": [
       "<div>\n",
       "<style scoped>\n",
       "    .dataframe tbody tr th:only-of-type {\n",
       "        vertical-align: middle;\n",
       "    }\n",
       "\n",
       "    .dataframe tbody tr th {\n",
       "        vertical-align: top;\n",
       "    }\n",
       "\n",
       "    .dataframe thead th {\n",
       "        text-align: right;\n",
       "    }\n",
       "</style>\n",
       "<table border=\"1\" class=\"dataframe\">\n",
       "  <thead>\n",
       "    <tr style=\"text-align: right;\">\n",
       "      <th></th>\n",
       "      <th>property_type</th>\n",
       "      <th>society</th>\n",
       "      <th>sector</th>\n",
       "      <th>price</th>\n",
       "      <th>price_per_sqft</th>\n",
       "      <th>area</th>\n",
       "      <th>areaWithType</th>\n",
       "      <th>bedRoom</th>\n",
       "      <th>bathroom</th>\n",
       "      <th>balcony</th>\n",
       "      <th>...</th>\n",
       "      <th>super_built_up_area</th>\n",
       "      <th>built_up_area</th>\n",
       "      <th>carpet_area</th>\n",
       "      <th>study room</th>\n",
       "      <th>servant room</th>\n",
       "      <th>store room</th>\n",
       "      <th>pooja room</th>\n",
       "      <th>others</th>\n",
       "      <th>furnishing_type</th>\n",
       "      <th>luxury_score</th>\n",
       "    </tr>\n",
       "  </thead>\n",
       "  <tbody>\n",
       "    <tr>\n",
       "      <th>750</th>\n",
       "      <td>flat</td>\n",
       "      <td>NaN</td>\n",
       "      <td>sector 78</td>\n",
       "      <td>0.6</td>\n",
       "      <td>3692.0</td>\n",
       "      <td>1625.14</td>\n",
       "      <td>Built Up area: 1625 (150.97 sq.m.)</td>\n",
       "      <td>2</td>\n",
       "      <td>2</td>\n",
       "      <td>0</td>\n",
       "      <td>...</td>\n",
       "      <td>NaN</td>\n",
       "      <td>1625.0</td>\n",
       "      <td>NaN</td>\n",
       "      <td>0</td>\n",
       "      <td>0</td>\n",
       "      <td>0</td>\n",
       "      <td>0</td>\n",
       "      <td>0</td>\n",
       "      <td>0</td>\n",
       "      <td>0</td>\n",
       "    </tr>\n",
       "  </tbody>\n",
       "</table>\n",
       "<p>1 rows × 23 columns</p>\n",
       "</div>"
      ],
      "text/plain": [
       "    property_type society     sector  price  price_per_sqft     area  \\\n",
       "750          flat     NaN  sector 78    0.6          3692.0  1625.14   \n",
       "\n",
       "                           areaWithType  bedRoom  bathroom balcony  ...  \\\n",
       "750  Built Up area: 1625 (150.97 sq.m.)        2         2       0  ...   \n",
       "\n",
       "     super_built_up_area built_up_area carpet_area  study room  servant room  \\\n",
       "750                  NaN        1625.0         NaN           0             0   \n",
       "\n",
       "     store room  pooja room  others  furnishing_type  luxury_score  \n",
       "750           0           0       0                0             0  \n",
       "\n",
       "[1 rows x 23 columns]"
      ]
     },
     "execution_count": 30,
     "metadata": {},
     "output_type": "execute_result"
    }
   ],
   "source": [
    "df[df['society'].isnull()]"
   ]
  },
  {
   "cell_type": "markdown",
   "id": "1e5d775c",
   "metadata": {},
   "source": [
    "# sector"
   ]
  },
  {
   "cell_type": "code",
   "execution_count": 31,
   "id": "4d823a58",
   "metadata": {},
   "outputs": [
    {
     "data": {
      "text/plain": [
       "(115,)"
      ]
     },
     "execution_count": 31,
     "metadata": {},
     "output_type": "execute_result"
    }
   ],
   "source": [
    "df['sector'].value_counts().shape"
   ]
  },
  {
   "cell_type": "code",
   "execution_count": 32,
   "id": "5a8fc884",
   "metadata": {},
   "outputs": [
    {
     "data": {
      "text/plain": [
       "<AxesSubplot:>"
      ]
     },
     "execution_count": 32,
     "metadata": {},
     "output_type": "execute_result"
    },
    {
     "data": {
      "image/png": "[encoded data removed]",
      "text/plain": [
       "<Figure size 432x288 with 1 Axes>"
      ]
     },
     "metadata": {
      "needs_background": "light"
     },
     "output_type": "display_data"
    }
   ],
   "source": [
    "df['sector'].value_counts().head(10).plot(kind='bar')"
   ]
  },
  {
   "cell_type": "code",
   "execution_count": 35,
   "id": "96e79782",
   "metadata": {},
   "outputs": [
    {
     "data": {
      "text/plain": [
       "sohna road    154\n",
       "sector 85     108\n",
       "sector 102    106\n",
       "sector 92     100\n",
       "sector 69      93\n",
       "             ... \n",
       "sector 73       3\n",
       "sector 88b      3\n",
       "sector 17a      3\n",
       "sector 17b      3\n",
       "sector 37       1\n",
       "Name: sector, Length: 115, dtype: int64"
      ]
     },
     "execution_count": 35,
     "metadata": {},
     "output_type": "execute_result"
    }
   ],
   "source": [
    "df['sector'].value_counts()"
   ]
  },
  {
   "cell_type": "code",
   "execution_count": 36,
   "id": "13fee146",
   "metadata": {},
   "outputs": [
    {
     "data": {
      "text/plain": [
       "{'Very High (>100)': 3,\n",
       " 'High (50-100)': 25,\n",
       " 'Average (10-49)': 63,\n",
       " 'Low (2-9)': 23,\n",
       " 'Very Low (1)': 1}"
      ]
     },
     "execution_count": 36,
     "metadata": {},
     "output_type": "execute_result"
    }
   ],
   "source": [
    "# Frequency distribution for sectors\n",
    "sector_counts = df['sector'].value_counts()\n",
    "\n",
    "sector_frequency_bins = {\n",
    "    \"Very High (>100)\": (sector_counts > 100).sum(),\n",
    "    \"High (50-100)\": ((sector_counts >= 50) & (sector_counts <= 100)).sum(),\n",
    "    \"Average (10-49)\": ((sector_counts >= 10) & (sector_counts < 50)).sum(),\n",
    "    \"Low (2-9)\": ((sector_counts > 1) & (sector_counts < 10)).sum(),\n",
    "    \"Very Low (1)\": (sector_counts == 1).sum()\n",
    "}\n",
    "\n",
    "sector_frequency_bins"
   ]
  },
  {
   "cell_type": "markdown",
   "id": "f60e1dd4",
   "metadata": {},
   "source": [
    "# Price"
   ]
  },
  {
   "cell_type": "code",
   "execution_count": 37,
   "id": "ea591509",
   "metadata": {},
   "outputs": [
    {
     "data": {
      "text/plain": [
       "17"
      ]
     },
     "execution_count": 37,
     "metadata": {},
     "output_type": "execute_result"
    }
   ],
   "source": [
    "df['price'].isnull().sum()"
   ]
  },
  {
   "cell_type": "code",
   "execution_count": 38,
   "id": "9f70e6f7",
   "metadata": {},
   "outputs": [
    {
     "data": {
      "text/plain": [
       "count    3661.000000\n",
       "mean        2.533218\n",
       "std         2.980339\n",
       "min         0.070000\n",
       "25%         0.950000\n",
       "50%         1.520000\n",
       "75%         2.750000\n",
       "max        31.500000\n",
       "Name: price, dtype: float64"
      ]
     },
     "execution_count": 38,
     "metadata": {},
     "output_type": "execute_result"
    }
   ],
   "source": [
    "df['price'].describe()"
   ]
  },
  {
   "cell_type": "code",
   "execution_count": 39,
   "id": "f9a7fd5d",
   "metadata": {},
   "outputs": [
    {
     "data": {
      "text/plain": [
       "<AxesSubplot:xlabel='price', ylabel='Count'>"
      ]
     },
     "execution_count": 39,
     "metadata": {},
     "output_type": "execute_result"
    },
    {
     "data": {
      "image/png": "[encoded data removed]",
      "text/plain": [
       "<Figure size 432x288 with 1 Axes>"
      ]
     },
     "metadata": {
      "needs_background": "light"
     },
     "output_type": "display_data"
    }
   ],
   "source": [
    "sns.histplot(df['price'],kde=True, bins=50)"
   ]
  },
  {
   "cell_type": "code",
   "execution_count": 41,
   "id": "ceaa5618",
   "metadata": {},
   "outputs": [
    {
     "data": {
      "text/plain": [
       "<AxesSubplot:xlabel='price'>"
      ]
     },
     "execution_count": 41,
     "metadata": {},
     "output_type": "execute_result"
    },
    {
     "data": {
      "image/png": "[encoded data removed]",
      "text/plain": [
       "<Figure size 432x288 with 1 Axes>"
      ]
     },
     "metadata": {
      "needs_background": "light"
     },
     "output_type": "display_data"
    }
   ],
   "source": [
    "sns.boxplot(x=df['price'],color='lightgreen')"
   ]
  },
  {
   "cell_type": "code",
   "execution_count": 43,
   "id": "b67a76d9",
   "metadata": {},
   "outputs": [
    {
     "name": "stdout",
     "output_type": "stream",
     "text": [
      "3.2796187103229677 14.937313263556527\n"
     ]
    }
   ],
   "source": [
    "# skewness and kurtosis\n",
    "skewness = df['price'].skew()\n",
    "kurtosis = df['price'].kurt()\n",
    "print(skewness, kurtosis)"
   ]
  },
  {
   "cell_type": "code",
   "execution_count": 44,
   "id": "cd6bb231",
   "metadata": {},
   "outputs": [
    {
     "data": {
      "text/plain": [
       "0.01     0.25\n",
       "0.05     0.37\n",
       "0.95     8.50\n",
       "0.99    15.26\n",
       "Name: price, dtype: float64"
      ]
     },
     "execution_count": 44,
     "metadata": {},
     "output_type": "execute_result"
    }
   ],
   "source": [
    "#Quantile analysis\n",
    "quantiles = df['price'].quantile([0.01, 0.05, 0.95,0.99])\n",
    "quantiles"
   ]
  },
  {
   "cell_type": "code",
   "execution_count": 45,
   "id": "112d543b",
   "metadata": {},
   "outputs": [
    {
     "data": {
      "text/plain": [
       "1.8"
      ]
     },
     "execution_count": 45,
     "metadata": {},
     "output_type": "execute_result"
    }
   ],
   "source": [
    "#outlier using IQR\n",
    "Q1 = df['price'].describe()['25%']\n",
    "Q3 = df['price'].describe()['75%']\n",
    "IQR = Q3-Q1\n",
    "IQR"
   ]
  },
  {
   "cell_type": "code",
   "execution_count": 47,
   "id": "070b133f",
   "metadata": {},
   "outputs": [
    {
     "name": "stdout",
     "output_type": "stream",
     "text": [
      "-1.7500000000000002 5.45\n"
     ]
    }
   ],
   "source": [
    "lower_bound = Q1 - 1.5*IQR\n",
    "upper_bound = Q3 + 1.5*IQR\n",
    "print(lower_bound, upper_bound)"
   ]
  },
  {
   "cell_type": "code",
   "execution_count": 58,
   "id": "c1aca115",
   "metadata": {},
   "outputs": [
    {
     "data": {
      "text/plain": [
       "(425, 23)"
      ]
     },
     "execution_count": 58,
     "metadata": {},
     "output_type": "execute_result"
    }
   ],
   "source": [
    "outliers=df[(df['price']<lower_bound) | (df['price']>upper_bound)]\n",
    "outliers.shape"
   ]
  },
  {
   "cell_type": "code",
   "execution_count": 59,
   "id": "47929165",
   "metadata": {},
   "outputs": [
    {
     "data": {
      "text/plain": [
       "count    425.000000\n",
       "mean       9.235624\n",
       "std        4.065259\n",
       "min        5.460000\n",
       "25%        6.460000\n",
       "50%        8.000000\n",
       "75%       10.750000\n",
       "max       31.500000\n",
       "Name: price, dtype: float64"
      ]
     },
     "execution_count": 59,
     "metadata": {},
     "output_type": "execute_result"
    }
   ],
   "source": [
    "outliers['price'].describe()"
   ]
  },
  {
   "cell_type": "code",
   "execution_count": 60,
   "id": "e1083093",
   "metadata": {},
   "outputs": [
    {
     "data": {
      "text/plain": [
       "<AxesSubplot:>"
      ]
     },
     "execution_count": 60,
     "metadata": {},
     "output_type": "execute_result"
    },
    {
     "data": {
      "image/png": "[encoded data removed]",
      "text/plain": [
       "<Figure size 432x288 with 1 Axes>"
      ]
     },
     "metadata": {
      "needs_background": "light"
     },
     "output_type": "display_data"
    }
   ],
   "source": [
    "#price binning\n",
    "bins= [0,1,2,3,5,10,20,50]\n",
    "bin_labels = [\"0-1\", \"1-2\", \"2-3\", \"3-5\", \"5-10\", \"10-20\", \"20-50\"]\n",
    "pd.cut(df['price'], bins=bins, labels=bin_labels, right=False).value_counts().sort_index().plot(kind='bar')\n"
   ]
  },
  {
   "cell_type": "code",
   "execution_count": 62,
   "id": "57d23739",
   "metadata": {},
   "outputs": [
    {
     "data": {
      "image/png": "[encoded data removed]",
      "text/plain": [
       "<Figure size 432x288 with 1 Axes>"
      ]
     },
     "metadata": {
      "needs_background": "light"
     },
     "output_type": "display_data"
    }
   ],
   "source": [
    "#ecdf plot\n",
    "ecdf = df['price'].value_counts().sort_index().cumsum()/len(df['price'])\n",
    "plt.plot(ecdf.index,ecdf,marker='.',linestyle='none')\n",
    "plt.grid()"
   ]
  },
  {
   "cell_type": "code",
   "execution_count": 65,
   "id": "7796c645",
   "metadata": {},
   "outputs": [
    {
     "data": {
      "image/png": "[encoded data removed]",
      "text/plain": [
       "<Figure size 1080x432 with 2 Axes>"
      ]
     },
     "metadata": {
      "needs_background": "light"
     },
     "output_type": "display_data"
    }
   ],
   "source": [
    "# transformation of right skewed data by log transformation\n",
    "plt.figure(figsize=(15,6))\n",
    "\n",
    "# distribution plot without log transformation\n",
    "plt.subplot(1,2,1)\n",
    "sns.histplot(df['price'],kde=True, bins=50, color='skyblue')\n",
    "plt.title('Distribution of Prices (Originial)')\n",
    "plt.xlabel('Price (in Crores)')\n",
    "plt.ylabel('Frequency')\n",
    "\n",
    "# distribution plot with log transformation\n",
    "plt.subplot(1,2,2)\n",
    "sns.histplot(np.log1p(df['price']),kde=True, bins=50, color='lightgreen')\n",
    "plt.title('Distribution of Prices (Log Transformation)')\n",
    "plt.xlabel('log(Price)')\n",
    "plt.ylabel('Frequency')\n",
    "\n",
    "plt.tight_layout()\n",
    "plt.show()"
   ]
  },
  {
   "cell_type": "code",
   "execution_count": 66,
   "id": "e23a4bd3",
   "metadata": {},
   "outputs": [
    {
     "name": "stdout",
     "output_type": "stream",
     "text": [
      "1.0744773410770752 0.9655458908937518\n"
     ]
    }
   ],
   "source": [
    "skewness = np.log1p(df['price']).skew()\n",
    "kurtosis = np.log1p(df['price']).kurt()\n",
    "print(skewness, kurtosis)"
   ]
  },
  {
   "cell_type": "code",
   "execution_count": 69,
   "id": "efa8d971",
   "metadata": {},
   "outputs": [
    {
     "name": "stderr",
     "output_type": "stream",
     "text": [
      "/opt/anaconda3/lib/python3.8/site-packages/seaborn/_decorators.py:36: FutureWarning: Pass the following variable as a keyword arg: x. From version 0.12, the only valid positional argument will be `data`, and passing other arguments without an explicit keyword will result in an error or misinterpretation.\n",
      "  warnings.warn(\n",
      "/opt/anaconda3/lib/python3.8/site-packages/seaborn/_decorators.py:36: FutureWarning: Pass the following variable as a keyword arg: x. From version 0.12, the only valid positional argument will be `data`, and passing other arguments without an explicit keyword will result in an error or misinterpretation.\n",
      "  warnings.warn(\n"
     ]
    },
    {
     "data": {
      "image/png": "[encoded data removed]",
      "text/plain": [
       "<Figure size 1080x432 with 2 Axes>"
      ]
     },
     "metadata": {
      "needs_background": "light"
     },
     "output_type": "display_data"
    }
   ],
   "source": [
    "plt.figure(figsize=(15,6))\n",
    "\n",
    "# distribution plot without log transformation\n",
    "plt.subplot(1,2,1)\n",
    "sns.boxplot(df['price'], color='skyblue')\n",
    "plt.title('Distribution of Prices (Originial)')\n",
    "plt.xlabel('Price (in Crores)')\n",
    "plt.ylabel('Frequency')\n",
    "\n",
    "# distribution plot with log transformation\n",
    "plt.subplot(1,2,2)\n",
    "sns.boxplot(np.log1p(df['price']), color='lightgreen')\n",
    "plt.title('Distribution of Prices (Log Transformation)')\n",
    "plt.xlabel('log(Price)')\n",
    "plt.ylabel('Frequency')\n",
    "\n",
    "plt.tight_layout()\n",
    "plt.show()"
   ]
  },
  {
   "cell_type": "markdown",
   "id": "286353b8",
   "metadata": {},
   "source": [
    "# price_per_sqft"
   ]
  },
  {
   "cell_type": "code",
   "execution_count": 70,
   "id": "614289b0",
   "metadata": {},
   "outputs": [
    {
     "data": {
      "text/plain": [
       "17"
      ]
     },
     "execution_count": 70,
     "metadata": {},
     "output_type": "execute_result"
    }
   ],
   "source": [
    "df['price_per_sqft'].isnull().sum()"
   ]
  },
  {
   "cell_type": "code",
   "execution_count": 71,
   "id": "44244950",
   "metadata": {},
   "outputs": [
    {
     "data": {
      "text/plain": [
       "count      3661.000000\n",
       "mean      13890.406993\n",
       "std       23207.299539\n",
       "min           4.000000\n",
       "25%        6815.000000\n",
       "50%        9020.000000\n",
       "75%       13878.000000\n",
       "max      600000.000000\n",
       "Name: price_per_sqft, dtype: float64"
      ]
     },
     "execution_count": 71,
     "metadata": {},
     "output_type": "execute_result"
    }
   ],
   "source": [
    "df['price_per_sqft'].describe()"
   ]
  },
  {
   "cell_type": "code",
   "execution_count": 75,
   "id": "497981d2",
   "metadata": {},
   "outputs": [
    {
     "data": {
      "text/plain": [
       "<AxesSubplot:xlabel='price_per_sqft', ylabel='Count'>"
      ]
     },
     "execution_count": 75,
     "metadata": {},
     "output_type": "execute_result"
    },
    {
     "data": {
      "image/png": "[encoded data removed]",
      "text/plain": [
       "<Figure size 432x288 with 1 Axes>"
      ]
     },
     "metadata": {
      "needs_background": "light"
     },
     "output_type": "display_data"
    }
   ],
   "source": [
    "sns.histplot(df['price_per_sqft'],bins=50, color='skyblue',kde=True)"
   ]
  },
  {
   "cell_type": "code",
   "execution_count": 76,
   "id": "e7bd877a",
   "metadata": {},
   "outputs": [
    {
     "name": "stderr",
     "output_type": "stream",
     "text": [
      "/opt/anaconda3/lib/python3.8/site-packages/seaborn/_decorators.py:36: FutureWarning: Pass the following variable as a keyword arg: x. From version 0.12, the only valid positional argument will be `data`, and passing other arguments without an explicit keyword will result in an error or misinterpretation.\n",
      "  warnings.warn(\n"
     ]
    },
    {
     "data": {
      "text/plain": [
       "<AxesSubplot:xlabel='price_per_sqft'>"
      ]
     },
     "execution_count": 76,
     "metadata": {},
     "output_type": "execute_result"
    },
    {
     "data": {
      "image/png": "[encoded data removed]",
      "text/plain": [
       "<Figure size 432x288 with 1 Axes>"
      ]
     },
     "metadata": {
      "needs_background": "light"
     },
     "output_type": "display_data"
    }
   ],
   "source": [
    "sns.boxplot(df['price_per_sqft'], color='lightgreen')"
   ]
  },
  {
   "cell_type": "markdown",
   "id": "f543aa8c",
   "metadata": {},
   "source": [
    " # bedRoom"
   ]
  },
  {
   "cell_type": "code",
   "execution_count": 77,
   "id": "351dab08",
   "metadata": {},
   "outputs": [
    {
     "data": {
      "text/plain": [
       "0"
      ]
     },
     "execution_count": 77,
     "metadata": {},
     "output_type": "execute_result"
    }
   ],
   "source": [
    "df['bedRoom'].isnull().sum()"
   ]
  },
  {
   "cell_type": "code",
   "execution_count": 80,
   "id": "4fcbcde3",
   "metadata": {},
   "outputs": [
    {
     "data": {
      "text/plain": [
       "<AxesSubplot:>"
      ]
     },
     "execution_count": 80,
     "metadata": {},
     "output_type": "execute_result"
    },
    {
     "data": {
      "image/png": "[encoded data removed]",
      "text/plain": [
       "<Figure size 432x288 with 1 Axes>"
      ]
     },
     "metadata": {
      "needs_background": "light"
     },
     "output_type": "display_data"
    }
   ],
   "source": [
    "df['bedRoom'].value_counts().sort_index().plot(kind='bar')"
   ]
  },
  {
   "cell_type": "code",
   "execution_count": 81,
   "id": "7ffa3519",
   "metadata": {},
   "outputs": [
    {
     "name": "stderr",
     "output_type": "stream",
     "text": [
      "/opt/anaconda3/lib/python3.8/site-packages/pandas/plotting/_matplotlib/core.py:1583: MatplotlibDeprecationWarning: normalize=None does not normalize if the sum is less than 1 but this behavior is deprecated since 3.3 until two minor releases later. After the deprecation period the default value will be normalize=True. To prevent normalization pass normalize=False \n",
      "  results = ax.pie(y, labels=blabels, **kwds)\n"
     ]
    },
    {
     "data": {
      "text/plain": [
       "<AxesSubplot:ylabel='bedRoom'>"
      ]
     },
     "execution_count": 81,
     "metadata": {},
     "output_type": "execute_result"
    },
    {
     "data": {
      "image/png": "[encoded data removed]",
      "text/plain": [
       "<Figure size 432x288 with 1 Axes>"
      ]
     },
     "metadata": {},
     "output_type": "display_data"
    }
   ],
   "source": [
    "df['bedRoom'].value_counts(normalize=True).head().plot(kind='pie',autopct='%0.2f%%')"
   ]
  },
  {
   "cell_type": "markdown",
   "id": "3afe2296",
   "metadata": {},
   "source": [
    "# bathroom"
   ]
  },
  {
   "cell_type": "code",
   "execution_count": 82,
   "id": "ee6dd188",
   "metadata": {},
   "outputs": [
    {
     "data": {
      "text/plain": [
       "0"
      ]
     },
     "execution_count": 82,
     "metadata": {},
     "output_type": "execute_result"
    }
   ],
   "source": [
    "df['bathroom'].isnull().sum()"
   ]
  },
  {
   "cell_type": "code",
   "execution_count": 83,
   "id": "fb95327f",
   "metadata": {},
   "outputs": [
    {
     "data": {
      "text/plain": [
       "<AxesSubplot:>"
      ]
     },
     "execution_count": 83,
     "metadata": {},
     "output_type": "execute_result"
    },
    {
     "data": {
      "image/png": "[encoded data removed]",
      "text/plain": [
       "<Figure size 432x288 with 1 Axes>"
      ]
     },
     "metadata": {
      "needs_background": "light"
     },
     "output_type": "display_data"
    }
   ],
   "source": [
    "df['bathroom'].value_counts().sort_index().plot(kind='bar')"
   ]
  },
  {
   "cell_type": "code",
   "execution_count": 84,
   "id": "60f77268",
   "metadata": {},
   "outputs": [
    {
     "name": "stderr",
     "output_type": "stream",
     "text": [
      "/opt/anaconda3/lib/python3.8/site-packages/pandas/plotting/_matplotlib/core.py:1583: MatplotlibDeprecationWarning: normalize=None does not normalize if the sum is less than 1 but this behavior is deprecated since 3.3 until two minor releases later. After the deprecation period the default value will be normalize=True. To prevent normalization pass normalize=False \n",
      "  results = ax.pie(y, labels=blabels, **kwds)\n"
     ]
    },
    {
     "data": {
      "text/plain": [
       "<AxesSubplot:ylabel='bathroom'>"
      ]
     },
     "execution_count": 84,
     "metadata": {},
     "output_type": "execute_result"
    },
    {
     "data": {
      "image/png": "[encoded data removed]",
      "text/plain": [
       "<Figure size 432x288 with 1 Axes>"
      ]
     },
     "metadata": {},
     "output_type": "display_data"
    }
   ],
   "source": [
    "df['bathroom'].value_counts(normalize=True).head().plot(kind='pie',autopct='%0.2f%%')"
   ]
  },
  {
   "cell_type": "markdown",
   "id": "5e14c2b9",
   "metadata": {},
   "source": [
    "# balcony"
   ]
  },
  {
   "cell_type": "code",
   "execution_count": 85,
   "id": "2d4a30b1",
   "metadata": {},
   "outputs": [
    {
     "data": {
      "text/plain": [
       "<AxesSubplot:>"
      ]
     },
     "execution_count": 85,
     "metadata": {},
     "output_type": "execute_result"
    },
    {
     "data": {
      "image/png": "[encoded data removed]",
      "text/plain": [
       "<Figure size 432x288 with 1 Axes>"
      ]
     },
     "metadata": {
      "needs_background": "light"
     },
     "output_type": "display_data"
    }
   ],
   "source": [
    "df['balcony'].value_counts().plot(kind='bar')"
   ]
  },
  {
   "cell_type": "code",
   "execution_count": 90,
   "id": "c1538ab1",
   "metadata": {},
   "outputs": [
    {
     "name": "stderr",
     "output_type": "stream",
     "text": [
      "/opt/anaconda3/lib/python3.8/site-packages/pandas/plotting/_matplotlib/core.py:1583: MatplotlibDeprecationWarning: normalize=None does not normalize if the sum is less than 1 but this behavior is deprecated since 3.3 until two minor releases later. After the deprecation period the default value will be normalize=True. To prevent normalization pass normalize=False \n",
      "  results = ax.pie(y, labels=blabels, **kwds)\n"
     ]
    },
    {
     "data": {
      "text/plain": [
       "<AxesSubplot:ylabel='balcony'>"
      ]
     },
     "execution_count": 90,
     "metadata": {},
     "output_type": "execute_result"
    },
    {
     "data": {
      "image/png": "[encoded data removed]",
      "text/plain": [
       "<Figure size 432x288 with 1 Axes>"
      ]
     },
     "metadata": {},
     "output_type": "display_data"
    }
   ],
   "source": [
    "df['balcony'].value_counts(normalize=True).head().plot(kind='pie',autopct='%0.2f%%')"
   ]
  },
  {
   "cell_type": "markdown",
   "id": "2b2b19f6",
   "metadata": {},
   "source": [
    "# floorNum"
   ]
  },
  {
   "cell_type": "code",
   "execution_count": 92,
   "id": "446f0ede",
   "metadata": {},
   "outputs": [
    {
     "data": {
      "text/plain": [
       "143"
      ]
     },
     "execution_count": 92,
     "metadata": {},
     "output_type": "execute_result"
    }
   ],
   "source": [
    "df['floorNum'].isnull().sum()"
   ]
  },
  {
   "cell_type": "code",
   "execution_count": 98,
   "id": "495e5058",
   "metadata": {},
   "outputs": [
    {
     "data": {
      "text/plain": [
       "count    3535.000000\n",
       "mean        7.034795\n",
       "std         5.978568\n",
       "min         0.000000\n",
       "25%         3.000000\n",
       "50%         5.000000\n",
       "75%        10.000000\n",
       "max        51.000000\n",
       "Name: floorNum, dtype: float64"
      ]
     },
     "execution_count": 98,
     "metadata": {},
     "output_type": "execute_result"
    }
   ],
   "source": [
    "df['floorNum'].describe()"
   ]
  },
  {
   "cell_type": "code",
   "execution_count": 105,
   "id": "927230b8",
   "metadata": {},
   "outputs": [
    {
     "data": {
      "text/plain": [
       "<AxesSubplot:>"
      ]
     },
     "execution_count": 105,
     "metadata": {},
     "output_type": "execute_result"
    },
    {
     "data": {
      "image/png": "[encoded data removed]",
      "text/plain": [
       "<Figure size 432x288 with 1 Axes>"
      ]
     },
     "metadata": {
      "needs_background": "light"
     },
     "output_type": "display_data"
    }
   ],
   "source": [
    "df['floorNum'].value_counts().sort_index().plot(kind='bar')"
   ]
  },
  {
   "cell_type": "code",
   "execution_count": 103,
   "id": "5bf2bb7b",
   "metadata": {},
   "outputs": [],
   "source": [
    "df['floorNum']=df['floorNum'].fillna(0.0)"
   ]
  },
  {
   "cell_type": "code",
   "execution_count": 106,
   "id": "723f109d",
   "metadata": {},
   "outputs": [
    {
     "name": "stderr",
     "output_type": "stream",
     "text": [
      "/opt/anaconda3/lib/python3.8/site-packages/seaborn/_decorators.py:36: FutureWarning: Pass the following variable as a keyword arg: x. From version 0.12, the only valid positional argument will be `data`, and passing other arguments without an explicit keyword will result in an error or misinterpretation.\n",
      "  warnings.warn(\n"
     ]
    },
    {
     "data": {
      "text/plain": [
       "<AxesSubplot:xlabel='floorNum'>"
      ]
     },
     "execution_count": 106,
     "metadata": {},
     "output_type": "execute_result"
    },
    {
     "data": {
      "image/png": "[encoded data removed]",
      "text/plain": [
       "<Figure size 432x288 with 1 Axes>"
      ]
     },
     "metadata": {
      "needs_background": "light"
     },
     "output_type": "display_data"
    }
   ],
   "source": [
    "sns.boxplot(df['floorNum'],color='lightgreen')"
   ]
  },
  {
   "cell_type": "markdown",
   "id": "fff94f07",
   "metadata": {},
   "source": [
    "# facing"
   ]
  },
  {
   "cell_type": "code",
   "execution_count": 107,
   "id": "477d754c",
   "metadata": {},
   "outputs": [
    {
     "data": {
      "text/plain": [
       "1045"
      ]
     },
     "execution_count": 107,
     "metadata": {},
     "output_type": "execute_result"
    }
   ],
   "source": [
    "df['facing'].isnull().sum()"
   ]
  },
  {
   "cell_type": "code",
   "execution_count": 109,
   "id": "3ce76aaf",
   "metadata": {},
   "outputs": [],
   "source": [
    "df['facing'].fillna('NA',inplace=True)"
   ]
  },
  {
   "cell_type": "code",
   "execution_count": 112,
   "id": "fcebf153",
   "metadata": {},
   "outputs": [
    {
     "data": {
      "text/plain": [
       "0"
      ]
     },
     "execution_count": 112,
     "metadata": {},
     "output_type": "execute_result"
    }
   ],
   "source": [
    "df['facing'].isnull().sum()"
   ]
  },
  {
   "cell_type": "code",
   "execution_count": 113,
   "id": "2acf7dc9",
   "metadata": {},
   "outputs": [
    {
     "data": {
      "text/plain": [
       "NA            1045\n",
       "North-East     624\n",
       "East           623\n",
       "North          387\n",
       "West           249\n",
       "South          231\n",
       "North-West     193\n",
       "South-East     173\n",
       "South-West     153\n",
       "Name: facing, dtype: int64"
      ]
     },
     "execution_count": 113,
     "metadata": {},
     "output_type": "execute_result"
    }
   ],
   "source": [
    "df['facing'].value_counts()"
   ]
  },
  {
   "cell_type": "markdown",
   "id": "2247b9c6",
   "metadata": {},
   "source": [
    "# agePossession"
   ]
  },
  {
   "cell_type": "code",
   "execution_count": 114,
   "id": "1fef1c18",
   "metadata": {},
   "outputs": [
    {
     "data": {
      "text/plain": [
       "0"
      ]
     },
     "execution_count": 114,
     "metadata": {},
     "output_type": "execute_result"
    }
   ],
   "source": [
    "df['agePossession'].isnull().sum()"
   ]
  },
  {
   "cell_type": "code",
   "execution_count": 115,
   "id": "d84317d3",
   "metadata": {},
   "outputs": [
    {
     "data": {
      "text/plain": [
       "Relatively New        1646\n",
       "New Property           593\n",
       "Moderately Old         563\n",
       "Undefined              306\n",
       "Old Property           303\n",
       "Under Construction     267\n",
       "Name: agePossession, dtype: int64"
      ]
     },
     "execution_count": 115,
     "metadata": {},
     "output_type": "execute_result"
    }
   ],
   "source": [
    "df['agePossession'].value_counts()"
   ]
  },
  {
   "cell_type": "markdown",
   "id": "cf1af6e8",
   "metadata": {},
   "source": [
    "# areas"
   ]
  },
  {
   "cell_type": "code",
   "execution_count": 116,
   "id": "9ff37876",
   "metadata": {},
   "outputs": [
    {
     "data": {
      "text/plain": [
       "1802"
      ]
     },
     "execution_count": 116,
     "metadata": {},
     "output_type": "execute_result"
    }
   ],
   "source": [
    "df['super_built_up_area'].isnull().sum()"
   ]
  },
  {
   "cell_type": "code",
   "execution_count": 117,
   "id": "dd4be4b3",
   "metadata": {},
   "outputs": [
    {
     "data": {
      "text/plain": [
       "count     1876.000000\n",
       "mean      1925.065858\n",
       "std        764.004595\n",
       "min         89.000000\n",
       "25%       1479.750000\n",
       "50%       1828.000000\n",
       "75%       2215.000000\n",
       "max      10000.000000\n",
       "Name: super_built_up_area, dtype: float64"
      ]
     },
     "execution_count": 117,
     "metadata": {},
     "output_type": "execute_result"
    }
   ],
   "source": [
    "df['super_built_up_area'].describe()"
   ]
  },
  {
   "cell_type": "code",
   "execution_count": 118,
   "id": "5f29ffd6",
   "metadata": {},
   "outputs": [
    {
     "data": {
      "text/plain": [
       "<AxesSubplot:xlabel='super_built_up_area', ylabel='Count'>"
      ]
     },
     "execution_count": 118,
     "metadata": {},
     "output_type": "execute_result"
    },
    {
     "data": {
      "image/png": "[encoded data removed]",
      "text/plain": [
       "<Figure size 432x288 with 1 Axes>"
      ]
     },
     "metadata": {
      "needs_background": "light"
     },
     "output_type": "display_data"
    }
   ],
   "source": [
    "sns.histplot(df['super_built_up_area'].dropna(),bins=50, color='skyblue',kde=True)"
   ]
  },
  {
   "cell_type": "code",
   "execution_count": 119,
   "id": "d54745d9",
   "metadata": {},
   "outputs": [
    {
     "name": "stderr",
     "output_type": "stream",
     "text": [
      "/opt/anaconda3/lib/python3.8/site-packages/seaborn/_decorators.py:36: FutureWarning: Pass the following variable as a keyword arg: x. From version 0.12, the only valid positional argument will be `data`, and passing other arguments without an explicit keyword will result in an error or misinterpretation.\n",
      "  warnings.warn(\n"
     ]
    },
    {
     "data": {
      "text/plain": [
       "<AxesSubplot:xlabel='super_built_up_area'>"
      ]
     },
     "execution_count": 119,
     "metadata": {},
     "output_type": "execute_result"
    },
    {
     "data": {
      "image/png": "[encoded data removed]",
      "text/plain": [
       "<Figure size 432x288 with 1 Axes>"
      ]
     },
     "metadata": {
      "needs_background": "light"
     },
     "output_type": "display_data"
    }
   ],
   "source": [
    "sns.boxplot(df['super_built_up_area'].dropna(),color='lightgreen')"
   ]
  },
  {
   "cell_type": "code",
   "execution_count": 120,
   "id": "bdcbf388",
   "metadata": {},
   "outputs": [
    {
     "data": {
      "text/plain": [
       "1987"
      ]
     },
     "execution_count": 120,
     "metadata": {},
     "output_type": "execute_result"
    }
   ],
   "source": [
    "df['built_up_area'].isnull().sum()"
   ]
  },
  {
   "cell_type": "code",
   "execution_count": 121,
   "id": "12a45722",
   "metadata": {},
   "outputs": [
    {
     "data": {
      "text/plain": [
       "count      1691.000000\n",
       "mean       2379.065659\n",
       "std       17937.583660\n",
       "min           2.000000\n",
       "25%        1100.000000\n",
       "50%        1650.000000\n",
       "75%        2400.000000\n",
       "max      737147.000000\n",
       "Name: built_up_area, dtype: float64"
      ]
     },
     "execution_count": 121,
     "metadata": {},
     "output_type": "execute_result"
    }
   ],
   "source": [
    "df['built_up_area'].describe()"
   ]
  },
  {
   "cell_type": "code",
   "execution_count": 133,
   "id": "f9911a44",
   "metadata": {},
   "outputs": [
    {
     "data": {
      "text/plain": [
       "<AxesSubplot:xlabel='built_up_area', ylabel='Count'>"
      ]
     },
     "execution_count": 133,
     "metadata": {},
     "output_type": "execute_result"
    },
    {
     "data": {
      "image/png": "[encoded data removed]",
      "text/plain": [
       "<Figure size 432x288 with 1 Axes>"
      ]
     },
     "metadata": {
      "needs_background": "light"
     },
     "output_type": "display_data"
    }
   ],
   "source": [
    "sns.histplot(df['built_up_area'].dropna(),bins=50, color='skyblue',kde=True)"
   ]
  },
  {
   "cell_type": "code",
   "execution_count": 134,
   "id": "b85002f2",
   "metadata": {},
   "outputs": [
    {
     "data": {
      "text/plain": [
       "526     13500.0\n",
       "1272    11286.0\n",
       "3024     9500.0\n",
       "2202     9000.0\n",
       "3157     9000.0\n",
       "         ...   \n",
       "3794        NaN\n",
       "3795        NaN\n",
       "3797        NaN\n",
       "3799        NaN\n",
       "3801        NaN\n",
       "Name: built_up_area, Length: 3677, dtype: float64"
      ]
     },
     "execution_count": 134,
     "metadata": {},
     "output_type": "execute_result"
    }
   ],
   "source": [
    "df['built_up_area'].sort_values(ascending=False)"
   ]
  },
  {
   "cell_type": "code",
   "execution_count": 132,
   "id": "9d8297e1",
   "metadata": {},
   "outputs": [],
   "source": [
    "df.drop(1207,inplace=True)"
   ]
  },
  {
   "cell_type": "code",
   "execution_count": 135,
   "id": "10c61307",
   "metadata": {},
   "outputs": [
    {
     "name": "stderr",
     "output_type": "stream",
     "text": [
      "/opt/anaconda3/lib/python3.8/site-packages/seaborn/_decorators.py:36: FutureWarning: Pass the following variable as a keyword arg: x. From version 0.12, the only valid positional argument will be `data`, and passing other arguments without an explicit keyword will result in an error or misinterpretation.\n",
      "  warnings.warn(\n"
     ]
    },
    {
     "data": {
      "text/plain": [
       "<AxesSubplot:xlabel='built_up_area'>"
      ]
     },
     "execution_count": 135,
     "metadata": {},
     "output_type": "execute_result"
    },
    {
     "data": {
      "image/png": "[encoded data removed]",
      "text/plain": [
       "<Figure size 432x288 with 1 Axes>"
      ]
     },
     "metadata": {
      "needs_background": "light"
     },
     "output_type": "display_data"
    }
   ],
   "source": [
    "sns.boxplot(df['built_up_area'].dropna(),color='lightgreen')"
   ]
  },
  {
   "cell_type": "code",
   "execution_count": 136,
   "id": "74dd4a19",
   "metadata": {},
   "outputs": [
    {
     "data": {
      "text/plain": [
       "1805"
      ]
     },
     "execution_count": 136,
     "metadata": {},
     "output_type": "execute_result"
    }
   ],
   "source": [
    "df['carpet_area'].isnull().sum()"
   ]
  },
  {
   "cell_type": "code",
   "execution_count": 154,
   "id": "eef2a2ad",
   "metadata": {},
   "outputs": [
    {
     "data": {
      "text/plain": [
       "count     1868.000000\n",
       "mean      1594.496808\n",
       "std       3056.436644\n",
       "min         15.000000\n",
       "25%        836.490000\n",
       "50%       1300.000000\n",
       "75%       1781.000000\n",
       "max      64412.000000\n",
       "Name: carpet_area, dtype: float64"
      ]
     },
     "execution_count": 154,
     "metadata": {},
     "output_type": "execute_result"
    }
   ],
   "source": [
    "df['carpet_area'].describe()"
   ]
  },
  {
   "cell_type": "code",
   "execution_count": 153,
   "id": "2ee7a84b",
   "metadata": {},
   "outputs": [
    {
     "data": {
      "text/plain": [
       "<AxesSubplot:xlabel='carpet_area', ylabel='Count'>"
      ]
     },
     "execution_count": 153,
     "metadata": {},
     "output_type": "execute_result"
    },
    {
     "data": {
      "image/png": "[encoded data removed]",
      "text/plain": [
       "<Figure size 432x288 with 1 Axes>"
      ]
     },
     "metadata": {
      "needs_background": "light"
     },
     "output_type": "display_data"
    }
   ],
   "source": [
    "sns.histplot(df['carpet_area'].dropna(),bins=50, color='skyblue',kde=True)"
   ]
  },
  {
   "cell_type": "code",
   "execution_count": 141,
   "id": "e123b585",
   "metadata": {},
   "outputs": [],
   "source": [
    "df.drop(1856,inplace=True)"
   ]
  },
  {
   "cell_type": "code",
   "execution_count": 145,
   "id": "e7a36992",
   "metadata": {},
   "outputs": [],
   "source": [
    "df.drop(846,inplace=True)"
   ]
  },
  {
   "cell_type": "code",
   "execution_count": 146,
   "id": "73de3d3a",
   "metadata": {},
   "outputs": [],
   "source": [
    "df.drop(2759,inplace=True)"
   ]
  },
  {
   "cell_type": "code",
   "execution_count": null,
   "id": "baf3dbff",
   "metadata": {},
   "outputs": [],
   "source": [
    "df.drop(1856,inplace=True)"
   ]
  },
  {
   "cell_type": "code",
   "execution_count": 151,
   "id": "f7490e4d",
   "metadata": {},
   "outputs": [],
   "source": [
    "df.drop(893,inplace=True)"
   ]
  },
  {
   "cell_type": "code",
   "execution_count": 152,
   "id": "d634b969",
   "metadata": {},
   "outputs": [
    {
     "data": {
      "text/plain": [
       "1066    64412.0\n",
       "1740    58141.0\n",
       "3569    54917.0\n",
       "739     48811.0\n",
       "89      45966.0\n",
       "         ...   \n",
       "3792        NaN\n",
       "3794        NaN\n",
       "3795        NaN\n",
       "3796        NaN\n",
       "3800        NaN\n",
       "Name: carpet_area, Length: 3673, dtype: float64"
      ]
     },
     "execution_count": 152,
     "metadata": {},
     "output_type": "execute_result"
    }
   ],
   "source": [
    "df['carpet_area'].sort_values(ascending=False)"
   ]
  },
  {
   "cell_type": "code",
   "execution_count": 155,
   "id": "87a1fbff",
   "metadata": {},
   "outputs": [
    {
     "data": {
      "text/html": [
       "<div>\n",
       "<style scoped>\n",
       "    .dataframe tbody tr th:only-of-type {\n",
       "        vertical-align: middle;\n",
       "    }\n",
       "\n",
       "    .dataframe tbody tr th {\n",
       "        vertical-align: top;\n",
       "    }\n",
       "\n",
       "    .dataframe thead th {\n",
       "        text-align: right;\n",
       "    }\n",
       "</style>\n",
       "<table border=\"1\" class=\"dataframe\">\n",
       "  <thead>\n",
       "    <tr style=\"text-align: right;\">\n",
       "      <th></th>\n",
       "      <th>study room</th>\n",
       "      <th>servant room</th>\n",
       "      <th>store room</th>\n",
       "      <th>pooja room</th>\n",
       "      <th>others</th>\n",
       "      <th>furnishing_type</th>\n",
       "      <th>luxury_score</th>\n",
       "    </tr>\n",
       "  </thead>\n",
       "  <tbody>\n",
       "    <tr>\n",
       "      <th>0</th>\n",
       "      <td>0</td>\n",
       "      <td>0</td>\n",
       "      <td>0</td>\n",
       "      <td>0</td>\n",
       "      <td>0</td>\n",
       "      <td>1</td>\n",
       "      <td>74</td>\n",
       "    </tr>\n",
       "    <tr>\n",
       "      <th>1</th>\n",
       "      <td>0</td>\n",
       "      <td>0</td>\n",
       "      <td>0</td>\n",
       "      <td>0</td>\n",
       "      <td>0</td>\n",
       "      <td>2</td>\n",
       "      <td>57</td>\n",
       "    </tr>\n",
       "    <tr>\n",
       "      <th>2</th>\n",
       "      <td>0</td>\n",
       "      <td>0</td>\n",
       "      <td>0</td>\n",
       "      <td>0</td>\n",
       "      <td>0</td>\n",
       "      <td>2</td>\n",
       "      <td>107</td>\n",
       "    </tr>\n",
       "    <tr>\n",
       "      <th>3</th>\n",
       "      <td>0</td>\n",
       "      <td>0</td>\n",
       "      <td>0</td>\n",
       "      <td>0</td>\n",
       "      <td>0</td>\n",
       "      <td>0</td>\n",
       "      <td>49</td>\n",
       "    </tr>\n",
       "    <tr>\n",
       "      <th>4</th>\n",
       "      <td>0</td>\n",
       "      <td>0</td>\n",
       "      <td>0</td>\n",
       "      <td>0</td>\n",
       "      <td>0</td>\n",
       "      <td>0</td>\n",
       "      <td>48</td>\n",
       "    </tr>\n",
       "    <tr>\n",
       "      <th>...</th>\n",
       "      <td>...</td>\n",
       "      <td>...</td>\n",
       "      <td>...</td>\n",
       "      <td>...</td>\n",
       "      <td>...</td>\n",
       "      <td>...</td>\n",
       "      <td>...</td>\n",
       "    </tr>\n",
       "    <tr>\n",
       "      <th>3798</th>\n",
       "      <td>0</td>\n",
       "      <td>1</td>\n",
       "      <td>0</td>\n",
       "      <td>0</td>\n",
       "      <td>0</td>\n",
       "      <td>2</td>\n",
       "      <td>174</td>\n",
       "    </tr>\n",
       "    <tr>\n",
       "      <th>3799</th>\n",
       "      <td>0</td>\n",
       "      <td>1</td>\n",
       "      <td>0</td>\n",
       "      <td>0</td>\n",
       "      <td>0</td>\n",
       "      <td>1</td>\n",
       "      <td>101</td>\n",
       "    </tr>\n",
       "    <tr>\n",
       "      <th>3800</th>\n",
       "      <td>1</td>\n",
       "      <td>0</td>\n",
       "      <td>0</td>\n",
       "      <td>0</td>\n",
       "      <td>0</td>\n",
       "      <td>1</td>\n",
       "      <td>33</td>\n",
       "    </tr>\n",
       "    <tr>\n",
       "      <th>3801</th>\n",
       "      <td>0</td>\n",
       "      <td>0</td>\n",
       "      <td>1</td>\n",
       "      <td>0</td>\n",
       "      <td>0</td>\n",
       "      <td>0</td>\n",
       "      <td>174</td>\n",
       "    </tr>\n",
       "    <tr>\n",
       "      <th>3802</th>\n",
       "      <td>0</td>\n",
       "      <td>1</td>\n",
       "      <td>0</td>\n",
       "      <td>0</td>\n",
       "      <td>0</td>\n",
       "      <td>1</td>\n",
       "      <td>49</td>\n",
       "    </tr>\n",
       "  </tbody>\n",
       "</table>\n",
       "<p>3673 rows × 7 columns</p>\n",
       "</div>"
      ],
      "text/plain": [
       "      study room  servant room  store room  pooja room  others  \\\n",
       "0              0             0           0           0       0   \n",
       "1              0             0           0           0       0   \n",
       "2              0             0           0           0       0   \n",
       "3              0             0           0           0       0   \n",
       "4              0             0           0           0       0   \n",
       "...          ...           ...         ...         ...     ...   \n",
       "3798           0             1           0           0       0   \n",
       "3799           0             1           0           0       0   \n",
       "3800           1             0           0           0       0   \n",
       "3801           0             0           1           0       0   \n",
       "3802           0             1           0           0       0   \n",
       "\n",
       "      furnishing_type  luxury_score  \n",
       "0                   1            74  \n",
       "1                   2            57  \n",
       "2                   2           107  \n",
       "3                   0            49  \n",
       "4                   0            48  \n",
       "...               ...           ...  \n",
       "3798                2           174  \n",
       "3799                1           101  \n",
       "3800                1            33  \n",
       "3801                0           174  \n",
       "3802                1            49  \n",
       "\n",
       "[3673 rows x 7 columns]"
      ]
     },
     "execution_count": 155,
     "metadata": {},
     "output_type": "execute_result"
    }
   ],
   "source": [
    "df.iloc[:,16:]"
   ]
  },
  {
   "cell_type": "markdown",
   "id": "35d160e5",
   "metadata": {},
   "source": [
    "# additionalRoom"
   ]
  },
  {
   "cell_type": "code",
   "execution_count": 157,
   "id": "41c72f09",
   "metadata": {},
   "outputs": [
    {
     "data": {
      "image/png": "[encoded data removed]",
      "text/plain": [
       "<Figure size 1440x864 with 5 Axes>"
      ]
     },
     "metadata": {},
     "output_type": "display_data"
    }
   ],
   "source": [
    "plt.figure(figsize=(20,12))\n",
    "# Create a subplot of pie charts for each room type\n",
    "for idx, room in enumerate(['study room','servant room','store room','pooja room','others'], 1):\n",
    "    ax = plt.subplot(2, 3, idx)\n",
    "    df[room].value_counts().plot.pie(autopct='%1.1f%%', startangle=90, ax=ax)\n",
    "    plt.title(f'Distribution of {room.title()}')\n",
    "    plt.ylabel('')\n",
    "\n",
    "plt.tight_layout()\n",
    "plt.show()"
   ]
  },
  {
   "cell_type": "markdown",
   "id": "4c3f9dfb",
   "metadata": {},
   "source": [
    "# furnishing_type"
   ]
  },
  {
   "cell_type": "code",
   "execution_count": 158,
   "id": "accc8e9d",
   "metadata": {},
   "outputs": [
    {
     "data": {
      "text/plain": [
       "0    2412\n",
       "1    1056\n",
       "2     205\n",
       "Name: furnishing_type, dtype: int64"
      ]
     },
     "execution_count": 158,
     "metadata": {},
     "output_type": "execute_result"
    }
   ],
   "source": [
    "df['furnishing_type'].value_counts()"
   ]
  },
  {
   "cell_type": "code",
   "execution_count": 160,
   "id": "5b5aa9fd",
   "metadata": {},
   "outputs": [
    {
     "data": {
      "text/plain": [
       "<AxesSubplot:ylabel='furnishing_type'>"
      ]
     },
     "execution_count": 160,
     "metadata": {},
     "output_type": "execute_result"
    },
    {
     "data": {
      "image/png": "[encoded data removed]",
      "text/plain": [
       "<Figure size 432x288 with 1 Axes>"
      ]
     },
     "metadata": {},
     "output_type": "display_data"
    }
   ],
   "source": [
    "df['furnishing_type'].value_counts().plot(kind='pie',autopct='%0.2f%%')"
   ]
  },
  {
   "cell_type": "code",
   "execution_count": 161,
   "id": "0aabff28",
   "metadata": {},
   "outputs": [
    {
     "data": {
      "text/plain": [
       "0"
      ]
     },
     "execution_count": 161,
     "metadata": {},
     "output_type": "execute_result"
    }
   ],
   "source": [
    "df['luxury_score'].isnull().sum()"
   ]
  },
  {
   "cell_type": "code",
   "execution_count": 162,
   "id": "41f3fd99",
   "metadata": {},
   "outputs": [
    {
     "data": {
      "text/plain": [
       "count    3673.000000\n",
       "mean       71.542336\n",
       "std        53.075807\n",
       "min         0.000000\n",
       "25%        31.000000\n",
       "50%        59.000000\n",
       "75%       110.000000\n",
       "max       174.000000\n",
       "Name: luxury_score, dtype: float64"
      ]
     },
     "execution_count": 162,
     "metadata": {},
     "output_type": "execute_result"
    }
   ],
   "source": [
    "df['luxury_score'].describe()"
   ]
  },
  {
   "cell_type": "code",
   "execution_count": 163,
   "id": "f5109c86",
   "metadata": {},
   "outputs": [
    {
     "data": {
      "text/plain": [
       "<AxesSubplot:xlabel='luxury_score', ylabel='Count'>"
      ]
     },
     "execution_count": 163,
     "metadata": {},
     "output_type": "execute_result"
    },
    {
     "data": {
      "image/png": "[encoded data removed]",
      "text/plain": [
       "<Figure size 432x288 with 1 Axes>"
      ]
     },
     "metadata": {
      "needs_background": "light"
     },
     "output_type": "display_data"
    }
   ],
   "source": [
    "sns.histplot(df['luxury_score'],bins=50, color='skyblue',kde=True)"
   ]
  },
  {
   "cell_type": "code",
   "execution_count": 164,
   "id": "666af4ac",
   "metadata": {},
   "outputs": [
    {
     "name": "stderr",
     "output_type": "stream",
     "text": [
      "/opt/anaconda3/lib/python3.8/site-packages/seaborn/_decorators.py:36: FutureWarning: Pass the following variable as a keyword arg: x. From version 0.12, the only valid positional argument will be `data`, and passing other arguments without an explicit keyword will result in an error or misinterpretation.\n",
      "  warnings.warn(\n"
     ]
    },
    {
     "data": {
      "text/plain": [
       "<AxesSubplot:xlabel='luxury_score'>"
      ]
     },
     "execution_count": 164,
     "metadata": {},
     "output_type": "execute_result"
    },
    {
     "data": {
      "image/png": "[encoded data removed]",
      "text/plain": [
       "<Figure size 432x288 with 1 Axes>"
      ]
     },
     "metadata": {
      "needs_background": "light"
     },
     "output_type": "display_data"
    }
   ],
   "source": [
    "sns.boxplot(df['luxury_score'],color='lightgreen')"
   ]
  },
  {
   "cell_type": "code",
   "execution_count": null,
   "id": "707428b2",
   "metadata": {},
   "outputs": [],
   "source": []
  }
 ],
 "metadata": {
  "kernelspec": {
   "display_name": "Python 3",
   "language": "python",
   "name": "python3"
  },
  "language_info": {
   "codemirror_mode": {
    "name": "ipython",
    "version": 3
   },
   "file_extension": ".py",
   "mimetype": "text/x-python",
   "name": "python",
   "nbconvert_exporter": "python",
   "pygments_lexer": "ipython3",
   "version": "3.8.8"
  }
 },
 "nbformat": 4,
 "nbformat_minor": 5
}
